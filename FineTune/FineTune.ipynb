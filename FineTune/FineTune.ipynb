{
 "cells": [
  {
   "cell_type": "code",
   "execution_count": 1,
   "metadata": {},
   "outputs": [
    {
     "data": {
      "text/plain": [
       "<torch._C.Generator at 0x7fe904661730>"
      ]
     },
     "execution_count": 1,
     "metadata": {},
     "output_type": "execute_result"
    }
   ],
   "source": [
    "import numpy as np\n",
    "import torch\n",
    "from torch import nn, optim\n",
    "import torch.nn.functional as F\n",
    "import math\n",
    "import time\n",
    "from torch.autograd import Variable\n",
    "import copy\n",
    "import random\n",
    "import os\n",
    "import csv\n",
    "import pandas as pd\n",
    "import torch.utils.data as Data\n",
    "from sklearn.model_selection import train_test_split\n",
    "from sklearn.metrics import r2_score\n",
    "from tqdm import tqdm\n",
    "from FineTunedModel import FineTunedModel\n",
    "from utils import BatchSampler,pad_to_same\n",
    "# from torch.utils.tensorboard import SummaryWriter\n",
    "os.environ[\"CUDA_VISIBLE_DEVICES\"] = '0'\n",
    "SEED = 126\n",
    "PAD_NUM = 0\n",
    "BATCH_SIZE = 8\n",
    "LEARNING_RATE = 2.5e-4\n",
    "random.seed(SEED)\n",
    "np.random.seed(SEED)\n",
    "torch.manual_seed(SEED)"
   ]
  },
  {
   "cell_type": "code",
   "execution_count": 2,
   "metadata": {},
   "outputs": [],
   "source": [
    "dataset_path = \"./labels.csv\"\n",
    "coord_path = \"./coordinates.npy\"\n",
    "data_path = \"./molecule.npy\"\n",
    "lattice_path = \"./lattice_new.npy\"\n",
    "\n",
    "mol = np.load(file=data_path, allow_pickle=True)\n",
    "labels = pd.read_csv(dataset_path)\n",
    "coords = np.load(file=coord_path, allow_pickle=True)\n",
    "lattice = np.load(file=lattice_path, allow_pickle=True)\n",
    "labels = labels[\"supercon\"][:].values\n",
    "\n",
    "dist = np.arange(0, 5.12, 0.01)\n",
    "for i in range(coords.shape[0]):\n",
    "    new_dis = np.zeros((coords[i].shape[0], 512))\n",
    "    for j, dis in enumerate(dist):\n",
    "        temp = coords[i] - coords[i].mean(0)\n",
    "        new_dis[:,j] = np.exp(-((np.sqrt(np.sum(temp**2, axis=1))-dis)**2)/0.25)\n",
    "    coords[i] = new_dis\n",
    "\n",
    "# original_mol_train_set, mol_test_set, original_coords_train_set, coords_test_set, original_labels_train_set, labels_test_set, original_lattice_train_set, lattice_test_set = train_test_split(mol, coords, labels, lattice, test_size=0.15, random_state=42)\n",
    "# mol_test_set, mol_eval_set, coords_test_set, coords_eval_set, labels_test_set, labels_eval_set, lattice_test_set, lattice_eval_set = train_test_split(mol_test_set, coords_test_set, labels_test_set, lattice_test_set, test_size=0.5, random_state=34)\n",
    "val = list()\n",
    "tra = list()"
   ]
  },
  {
   "cell_type": "code",
   "execution_count": null,
   "metadata": {},
   "outputs": [],
   "source": []
  },
  {
   "cell_type": "code",
   "execution_count": 7,
   "metadata": {},
   "outputs": [
    {
     "name": "stdout",
     "output_type": "stream",
     "text": [
      "(1432,)\n",
      "(253,)\n"
     ]
    }
   ],
   "source": [
    "print(original_labels_train_set.shape)\n",
    "print(labels_test_set.shape)"
   ]
  },
  {
   "cell_type": "code",
   "execution_count": 9,
   "metadata": {},
   "outputs": [],
   "source": [
    "EVALUATE = nn.CrossEntropyLoss()\n",
    "criteon = nn.CrossEntropyLoss()"
   ]
  },
  {
   "cell_type": "code",
   "execution_count": 6,
   "metadata": {},
   "outputs": [],
   "source": [
    "EVALUATE = nn.CrossEntropyLoss()\n",
    "criteon = nn.CrossEntropyLoss()\n",
    "\n",
    "def binary_acc(preds, y):\n",
    "    count = 0\n",
    "    _, p = preds.max(1)\n",
    "    for i,j in zip(p, y):\n",
    "        #print(i,j)\n",
    "        if i == j:\n",
    "            count += 1\n",
    "    return count/len(y)\n",
    "\n",
    "def train(model, iterator, optimizer, criteon):\n",
    "    avg_loss = []\n",
    "    avg_acc = []\n",
    "    avg_r2 = []\n",
    "    model.train()  # 表示进入训练模式\n",
    "\n",
    "    for i, batch_index in tqdm(enumerate(iterator)):\n",
    "        #         train_data = pad_to_same(mol_train_set[batch_index], PAD_NUM).long().cuda()\n",
    "        atom_index_data = pad_to_same(mol_train_set[batch_index], PAD_NUM).long().cuda()\n",
    "        coords_data = coords_train_set[batch_index]\n",
    "        #         print(coords_data.size,atom_index_data.size())\n",
    "\n",
    "        mask_for_set2set = (atom_index_data == PAD_NUM).type(torch.uint8)\n",
    "        mask = 1 - (atom_index_data == PAD_NUM).float()\n",
    "        #         print(train_data.shape,mask.shape)\n",
    "        pred = model(atom_index_data, coords_data, mask, mask_for_set2set)\n",
    "        loss = criteon(pred, torch.tensor(labels_train_set[batch_index],dtype=torch.long).cuda())\n",
    "        mse = binary_acc(pred, labels_train_set[batch_index])  #\n",
    "\n",
    "        avg_loss.append(loss.item())\n",
    "        avg_acc.append(mse)\n",
    "\n",
    "        optimizer.zero_grad()\n",
    "        loss.backward()\n",
    "        optimizer.step()\n",
    "        del atom_index_data\n",
    "\n",
    "    avg_acc = np.array(avg_acc).mean()\n",
    "    avg_loss = np.array(avg_loss).mean()\n",
    "    avg_r2 = np.array(avg_r2).mean()\n",
    "    return avg_loss, avg_acc, avg_r2\n",
    "\n",
    "\n",
    "# 评估函数\n",
    "def evaluate(model, iterator, criteon):\n",
    "    avg_loss = []\n",
    "    avg_acc = []\n",
    "    avg_r2 = []\n",
    "\n",
    "    model.eval()  # 表示进入测试模式\n",
    "\n",
    "    with torch.no_grad():\n",
    "        for batch_index in iterator:\n",
    "            atom_index_data = pad_to_same(mol_eval_set[batch_index], PAD_NUM).long().cuda()\n",
    "            coords_data = coords_eval_set[batch_index]\n",
    "            mask_for_set2set = (atom_index_data == PAD_NUM).type(torch.uint8)\n",
    "            mask = 1 - (atom_index_data == PAD_NUM).float()\n",
    "            #         print(train_data.shape,mask.shape)\n",
    "            pred = model(atom_index_data, coords_data, mask, mask_for_set2set)\n",
    "\n",
    "            loss = criteon(pred, torch.tensor(labels_eval_set[batch_index],dtype=torch.long).cuda())\n",
    "            mse = binary_acc(pred, labels_eval_set[batch_index])\n",
    "            r2 = 0  #r2 = r2_score(labels_eval_set[batch_index], pred.cpu())\n",
    "\n",
    "            avg_loss.append(loss.item())\n",
    "            avg_acc.append(mse)\n",
    "            avg_r2.append(r2)\n",
    "\n",
    "    avg_loss = np.array(avg_loss).mean()\n",
    "    avg_acc = np.array(avg_acc).mean()\n",
    "    avg_r2 = np.array(avg_r2).mean()\n",
    "    return avg_loss, avg_acc, avg_r2\n",
    "\n",
    "\n",
    "# 评估函数\n",
    "def test(model, iterator, criteon):\n",
    "    avg_loss = []\n",
    "    avg_acc = []\n",
    "    avg_r2 = []\n",
    "\n",
    "    model.eval()  # 表示进入测试模式\n",
    "\n",
    "    with torch.no_grad():\n",
    "        for batch_index in iterator:\n",
    "            atom_index_data = pad_to_same(mol_test_set[batch_index], PAD_NUM).long().cuda()\n",
    "            coords_data = coords_test_set[batch_index]\n",
    "            mask_for_set2set = (atom_index_data == PAD_NUM).type(torch.uint8)\n",
    "            mask = 1 - (atom_index_data == PAD_NUM).float()\n",
    "            #         print(train_data.shape,mask.shape)\n",
    "            pred = model(atom_index_data, coords_data, mask, mask_for_set2set)\n",
    "\n",
    "            loss = criteon(pred, torch.tensor(labels_test_set[batch_index],dtype=torch.long).cuda())\n",
    "            mse = binary_acc(pred, labels_test_set[batch_index])\n",
    "            r2 = 0#r2 = r2_score(labels_test_set[batch_index], pred.cpu())\n",
    "\n",
    "            avg_loss.append(loss.item())\n",
    "            avg_acc.append(mse)\n",
    "            avg_r2.append(r2)\n",
    "\n",
    "    avg_loss = np.array(avg_loss).mean()\n",
    "    avg_acc = np.array(avg_acc).mean()\n",
    "    avg_r2 = np.array(avg_r2).mean()\n",
    "    return avg_loss, avg_acc, avg_r2"
   ]
  },
  {
   "cell_type": "code",
   "execution_count": 7,
   "metadata": {},
   "outputs": [
    {
     "data": {
      "text/plain": [
       "FineTunedModel(\n",
       "  (Embedding): Embedding(\n",
       "    (embedding): Embedding(96, 512)\n",
       "  )\n",
       "  (PositionalEncoding): PositionalEncoding(\n",
       "    (dropout): Dropout(p=0.3)\n",
       "    (linear): Linear(in_features=512, out_features=512, bias=True)\n",
       "    (norm): LayerNorm(torch.Size([512]), eps=1e-05, elementwise_affine=True)\n",
       "  )\n",
       "  (atten): MultiHeadAttention(\n",
       "    (dropout): Dropout(p=0.1)\n",
       "    (linears): ModuleList(\n",
       "      (0): Linear(in_features=512, out_features=512, bias=True)\n",
       "      (1): Linear(in_features=512, out_features=512, bias=True)\n",
       "      (2): Linear(in_features=512, out_features=512, bias=True)\n",
       "      (3): Linear(in_features=512, out_features=512, bias=True)\n",
       "    )\n",
       "  )\n",
       "  (ff): PositionwiseFeedForward(\n",
       "    (w1): Linear(in_features=512, out_features=2048, bias=True)\n",
       "    (w2): Linear(in_features=2048, out_features=512, bias=True)\n",
       "    (dropout): Dropout(p=0.3)\n",
       "  )\n",
       "  (encoder): Encoder(\n",
       "    (layers): ModuleList(\n",
       "      (0): EncoderLayer(\n",
       "        (self_atten): MultiHeadAttention(\n",
       "          (dropout): Dropout(p=0.1)\n",
       "          (linears): ModuleList(\n",
       "            (0): Linear(in_features=512, out_features=512, bias=True)\n",
       "            (1): Linear(in_features=512, out_features=512, bias=True)\n",
       "            (2): Linear(in_features=512, out_features=512, bias=True)\n",
       "            (3): Linear(in_features=512, out_features=512, bias=True)\n",
       "          )\n",
       "        )\n",
       "        (feed_forward): PositionwiseFeedForward(\n",
       "          (w1): Linear(in_features=512, out_features=2048, bias=True)\n",
       "          (w2): Linear(in_features=2048, out_features=512, bias=True)\n",
       "          (dropout): Dropout(p=0.3)\n",
       "        )\n",
       "        (sublayer): ModuleList(\n",
       "          (0): SublayerConnection(\n",
       "            (norm): LayerNorm(torch.Size([512]), eps=1e-05, elementwise_affine=True)\n",
       "            (dropout): Dropout(p=0.3)\n",
       "          )\n",
       "          (1): SublayerConnection(\n",
       "            (norm): LayerNorm(torch.Size([512]), eps=1e-05, elementwise_affine=True)\n",
       "            (dropout): Dropout(p=0.3)\n",
       "          )\n",
       "        )\n",
       "      )\n",
       "      (1): EncoderLayer(\n",
       "        (self_atten): MultiHeadAttention(\n",
       "          (dropout): Dropout(p=0.1)\n",
       "          (linears): ModuleList(\n",
       "            (0): Linear(in_features=512, out_features=512, bias=True)\n",
       "            (1): Linear(in_features=512, out_features=512, bias=True)\n",
       "            (2): Linear(in_features=512, out_features=512, bias=True)\n",
       "            (3): Linear(in_features=512, out_features=512, bias=True)\n",
       "          )\n",
       "        )\n",
       "        (feed_forward): PositionwiseFeedForward(\n",
       "          (w1): Linear(in_features=512, out_features=2048, bias=True)\n",
       "          (w2): Linear(in_features=2048, out_features=512, bias=True)\n",
       "          (dropout): Dropout(p=0.3)\n",
       "        )\n",
       "        (sublayer): ModuleList(\n",
       "          (0): SublayerConnection(\n",
       "            (norm): LayerNorm(torch.Size([512]), eps=1e-05, elementwise_affine=True)\n",
       "            (dropout): Dropout(p=0.3)\n",
       "          )\n",
       "          (1): SublayerConnection(\n",
       "            (norm): LayerNorm(torch.Size([512]), eps=1e-05, elementwise_affine=True)\n",
       "            (dropout): Dropout(p=0.3)\n",
       "          )\n",
       "        )\n",
       "      )\n",
       "      (2): EncoderLayer(\n",
       "        (self_atten): MultiHeadAttention(\n",
       "          (dropout): Dropout(p=0.1)\n",
       "          (linears): ModuleList(\n",
       "            (0): Linear(in_features=512, out_features=512, bias=True)\n",
       "            (1): Linear(in_features=512, out_features=512, bias=True)\n",
       "            (2): Linear(in_features=512, out_features=512, bias=True)\n",
       "            (3): Linear(in_features=512, out_features=512, bias=True)\n",
       "          )\n",
       "        )\n",
       "        (feed_forward): PositionwiseFeedForward(\n",
       "          (w1): Linear(in_features=512, out_features=2048, bias=True)\n",
       "          (w2): Linear(in_features=2048, out_features=512, bias=True)\n",
       "          (dropout): Dropout(p=0.3)\n",
       "        )\n",
       "        (sublayer): ModuleList(\n",
       "          (0): SublayerConnection(\n",
       "            (norm): LayerNorm(torch.Size([512]), eps=1e-05, elementwise_affine=True)\n",
       "            (dropout): Dropout(p=0.3)\n",
       "          )\n",
       "          (1): SublayerConnection(\n",
       "            (norm): LayerNorm(torch.Size([512]), eps=1e-05, elementwise_affine=True)\n",
       "            (dropout): Dropout(p=0.3)\n",
       "          )\n",
       "        )\n",
       "      )\n",
       "      (3): EncoderLayer(\n",
       "        (self_atten): MultiHeadAttention(\n",
       "          (dropout): Dropout(p=0.1)\n",
       "          (linears): ModuleList(\n",
       "            (0): Linear(in_features=512, out_features=512, bias=True)\n",
       "            (1): Linear(in_features=512, out_features=512, bias=True)\n",
       "            (2): Linear(in_features=512, out_features=512, bias=True)\n",
       "            (3): Linear(in_features=512, out_features=512, bias=True)\n",
       "          )\n",
       "        )\n",
       "        (feed_forward): PositionwiseFeedForward(\n",
       "          (w1): Linear(in_features=512, out_features=2048, bias=True)\n",
       "          (w2): Linear(in_features=2048, out_features=512, bias=True)\n",
       "          (dropout): Dropout(p=0.3)\n",
       "        )\n",
       "        (sublayer): ModuleList(\n",
       "          (0): SublayerConnection(\n",
       "            (norm): LayerNorm(torch.Size([512]), eps=1e-05, elementwise_affine=True)\n",
       "            (dropout): Dropout(p=0.3)\n",
       "          )\n",
       "          (1): SublayerConnection(\n",
       "            (norm): LayerNorm(torch.Size([512]), eps=1e-05, elementwise_affine=True)\n",
       "            (dropout): Dropout(p=0.3)\n",
       "          )\n",
       "        )\n",
       "      )\n",
       "      (4): EncoderLayer(\n",
       "        (self_atten): MultiHeadAttention(\n",
       "          (dropout): Dropout(p=0.1)\n",
       "          (linears): ModuleList(\n",
       "            (0): Linear(in_features=512, out_features=512, bias=True)\n",
       "            (1): Linear(in_features=512, out_features=512, bias=True)\n",
       "            (2): Linear(in_features=512, out_features=512, bias=True)\n",
       "            (3): Linear(in_features=512, out_features=512, bias=True)\n",
       "          )\n",
       "        )\n",
       "        (feed_forward): PositionwiseFeedForward(\n",
       "          (w1): Linear(in_features=512, out_features=2048, bias=True)\n",
       "          (w2): Linear(in_features=2048, out_features=512, bias=True)\n",
       "          (dropout): Dropout(p=0.3)\n",
       "        )\n",
       "        (sublayer): ModuleList(\n",
       "          (0): SublayerConnection(\n",
       "            (norm): LayerNorm(torch.Size([512]), eps=1e-05, elementwise_affine=True)\n",
       "            (dropout): Dropout(p=0.3)\n",
       "          )\n",
       "          (1): SublayerConnection(\n",
       "            (norm): LayerNorm(torch.Size([512]), eps=1e-05, elementwise_affine=True)\n",
       "            (dropout): Dropout(p=0.3)\n",
       "          )\n",
       "        )\n",
       "      )\n",
       "      (5): EncoderLayer(\n",
       "        (self_atten): MultiHeadAttention(\n",
       "          (dropout): Dropout(p=0.1)\n",
       "          (linears): ModuleList(\n",
       "            (0): Linear(in_features=512, out_features=512, bias=True)\n",
       "            (1): Linear(in_features=512, out_features=512, bias=True)\n",
       "            (2): Linear(in_features=512, out_features=512, bias=True)\n",
       "            (3): Linear(in_features=512, out_features=512, bias=True)\n",
       "          )\n",
       "        )\n",
       "        (feed_forward): PositionwiseFeedForward(\n",
       "          (w1): Linear(in_features=512, out_features=2048, bias=True)\n",
       "          (w2): Linear(in_features=2048, out_features=512, bias=True)\n",
       "          (dropout): Dropout(p=0.3)\n",
       "        )\n",
       "        (sublayer): ModuleList(\n",
       "          (0): SublayerConnection(\n",
       "            (norm): LayerNorm(torch.Size([512]), eps=1e-05, elementwise_affine=True)\n",
       "            (dropout): Dropout(p=0.3)\n",
       "          )\n",
       "          (1): SublayerConnection(\n",
       "            (norm): LayerNorm(torch.Size([512]), eps=1e-05, elementwise_affine=True)\n",
       "            (dropout): Dropout(p=0.3)\n",
       "          )\n",
       "        )\n",
       "      )\n",
       "      (6): EncoderLayer(\n",
       "        (self_atten): MultiHeadAttention(\n",
       "          (dropout): Dropout(p=0.1)\n",
       "          (linears): ModuleList(\n",
       "            (0): Linear(in_features=512, out_features=512, bias=True)\n",
       "            (1): Linear(in_features=512, out_features=512, bias=True)\n",
       "            (2): Linear(in_features=512, out_features=512, bias=True)\n",
       "            (3): Linear(in_features=512, out_features=512, bias=True)\n",
       "          )\n",
       "        )\n",
       "        (feed_forward): PositionwiseFeedForward(\n",
       "          (w1): Linear(in_features=512, out_features=2048, bias=True)\n",
       "          (w2): Linear(in_features=2048, out_features=512, bias=True)\n",
       "          (dropout): Dropout(p=0.3)\n",
       "        )\n",
       "        (sublayer): ModuleList(\n",
       "          (0): SublayerConnection(\n",
       "            (norm): LayerNorm(torch.Size([512]), eps=1e-05, elementwise_affine=True)\n",
       "            (dropout): Dropout(p=0.3)\n",
       "          )\n",
       "          (1): SublayerConnection(\n",
       "            (norm): LayerNorm(torch.Size([512]), eps=1e-05, elementwise_affine=True)\n",
       "            (dropout): Dropout(p=0.3)\n",
       "          )\n",
       "        )\n",
       "      )\n",
       "      (7): EncoderLayer(\n",
       "        (self_atten): MultiHeadAttention(\n",
       "          (dropout): Dropout(p=0.1)\n",
       "          (linears): ModuleList(\n",
       "            (0): Linear(in_features=512, out_features=512, bias=True)\n",
       "            (1): Linear(in_features=512, out_features=512, bias=True)\n",
       "            (2): Linear(in_features=512, out_features=512, bias=True)\n",
       "            (3): Linear(in_features=512, out_features=512, bias=True)\n",
       "          )\n",
       "        )\n",
       "        (feed_forward): PositionwiseFeedForward(\n",
       "          (w1): Linear(in_features=512, out_features=2048, bias=True)\n",
       "          (w2): Linear(in_features=2048, out_features=512, bias=True)\n",
       "          (dropout): Dropout(p=0.3)\n",
       "        )\n",
       "        (sublayer): ModuleList(\n",
       "          (0): SublayerConnection(\n",
       "            (norm): LayerNorm(torch.Size([512]), eps=1e-05, elementwise_affine=True)\n",
       "            (dropout): Dropout(p=0.3)\n",
       "          )\n",
       "          (1): SublayerConnection(\n",
       "            (norm): LayerNorm(torch.Size([512]), eps=1e-05, elementwise_affine=True)\n",
       "            (dropout): Dropout(p=0.3)\n",
       "          )\n",
       "        )\n",
       "      )\n",
       "      (8): EncoderLayer(\n",
       "        (self_atten): MultiHeadAttention(\n",
       "          (dropout): Dropout(p=0.1)\n",
       "          (linears): ModuleList(\n",
       "            (0): Linear(in_features=512, out_features=512, bias=True)\n",
       "            (1): Linear(in_features=512, out_features=512, bias=True)\n",
       "            (2): Linear(in_features=512, out_features=512, bias=True)\n",
       "            (3): Linear(in_features=512, out_features=512, bias=True)\n",
       "          )\n",
       "        )\n",
       "        (feed_forward): PositionwiseFeedForward(\n",
       "          (w1): Linear(in_features=512, out_features=2048, bias=True)\n",
       "          (w2): Linear(in_features=2048, out_features=512, bias=True)\n",
       "          (dropout): Dropout(p=0.3)\n",
       "        )\n",
       "        (sublayer): ModuleList(\n",
       "          (0): SublayerConnection(\n",
       "            (norm): LayerNorm(torch.Size([512]), eps=1e-05, elementwise_affine=True)\n",
       "            (dropout): Dropout(p=0.3)\n",
       "          )\n",
       "          (1): SublayerConnection(\n",
       "            (norm): LayerNorm(torch.Size([512]), eps=1e-05, elementwise_affine=True)\n",
       "            (dropout): Dropout(p=0.3)\n",
       "          )\n",
       "        )\n",
       "      )\n",
       "      (9): EncoderLayer(\n",
       "        (self_atten): MultiHeadAttention(\n",
       "          (dropout): Dropout(p=0.1)\n",
       "          (linears): ModuleList(\n",
       "            (0): Linear(in_features=512, out_features=512, bias=True)\n",
       "            (1): Linear(in_features=512, out_features=512, bias=True)\n",
       "            (2): Linear(in_features=512, out_features=512, bias=True)\n",
       "            (3): Linear(in_features=512, out_features=512, bias=True)\n",
       "          )\n",
       "        )\n",
       "        (feed_forward): PositionwiseFeedForward(\n",
       "          (w1): Linear(in_features=512, out_features=2048, bias=True)\n",
       "          (w2): Linear(in_features=2048, out_features=512, bias=True)\n",
       "          (dropout): Dropout(p=0.3)\n",
       "        )\n",
       "        (sublayer): ModuleList(\n",
       "          (0): SublayerConnection(\n",
       "            (norm): LayerNorm(torch.Size([512]), eps=1e-05, elementwise_affine=True)\n",
       "            (dropout): Dropout(p=0.3)\n",
       "          )\n",
       "          (1): SublayerConnection(\n",
       "            (norm): LayerNorm(torch.Size([512]), eps=1e-05, elementwise_affine=True)\n",
       "            (dropout): Dropout(p=0.3)\n",
       "          )\n",
       "        )\n",
       "      )\n",
       "      (10): EncoderLayer(\n",
       "        (self_atten): MultiHeadAttention(\n",
       "          (dropout): Dropout(p=0.1)\n",
       "          (linears): ModuleList(\n",
       "            (0): Linear(in_features=512, out_features=512, bias=True)\n",
       "            (1): Linear(in_features=512, out_features=512, bias=True)\n",
       "            (2): Linear(in_features=512, out_features=512, bias=True)\n",
       "            (3): Linear(in_features=512, out_features=512, bias=True)\n",
       "          )\n",
       "        )\n",
       "        (feed_forward): PositionwiseFeedForward(\n",
       "          (w1): Linear(in_features=512, out_features=2048, bias=True)\n",
       "          (w2): Linear(in_features=2048, out_features=512, bias=True)\n",
       "          (dropout): Dropout(p=0.3)\n",
       "        )\n",
       "        (sublayer): ModuleList(\n",
       "          (0): SublayerConnection(\n",
       "            (norm): LayerNorm(torch.Size([512]), eps=1e-05, elementwise_affine=True)\n",
       "            (dropout): Dropout(p=0.3)\n",
       "          )\n",
       "          (1): SublayerConnection(\n",
       "            (norm): LayerNorm(torch.Size([512]), eps=1e-05, elementwise_affine=True)\n",
       "            (dropout): Dropout(p=0.3)\n",
       "          )\n",
       "        )\n",
       "      )\n",
       "      (11): EncoderLayer(\n",
       "        (self_atten): MultiHeadAttention(\n",
       "          (dropout): Dropout(p=0.1)\n",
       "          (linears): ModuleList(\n",
       "            (0): Linear(in_features=512, out_features=512, bias=True)\n",
       "            (1): Linear(in_features=512, out_features=512, bias=True)\n",
       "            (2): Linear(in_features=512, out_features=512, bias=True)\n",
       "            (3): Linear(in_features=512, out_features=512, bias=True)\n",
       "          )\n",
       "        )\n",
       "        (feed_forward): PositionwiseFeedForward(\n",
       "          (w1): Linear(in_features=512, out_features=2048, bias=True)\n",
       "          (w2): Linear(in_features=2048, out_features=512, bias=True)\n",
       "          (dropout): Dropout(p=0.3)\n",
       "        )\n",
       "        (sublayer): ModuleList(\n",
       "          (0): SublayerConnection(\n",
       "            (norm): LayerNorm(torch.Size([512]), eps=1e-05, elementwise_affine=True)\n",
       "            (dropout): Dropout(p=0.3)\n",
       "          )\n",
       "          (1): SublayerConnection(\n",
       "            (norm): LayerNorm(torch.Size([512]), eps=1e-05, elementwise_affine=True)\n",
       "            (dropout): Dropout(p=0.3)\n",
       "          )\n",
       "        )\n",
       "      )\n",
       "      (12): EncoderLayer(\n",
       "        (self_atten): MultiHeadAttention(\n",
       "          (dropout): Dropout(p=0.1)\n",
       "          (linears): ModuleList(\n",
       "            (0): Linear(in_features=512, out_features=512, bias=True)\n",
       "            (1): Linear(in_features=512, out_features=512, bias=True)\n",
       "            (2): Linear(in_features=512, out_features=512, bias=True)\n",
       "            (3): Linear(in_features=512, out_features=512, bias=True)\n",
       "          )\n",
       "        )\n",
       "        (feed_forward): PositionwiseFeedForward(\n",
       "          (w1): Linear(in_features=512, out_features=2048, bias=True)\n",
       "          (w2): Linear(in_features=2048, out_features=512, bias=True)\n",
       "          (dropout): Dropout(p=0.3)\n",
       "        )\n",
       "        (sublayer): ModuleList(\n",
       "          (0): SublayerConnection(\n",
       "            (norm): LayerNorm(torch.Size([512]), eps=1e-05, elementwise_affine=True)\n",
       "            (dropout): Dropout(p=0.3)\n",
       "          )\n",
       "          (1): SublayerConnection(\n",
       "            (norm): LayerNorm(torch.Size([512]), eps=1e-05, elementwise_affine=True)\n",
       "            (dropout): Dropout(p=0.3)\n",
       "          )\n",
       "        )\n",
       "      )\n",
       "      (13): EncoderLayer(\n",
       "        (self_atten): MultiHeadAttention(\n",
       "          (dropout): Dropout(p=0.1)\n",
       "          (linears): ModuleList(\n",
       "            (0): Linear(in_features=512, out_features=512, bias=True)\n",
       "            (1): Linear(in_features=512, out_features=512, bias=True)\n",
       "            (2): Linear(in_features=512, out_features=512, bias=True)\n",
       "            (3): Linear(in_features=512, out_features=512, bias=True)\n",
       "          )\n",
       "        )\n",
       "        (feed_forward): PositionwiseFeedForward(\n",
       "          (w1): Linear(in_features=512, out_features=2048, bias=True)\n",
       "          (w2): Linear(in_features=2048, out_features=512, bias=True)\n",
       "          (dropout): Dropout(p=0.3)\n",
       "        )\n",
       "        (sublayer): ModuleList(\n",
       "          (0): SublayerConnection(\n",
       "            (norm): LayerNorm(torch.Size([512]), eps=1e-05, elementwise_affine=True)\n",
       "            (dropout): Dropout(p=0.3)\n",
       "          )\n",
       "          (1): SublayerConnection(\n",
       "            (norm): LayerNorm(torch.Size([512]), eps=1e-05, elementwise_affine=True)\n",
       "            (dropout): Dropout(p=0.3)\n",
       "          )\n",
       "        )\n",
       "      )\n",
       "      (14): EncoderLayer(\n",
       "        (self_atten): MultiHeadAttention(\n",
       "          (dropout): Dropout(p=0.1)\n",
       "          (linears): ModuleList(\n",
       "            (0): Linear(in_features=512, out_features=512, bias=True)\n",
       "            (1): Linear(in_features=512, out_features=512, bias=True)\n",
       "            (2): Linear(in_features=512, out_features=512, bias=True)\n",
       "            (3): Linear(in_features=512, out_features=512, bias=True)\n",
       "          )\n",
       "        )\n",
       "        (feed_forward): PositionwiseFeedForward(\n",
       "          (w1): Linear(in_features=512, out_features=2048, bias=True)\n",
       "          (w2): Linear(in_features=2048, out_features=512, bias=True)\n",
       "          (dropout): Dropout(p=0.3)\n",
       "        )\n",
       "        (sublayer): ModuleList(\n",
       "          (0): SublayerConnection(\n",
       "            (norm): LayerNorm(torch.Size([512]), eps=1e-05, elementwise_affine=True)\n",
       "            (dropout): Dropout(p=0.3)\n",
       "          )\n",
       "          (1): SublayerConnection(\n",
       "            (norm): LayerNorm(torch.Size([512]), eps=1e-05, elementwise_affine=True)\n",
       "            (dropout): Dropout(p=0.3)\n",
       "          )\n",
       "        )\n",
       "      )\n",
       "      (15): EncoderLayer(\n",
       "        (self_atten): MultiHeadAttention(\n",
       "          (dropout): Dropout(p=0.1)\n",
       "          (linears): ModuleList(\n",
       "            (0): Linear(in_features=512, out_features=512, bias=True)\n",
       "            (1): Linear(in_features=512, out_features=512, bias=True)\n",
       "            (2): Linear(in_features=512, out_features=512, bias=True)\n",
       "            (3): Linear(in_features=512, out_features=512, bias=True)\n",
       "          )\n",
       "        )\n",
       "        (feed_forward): PositionwiseFeedForward(\n",
       "          (w1): Linear(in_features=512, out_features=2048, bias=True)\n",
       "          (w2): Linear(in_features=2048, out_features=512, bias=True)\n",
       "          (dropout): Dropout(p=0.3)\n",
       "        )\n",
       "        (sublayer): ModuleList(\n",
       "          (0): SublayerConnection(\n",
       "            (norm): LayerNorm(torch.Size([512]), eps=1e-05, elementwise_affine=True)\n",
       "            (dropout): Dropout(p=0.3)\n",
       "          )\n",
       "          (1): SublayerConnection(\n",
       "            (norm): LayerNorm(torch.Size([512]), eps=1e-05, elementwise_affine=True)\n",
       "            (dropout): Dropout(p=0.3)\n",
       "          )\n",
       "        )\n",
       "      )\n",
       "      (16): EncoderLayer(\n",
       "        (self_atten): MultiHeadAttention(\n",
       "          (dropout): Dropout(p=0.1)\n",
       "          (linears): ModuleList(\n",
       "            (0): Linear(in_features=512, out_features=512, bias=True)\n",
       "            (1): Linear(in_features=512, out_features=512, bias=True)\n",
       "            (2): Linear(in_features=512, out_features=512, bias=True)\n",
       "            (3): Linear(in_features=512, out_features=512, bias=True)\n",
       "          )\n",
       "        )\n",
       "        (feed_forward): PositionwiseFeedForward(\n",
       "          (w1): Linear(in_features=512, out_features=2048, bias=True)\n",
       "          (w2): Linear(in_features=2048, out_features=512, bias=True)\n",
       "          (dropout): Dropout(p=0.3)\n",
       "        )\n",
       "        (sublayer): ModuleList(\n",
       "          (0): SublayerConnection(\n",
       "            (norm): LayerNorm(torch.Size([512]), eps=1e-05, elementwise_affine=True)\n",
       "            (dropout): Dropout(p=0.3)\n",
       "          )\n",
       "          (1): SublayerConnection(\n",
       "            (norm): LayerNorm(torch.Size([512]), eps=1e-05, elementwise_affine=True)\n",
       "            (dropout): Dropout(p=0.3)\n",
       "          )\n",
       "        )\n",
       "      )\n",
       "      (17): EncoderLayer(\n",
       "        (self_atten): MultiHeadAttention(\n",
       "          (dropout): Dropout(p=0.1)\n",
       "          (linears): ModuleList(\n",
       "            (0): Linear(in_features=512, out_features=512, bias=True)\n",
       "            (1): Linear(in_features=512, out_features=512, bias=True)\n",
       "            (2): Linear(in_features=512, out_features=512, bias=True)\n",
       "            (3): Linear(in_features=512, out_features=512, bias=True)\n",
       "          )\n",
       "        )\n",
       "        (feed_forward): PositionwiseFeedForward(\n",
       "          (w1): Linear(in_features=512, out_features=2048, bias=True)\n",
       "          (w2): Linear(in_features=2048, out_features=512, bias=True)\n",
       "          (dropout): Dropout(p=0.3)\n",
       "        )\n",
       "        (sublayer): ModuleList(\n",
       "          (0): SublayerConnection(\n",
       "            (norm): LayerNorm(torch.Size([512]), eps=1e-05, elementwise_affine=True)\n",
       "            (dropout): Dropout(p=0.3)\n",
       "          )\n",
       "          (1): SublayerConnection(\n",
       "            (norm): LayerNorm(torch.Size([512]), eps=1e-05, elementwise_affine=True)\n",
       "            (dropout): Dropout(p=0.3)\n",
       "          )\n",
       "        )\n",
       "      )\n",
       "      (18): EncoderLayer(\n",
       "        (self_atten): MultiHeadAttention(\n",
       "          (dropout): Dropout(p=0.1)\n",
       "          (linears): ModuleList(\n",
       "            (0): Linear(in_features=512, out_features=512, bias=True)\n",
       "            (1): Linear(in_features=512, out_features=512, bias=True)\n",
       "            (2): Linear(in_features=512, out_features=512, bias=True)\n",
       "            (3): Linear(in_features=512, out_features=512, bias=True)\n",
       "          )\n",
       "        )\n",
       "        (feed_forward): PositionwiseFeedForward(\n",
       "          (w1): Linear(in_features=512, out_features=2048, bias=True)\n",
       "          (w2): Linear(in_features=2048, out_features=512, bias=True)\n",
       "          (dropout): Dropout(p=0.3)\n",
       "        )\n",
       "        (sublayer): ModuleList(\n",
       "          (0): SublayerConnection(\n",
       "            (norm): LayerNorm(torch.Size([512]), eps=1e-05, elementwise_affine=True)\n",
       "            (dropout): Dropout(p=0.3)\n",
       "          )\n",
       "          (1): SublayerConnection(\n",
       "            (norm): LayerNorm(torch.Size([512]), eps=1e-05, elementwise_affine=True)\n",
       "            (dropout): Dropout(p=0.3)\n",
       "          )\n",
       "        )\n",
       "      )\n",
       "      (19): EncoderLayer(\n",
       "        (self_atten): MultiHeadAttention(\n",
       "          (dropout): Dropout(p=0.1)\n",
       "          (linears): ModuleList(\n",
       "            (0): Linear(in_features=512, out_features=512, bias=True)\n",
       "            (1): Linear(in_features=512, out_features=512, bias=True)\n",
       "            (2): Linear(in_features=512, out_features=512, bias=True)\n",
       "            (3): Linear(in_features=512, out_features=512, bias=True)\n",
       "          )\n",
       "        )\n",
       "        (feed_forward): PositionwiseFeedForward(\n",
       "          (w1): Linear(in_features=512, out_features=2048, bias=True)\n",
       "          (w2): Linear(in_features=2048, out_features=512, bias=True)\n",
       "          (dropout): Dropout(p=0.3)\n",
       "        )\n",
       "        (sublayer): ModuleList(\n",
       "          (0): SublayerConnection(\n",
       "            (norm): LayerNorm(torch.Size([512]), eps=1e-05, elementwise_affine=True)\n",
       "            (dropout): Dropout(p=0.3)\n",
       "          )\n",
       "          (1): SublayerConnection(\n",
       "            (norm): LayerNorm(torch.Size([512]), eps=1e-05, elementwise_affine=True)\n",
       "            (dropout): Dropout(p=0.3)\n",
       "          )\n",
       "        )\n",
       "      )\n",
       "    )\n",
       "    (norm): LayerNorm(torch.Size([512]), eps=1e-05, elementwise_affine=True)\n",
       "  )\n",
       "  (set2set): Set2Set(\n",
       "    (LSTMCell): LSTMCell(1024, 512)\n",
       "  )\n",
       "  (regression_supercon): Regression_fun(\n",
       "    (fc1): Linear(in_features=1024, out_features=1536, bias=True)\n",
       "    (fc2): Linear(in_features=1536, out_features=819, bias=True)\n",
       "    (fc3): Linear(in_features=819, out_features=409, bias=True)\n",
       "    (fc4): Linear(in_features=409, out_features=2, bias=True)\n",
       "  )\n",
       ")"
      ]
     },
     "execution_count": 7,
     "metadata": {},
     "output_type": "execute_result"
    }
   ],
   "source": [
    "best_valid_acc = 0\n",
    "fineTuneModel = FineTunedModel()\n",
    "for param in fineTuneModel.parameters():\n",
    "    if param.dim() > 1:\n",
    "        nn.init.kaiming_normal_(param)\n",
    "fineTunedModel_dic = fineTuneModel.state_dict()\n",
    "pretrained_dic = torch.load(\"fineTuneModel.pt\")  # fineTuneModel.pt: 预训练模型\n",
    "common_param_dic = {k:v for k,v in pretrained_dic.items() if k in fineTunedModel_dic}\n",
    "fineTunedModel_dic.update(common_param_dic)\n",
    "fineTuneModel.load_state_dict(fineTunedModel_dic)\n",
    "optimizer = optim.Adam(fineTuneModel.parameters(), lr=2.5e-4, weight_decay=0.0001)\n",
    "count = 0\n",
    "out = 0\n",
    "val = list()\n",
    "tra = list()\n",
    "fineTuneModel.cuda()"
   ]
  },
  {
   "cell_type": "code",
   "execution_count": 8,
   "metadata": {},
   "outputs": [
    {
     "name": "stdout",
     "output_type": "stream",
     "text": [
      "tensor([[1, 1, 1,  ..., 1, 1, 1],\n",
      "        [1, 1, 1,  ..., 1, 1, 1],\n",
      "        [1, 1, 1,  ..., 1, 1, 1],\n",
      "        ...,\n",
      "        [1, 1, 1,  ..., 1, 1, 1],\n",
      "        [1, 1, 1,  ..., 1, 1, 1],\n",
      "        [1, 1, 1,  ..., 1, 1, 1]], device='cuda:0', dtype=torch.uint8)\n"
     ]
    }
   ],
   "source": [
    "print(fineTuneModel.state_dict()[\"encoder.layers.17.self_atten.linears.0.weight\"] == pretrained_dic[\"encoder.layers.17.self_atten.linears.0.weight\"].cuda())\n",
    "# print(fineTuneModel.state_dict()[\"encoder.layers.17.self_atten.linears.0.weight\"].device)"
   ]
  },
  {
   "cell_type": "markdown",
   "metadata": {},
   "source": [
    "# CrossEval_Choose_HyperParam"
   ]
  },
  {
   "cell_type": "code",
   "execution_count": 17,
   "metadata": {},
   "outputs": [],
   "source": [
    "num_folds = 5\n",
    "cv_mol_train_set,cv_coords_train_set,cv_labels_train_set = np.array_split(original_mol_train_set,num_folds),np.array_split(original_coords_train_set,num_folds),np.array_split(original_labels_train_set,num_folds)"
   ]
  },
  {
   "cell_type": "code",
   "execution_count": 38,
   "metadata": {},
   "outputs": [
    {
     "name": "stdout",
     "output_type": "stream",
     "text": [
      "5 5 5\n",
      "(1145,) (287,)\n",
      "(1145,) (287,)\n",
      "(1145,) (287,)\n"
     ]
    }
   ],
   "source": [
    "print(len(cv_mol_train_set),len(cv_coords_train_set),len(cv_labels_train_set))\n",
    "test_data = np.delete(cv_labels_train_set,1,axis=0)\n",
    "test_data = np.concatenate(test_data,axis=0)\n",
    "# print(test_data.shape)\n",
    "# print(cv_mol_train_set[1].shape)\n",
    "# print(original_mol_train_set.shape)\n",
    "fold_index = 0\n",
    "mol_train_set,coords_train_set,labels_train_set = np.delete(cv_mol_train_set,fold_index,0),np.delete(cv_coords_train_set,fold_index,0), np.delete(cv_labels_train_set,fold_index,0)\n",
    "mol_train_set,coords_train_set,labels_train_set = np.concatenate(mol_train_set,axis=0),np.concatenate(coords_train_set,axis=0),np.concatenate(labels_train_set,axis=0)\n",
    "mol_eval_set,coords_eval_set,labels_eval_set = cv_mol_train_set[fold_index],cv_coords_train_set[fold_index],cv_labels_train_set[fold_index]\n",
    "print(mol_train_set.shape,mol_eval_set.shape)\n",
    "print(coords_train_set.shape,coords_eval_set.shape)\n",
    "print(labels_train_set.shape,labels_eval_set.shape)"
   ]
  },
  {
   "cell_type": "code",
   "execution_count": null,
   "metadata": {},
   "outputs": [],
   "source": [
    "test_acc = {} # fold_index: test_acc\n",
    "\n",
    "for fold_index in range(num_folds):\n",
    "    mol_train_set,coords_train_set,labels_train_set = np.delete(cv_mol_train_set,fold_index,0),np.delete(cv_coords_train_set,fold_index,0), np.delete(cv_labels_train_set,fold_index,0)\n",
    "    mol_train_set,coords_train_set,labels_train_set = np.concatenate(mol_train_set,axis=0),np.concatenate(coords_train_set,axis=0),np.concatenate(labels_train_set,axis=0)\n",
    "    mol_eval_set,coords_eval_set,labels_eval_set = cv_mol_train_set[fold_index],cv_coords_train_set[fold_index],cv_labels_train_set[fold_index]\n",
    "    for epoch in range(50):\n",
    "        train_batch = BatchSampler(BATCH_SIZE, mol_train_set)\n",
    "        eval_batch = BatchSampler(BATCH_SIZE, mol_eval_set)\n",
    "        test_batch = BatchSampler(BATCH_SIZE, mol_test_set)    \n",
    "        train_iterator = iter(train_batch)\n",
    "        "
   ]
  },
  {
   "cell_type": "markdown",
   "metadata": {},
   "source": [
    "# CrossEval_Cal"
   ]
  },
  {
   "cell_type": "code",
   "execution_count": 43,
   "metadata": {},
   "outputs": [
    {
     "name": "stdout",
     "output_type": "stream",
     "text": [
      "(1348,) (337,)\n",
      "(1348,) (337,)\n",
      "(1348,) (337,)\n"
     ]
    }
   ],
   "source": [
    "mol_data,coords_data,labels_data = np.array_split(mol,num_folds),np.array_split(coords,num_folds),np.array_split(labels,num_folds)\n",
    "num_folds,test_acc = 5,{} # fold_index: test_acc\n",
    "writer = SummaryWriter(\"accRecord\")\n",
    "for fold_index in range(num_folds):\n",
    "    mol_train_set,coords_train_set,labels_train_set = np.delete(mol_data,fold_index,0),np.delete(coords_data,fold_index,0),np.delete(labels_data,fold_index,0)\n",
    "    mol_train_set,coords_train_set,labels_train_set = np.concatenate(mol_train_set,0),np.concatenate(coords_train_set,0),np.concatenate(labels_train_set,0)\n",
    "    mol_test_set,coords_test_set,labels_test_set = mol_data[fold_index],coords_data[fold_index],labels_data[fold_index]\n",
    "    # print(mol_train_set.shape,mol_test_set.shape) print(coords_train_set.shape,coords_test_set.shape) print(labels_train_set.shape,labels_test_set.shape)\n",
    "    for epoch in range(100):\n",
    "        train_batch = BatchSampler(BATCH_SIZE, mol_train_set)\n",
    "        test_batch = BatchSampler(BATCH_SIZE, mol_test_set)\n",
    "        train_iterator = iter(train_batch)\n",
    "        start_time = time.time()\n",
    "        train_loss, train_acc, train_r2 = train(fineTuneModel, train_iterator, optimizer, criteon)\n",
    "        end_time = time.time()\n",
    "        epoch_mins, epoch_secs = divmod(end_time - start_time, 60)\n",
    "        print(f'Fold_index:{num_fold+1} | Epoch: {epoch + 1:02} | Epoch Time: {epoch_mins}m {epoch_secs:.2f}s')\n",
    "        print(f'\\tTrain Loss: {train_loss:.3f} | Train ACC: {train_acc} | Train R2: {train_r2}')\n",
    "        writer.add_scalar(f'acc_{num_fold+1}',train_acc,epoch)\n",
    "    test_batch = BatchSampler(BATCH_SIZE, mol_test_set)\n",
    "    test_iterator = iter(test_batch)\n",
    "    test_loss, test_acc, test_r2 = test(fineTuneModel, test_iterator, criteon)\n",
    "    test_acc.setdefault(num_fold,test_loss)\n",
    "    print(f'\\t Fold_index:{num_fold+1}\\tTest. Loss: {test_loss:.3f} |  TEST. ACC: {test_acc}| test. R2: {test_r2}')\n",
    "writer.close()"
   ]
  },
  {
   "cell_type": "markdown",
   "metadata": {},
   "source": [
    "# FormalTrain"
   ]
  },
  {
   "cell_type": "code",
   "execution_count": null,
   "metadata": {},
   "outputs": [
    {
     "name": "stderr",
     "output_type": "stream",
     "text": [
      "183it [00:20,  9.13it/s]\n",
      "/opt/anaconda3/lib/python3.7/site-packages/ipykernel_launcher.py:42: RuntimeWarning: Mean of empty slice.\n",
      "/opt/anaconda3/lib/python3.7/site-packages/numpy/core/_methods.py:170: RuntimeWarning: invalid value encountered in double_scalars\n",
      "  ret = ret.dtype.type(ret / rcount)\n",
      "1it [00:00,  8.96it/s]"
     ]
    },
    {
     "name": "stdout",
     "output_type": "stream",
     "text": [
      "Epoch: 01 | Epoch Time: 0.0m 20.40s\n",
      "\tTrain Loss: 0.437 | Train ACC: 0.7889344262295082 | Train R2: nan\n",
      "\t Val. Loss: 0.373 |  Val. ACC: 0.8303571428571429| Val. R2: 0.0\n",
      "0.8303571428571429\n"
     ]
    },
    {
     "name": "stderr",
     "output_type": "stream",
     "text": [
      "183it [00:19,  9.17it/s]\n",
      "1it [00:00,  9.78it/s]"
     ]
    },
    {
     "name": "stdout",
     "output_type": "stream",
     "text": [
      "Epoch: 02 | Epoch Time: 0.0m 20.34s\n",
      "\tTrain Loss: 0.321 | Train ACC: 0.8604280510018214 | Train R2: nan\n",
      "\t Val. Loss: 0.326 |  Val. ACC: 0.8660714285714286| Val. R2: 0.0\n",
      "0.8660714285714286\n"
     ]
    },
    {
     "name": "stderr",
     "output_type": "stream",
     "text": [
      "183it [00:17, 10.21it/s]\n",
      "2it [00:00, 11.84it/s]"
     ]
    },
    {
     "name": "stdout",
     "output_type": "stream",
     "text": [
      "Epoch: 03 | Epoch Time: 0.0m 18.27s\n",
      "\tTrain Loss: 0.226 | Train ACC: 0.9002732240437158 | Train R2: nan\n",
      "\t Val. Loss: 0.364 |  Val. ACC: 0.9017857142857143| Val. R2: 0.0\n",
      "0.9017857142857143\n"
     ]
    },
    {
     "name": "stderr",
     "output_type": "stream",
     "text": [
      "183it [00:15, 11.79it/s]\n",
      "2it [00:00, 13.15it/s]"
     ]
    },
    {
     "name": "stdout",
     "output_type": "stream",
     "text": [
      "Epoch: 04 | Epoch Time: 0.0m 15.82s\n",
      "\tTrain Loss: 0.184 | Train ACC: 0.9171220400728597 | Train R2: nan\n",
      "\t Val. Loss: 0.535 |  Val. ACC: 0.8482142857142857| Val. R2: 0.0\n",
      "0.9017857142857143\n"
     ]
    },
    {
     "name": "stderr",
     "output_type": "stream",
     "text": [
      "183it [00:15, 11.88it/s]\n"
     ]
    },
    {
     "name": "stdout",
     "output_type": "stream",
     "text": [
      "Epoch: 05 | Epoch Time: 0.0m 15.71s\n",
      "\tTrain Loss: 0.142 | Train ACC: 0.9453551912568307 | Train R2: nan\n",
      "\t Val. Loss: 0.491 |  Val. ACC: 0.8660714285714286| Val. R2: 0.0\n",
      "0.9017857142857143\n"
     ]
    },
    {
     "name": "stderr",
     "output_type": "stream",
     "text": [
      "2it [00:00, 12.66it/s]"
     ]
    },
    {
     "name": "stdout",
     "output_type": "stream",
     "text": [
      "\t Test. Loss: 0.464 |  TEST. ACC: 0.9081632653061223| test. R2: 0.0\n"
     ]
    },
    {
     "name": "stderr",
     "output_type": "stream",
     "text": [
      "183it [00:16, 10.99it/s]\n",
      "2it [00:00, 10.77it/s]"
     ]
    },
    {
     "name": "stdout",
     "output_type": "stream",
     "text": [
      "Epoch: 06 | Epoch Time: 0.0m 16.95s\n",
      "\tTrain Loss: 0.111 | Train ACC: 0.9546903460837886 | Train R2: nan\n",
      "\t Val. Loss: 0.698 |  Val. ACC: 0.8839285714285714| Val. R2: 0.0\n",
      "0.9017857142857143\n"
     ]
    },
    {
     "name": "stderr",
     "output_type": "stream",
     "text": [
      "183it [00:17, 10.38it/s]\n",
      "2it [00:00, 13.10it/s]"
     ]
    },
    {
     "name": "stdout",
     "output_type": "stream",
     "text": [
      "Epoch: 07 | Epoch Time: 0.0m 17.98s\n",
      "\tTrain Loss: 0.078 | Train ACC: 0.9692622950819673 | Train R2: nan\n",
      "\t Val. Loss: 0.585 |  Val. ACC: 0.8482142857142857| Val. R2: 0.0\n",
      "0.9017857142857143\n"
     ]
    },
    {
     "name": "stderr",
     "output_type": "stream",
     "text": [
      "183it [00:16, 11.31it/s]\n",
      "2it [00:00, 13.56it/s]"
     ]
    },
    {
     "name": "stdout",
     "output_type": "stream",
     "text": [
      "Epoch: 08 | Epoch Time: 0.0m 16.53s\n",
      "\tTrain Loss: 0.071 | Train ACC: 0.9706284153005464 | Train R2: nan\n",
      "\t Val. Loss: 0.672 |  Val. ACC: 0.8660714285714286| Val. R2: 0.0\n",
      "0.9017857142857143\n"
     ]
    },
    {
     "name": "stderr",
     "output_type": "stream",
     "text": [
      "183it [00:15, 12.03it/s]\n",
      "2it [00:00, 11.31it/s]"
     ]
    },
    {
     "name": "stdout",
     "output_type": "stream",
     "text": [
      "Epoch: 09 | Epoch Time: 0.0m 15.51s\n",
      "\tTrain Loss: 0.063 | Train ACC: 0.9774590163934426 | Train R2: nan\n",
      "\t Val. Loss: 0.737 |  Val. ACC: 0.8839285714285714| Val. R2: 0.0\n",
      "0.9017857142857143\n"
     ]
    },
    {
     "name": "stderr",
     "output_type": "stream",
     "text": [
      "183it [00:15, 11.95it/s]\n"
     ]
    },
    {
     "name": "stdout",
     "output_type": "stream",
     "text": [
      "Epoch: 10 | Epoch Time: 0.0m 15.63s\n",
      "\tTrain Loss: 0.057 | Train ACC: 0.976775956284153 | Train R2: nan\n",
      "\t Val. Loss: 0.803 |  Val. ACC: 0.8660714285714286| Val. R2: 0.0\n",
      "0.9017857142857143\n"
     ]
    },
    {
     "name": "stderr",
     "output_type": "stream",
     "text": [
      "2it [00:00, 11.65it/s]"
     ]
    },
    {
     "name": "stdout",
     "output_type": "stream",
     "text": [
      "\t Test. Loss: 0.632 |  TEST. ACC: 0.8813775510204082| test. R2: 0.0\n"
     ]
    },
    {
     "name": "stderr",
     "output_type": "stream",
     "text": [
      "183it [00:15, 11.85it/s]\n",
      "2it [00:00, 11.37it/s]"
     ]
    },
    {
     "name": "stdout",
     "output_type": "stream",
     "text": [
      "Epoch: 11 | Epoch Time: 0.0m 15.75s\n",
      "\tTrain Loss: 0.035 | Train ACC: 0.9874772313296902 | Train R2: nan\n",
      "\t Val. Loss: 0.883 |  Val. ACC: 0.8660714285714286| Val. R2: 0.0\n",
      "0.9017857142857143\n"
     ]
    },
    {
     "name": "stderr",
     "output_type": "stream",
     "text": [
      "183it [00:18,  9.86it/s]\n",
      "2it [00:00, 13.00it/s]"
     ]
    },
    {
     "name": "stdout",
     "output_type": "stream",
     "text": [
      "Epoch: 12 | Epoch Time: 0.0m 18.90s\n",
      "\tTrain Loss: 0.058 | Train ACC: 0.9788251366120219 | Train R2: nan\n",
      "\t Val. Loss: 0.672 |  Val. ACC: 0.8928571428571429| Val. R2: 0.0\n",
      "0.9017857142857143\n"
     ]
    },
    {
     "name": "stderr",
     "output_type": "stream",
     "text": [
      "183it [00:17, 10.54it/s]\n",
      "2it [00:00, 12.00it/s]"
     ]
    },
    {
     "name": "stdout",
     "output_type": "stream",
     "text": [
      "Epoch: 13 | Epoch Time: 0.0m 17.69s\n",
      "\tTrain Loss: 0.041 | Train ACC: 0.9890710382513661 | Train R2: nan\n",
      "\t Val. Loss: 0.676 |  Val. ACC: 0.8839285714285714| Val. R2: 0.0\n",
      "0.9017857142857143\n"
     ]
    },
    {
     "name": "stderr",
     "output_type": "stream",
     "text": [
      "183it [00:16, 10.83it/s]\n",
      "2it [00:00, 12.11it/s]"
     ]
    },
    {
     "name": "stdout",
     "output_type": "stream",
     "text": [
      "Epoch: 14 | Epoch Time: 0.0m 17.20s\n",
      "\tTrain Loss: 0.033 | Train ACC: 0.9890710382513661 | Train R2: nan\n",
      "\t Val. Loss: 0.754 |  Val. ACC: 0.8660714285714286| Val. R2: 0.0\n",
      "0.9017857142857143\n"
     ]
    },
    {
     "name": "stderr",
     "output_type": "stream",
     "text": [
      "183it [00:16, 10.85it/s]\n"
     ]
    },
    {
     "name": "stdout",
     "output_type": "stream",
     "text": [
      "Epoch: 15 | Epoch Time: 0.0m 17.16s\n",
      "\tTrain Loss: 0.042 | Train ACC: 0.9849726775956285 | Train R2: nan\n",
      "\t Val. Loss: 0.635 |  Val. ACC: 0.8928571428571429| Val. R2: 0.0\n",
      "0.9017857142857143\n"
     ]
    },
    {
     "name": "stderr",
     "output_type": "stream",
     "text": [
      "1it [00:00,  9.25it/s]"
     ]
    },
    {
     "name": "stdout",
     "output_type": "stream",
     "text": [
      "\t Test. Loss: 0.628 |  TEST. ACC: 0.9285714285714286| test. R2: 0.0\n"
     ]
    },
    {
     "name": "stderr",
     "output_type": "stream",
     "text": [
      "183it [00:16, 10.90it/s]\n",
      "2it [00:00, 11.94it/s]"
     ]
    },
    {
     "name": "stdout",
     "output_type": "stream",
     "text": [
      "Epoch: 16 | Epoch Time: 0.0m 17.08s\n",
      "\tTrain Loss: 0.030 | Train ACC: 0.9890710382513661 | Train R2: nan\n",
      "\t Val. Loss: 0.865 |  Val. ACC: 0.8571428571428571| Val. R2: 0.0\n",
      "0.9017857142857143\n"
     ]
    },
    {
     "name": "stderr",
     "output_type": "stream",
     "text": [
      "183it [00:17, 10.38it/s]\n",
      "2it [00:00, 10.65it/s]"
     ]
    },
    {
     "name": "stdout",
     "output_type": "stream",
     "text": [
      "Epoch: 17 | Epoch Time: 0.0m 17.94s\n",
      "\tTrain Loss: 0.025 | Train ACC: 0.9924863387978142 | Train R2: nan\n",
      "\t Val. Loss: 0.994 |  Val. ACC: 0.8839285714285714| Val. R2: 0.0\n",
      "0.9017857142857143\n"
     ]
    },
    {
     "name": "stderr",
     "output_type": "stream",
     "text": [
      "183it [00:17, 10.41it/s]\n",
      "2it [00:00, 12.09it/s]"
     ]
    },
    {
     "name": "stdout",
     "output_type": "stream",
     "text": [
      "Epoch: 18 | Epoch Time: 0.0m 17.93s\n",
      "\tTrain Loss: 0.011 | Train ACC: 0.9952185792349727 | Train R2: nan\n",
      "\t Val. Loss: 1.248 |  Val. ACC: 0.875| Val. R2: 0.0\n",
      "0.9017857142857143\n"
     ]
    },
    {
     "name": "stderr",
     "output_type": "stream",
     "text": [
      "183it [00:16, 10.78it/s]\n",
      "2it [00:00, 12.80it/s]"
     ]
    },
    {
     "name": "stdout",
     "output_type": "stream",
     "text": [
      "Epoch: 19 | Epoch Time: 0.0m 17.28s\n",
      "\tTrain Loss: 0.037 | Train ACC: 0.9877049180327869 | Train R2: nan\n",
      "\t Val. Loss: 1.034 |  Val. ACC: 0.875| Val. R2: 0.0\n",
      "0.9017857142857143\n"
     ]
    },
    {
     "name": "stderr",
     "output_type": "stream",
     "text": [
      "183it [00:18,  9.98it/s]\n"
     ]
    },
    {
     "name": "stdout",
     "output_type": "stream",
     "text": [
      "Epoch: 20 | Epoch Time: 0.0m 18.68s\n",
      "\tTrain Loss: 0.030 | Train ACC: 0.9904371584699454 | Train R2: nan\n",
      "\t Val. Loss: 0.948 |  Val. ACC: 0.8660714285714286| Val. R2: 0.0\n",
      "0.9017857142857143\n"
     ]
    },
    {
     "name": "stderr",
     "output_type": "stream",
     "text": [
      "1it [00:00,  9.38it/s]"
     ]
    },
    {
     "name": "stdout",
     "output_type": "stream",
     "text": [
      "\t Test. Loss: 0.790 |  TEST. ACC: 0.8928571428571429| test. R2: 0.0\n"
     ]
    },
    {
     "name": "stderr",
     "output_type": "stream",
     "text": [
      "183it [00:15, 11.78it/s]\n",
      "2it [00:00, 13.26it/s]"
     ]
    },
    {
     "name": "stdout",
     "output_type": "stream",
     "text": [
      "Epoch: 21 | Epoch Time: 0.0m 15.85s\n",
      "\tTrain Loss: 0.018 | Train ACC: 0.9936247723132968 | Train R2: nan\n",
      "\t Val. Loss: 0.890 |  Val. ACC: 0.8839285714285714| Val. R2: 0.0\n",
      "0.9017857142857143\n"
     ]
    },
    {
     "name": "stderr",
     "output_type": "stream",
     "text": [
      "183it [00:15, 11.82it/s]\n",
      "2it [00:00, 13.53it/s]"
     ]
    },
    {
     "name": "stdout",
     "output_type": "stream",
     "text": [
      "Epoch: 22 | Epoch Time: 0.0m 15.79s\n",
      "\tTrain Loss: 0.044 | Train ACC: 0.9870218579234973 | Train R2: nan\n",
      "\t Val. Loss: 1.280 |  Val. ACC: 0.875| Val. R2: 0.0\n",
      "0.9017857142857143\n"
     ]
    },
    {
     "name": "stderr",
     "output_type": "stream",
     "text": [
      "183it [00:15, 11.94it/s]\n",
      "2it [00:00, 11.70it/s]"
     ]
    },
    {
     "name": "stdout",
     "output_type": "stream",
     "text": [
      "Epoch: 23 | Epoch Time: 0.0m 15.64s\n",
      "\tTrain Loss: 0.026 | Train ACC: 0.9918032786885246 | Train R2: nan\n",
      "\t Val. Loss: 0.943 |  Val. ACC: 0.8839285714285714| Val. R2: 0.0\n",
      "0.9017857142857143\n"
     ]
    },
    {
     "name": "stderr",
     "output_type": "stream",
     "text": [
      "183it [00:15, 11.91it/s]\n",
      "1it [00:00,  8.26it/s]"
     ]
    },
    {
     "name": "stdout",
     "output_type": "stream",
     "text": [
      "Epoch: 24 | Epoch Time: 0.0m 15.66s\n",
      "\tTrain Loss: 0.023 | Train ACC: 0.9890710382513661 | Train R2: nan\n",
      "\t Val. Loss: 0.834 |  Val. ACC: 0.8482142857142857| Val. R2: 0.0\n",
      "0.9017857142857143\n"
     ]
    },
    {
     "name": "stderr",
     "output_type": "stream",
     "text": [
      "183it [00:15, 11.77it/s]\n"
     ]
    },
    {
     "name": "stdout",
     "output_type": "stream",
     "text": [
      "Epoch: 25 | Epoch Time: 0.0m 15.86s\n",
      "\tTrain Loss: 0.017 | Train ACC: 0.9938524590163934 | Train R2: nan\n",
      "\t Val. Loss: 0.995 |  Val. ACC: 0.8928571428571429| Val. R2: 0.0\n",
      "0.9017857142857143\n"
     ]
    },
    {
     "name": "stderr",
     "output_type": "stream",
     "text": [
      "2it [00:00,  9.99it/s]"
     ]
    },
    {
     "name": "stdout",
     "output_type": "stream",
     "text": [
      "\t Test. Loss: 0.765 |  TEST. ACC: 0.8915816326530612| test. R2: 0.0\n"
     ]
    },
    {
     "name": "stderr",
     "output_type": "stream",
     "text": [
      "183it [00:15, 11.85it/s]\n",
      "2it [00:00, 13.59it/s]"
     ]
    },
    {
     "name": "stdout",
     "output_type": "stream",
     "text": [
      "Epoch: 26 | Epoch Time: 0.0m 15.75s\n",
      "\tTrain Loss: 0.022 | Train ACC: 0.9931693989071039 | Train R2: nan\n",
      "\t Val. Loss: 1.008 |  Val. ACC: 0.8839285714285714| Val. R2: 0.0\n",
      "0.9017857142857143\n"
     ]
    },
    {
     "name": "stderr",
     "output_type": "stream",
     "text": [
      "183it [00:15, 11.78it/s]\n",
      "1it [00:00,  6.63it/s]"
     ]
    },
    {
     "name": "stdout",
     "output_type": "stream",
     "text": [
      "Epoch: 27 | Epoch Time: 0.0m 15.84s\n",
      "\tTrain Loss: 0.045 | Train ACC: 0.9863387978142076 | Train R2: nan\n",
      "\t Val. Loss: 0.877 |  Val. ACC: 0.875| Val. R2: 0.0\n",
      "0.9017857142857143\n"
     ]
    },
    {
     "name": "stderr",
     "output_type": "stream",
     "text": [
      "183it [00:15, 11.78it/s]\n",
      "2it [00:00, 12.90it/s]"
     ]
    },
    {
     "name": "stdout",
     "output_type": "stream",
     "text": [
      "Epoch: 28 | Epoch Time: 0.0m 15.85s\n",
      "\tTrain Loss: 0.035 | Train ACC: 0.9897540983606558 | Train R2: nan\n",
      "\t Val. Loss: 0.756 |  Val. ACC: 0.8571428571428571| Val. R2: 0.0\n",
      "0.9017857142857143\n"
     ]
    },
    {
     "name": "stderr",
     "output_type": "stream",
     "text": [
      "183it [00:15, 11.86it/s]\n",
      "2it [00:00, 13.06it/s]"
     ]
    },
    {
     "name": "stdout",
     "output_type": "stream",
     "text": [
      "Epoch: 29 | Epoch Time: 0.0m 15.74s\n",
      "\tTrain Loss: 0.021 | Train ACC: 0.9911202185792349 | Train R2: nan\n",
      "\t Val. Loss: 1.027 |  Val. ACC: 0.8660714285714286| Val. R2: 0.0\n",
      "0.9017857142857143\n"
     ]
    },
    {
     "name": "stderr",
     "output_type": "stream",
     "text": [
      "183it [00:16, 10.90it/s]\n"
     ]
    },
    {
     "name": "stdout",
     "output_type": "stream",
     "text": [
      "Epoch: 30 | Epoch Time: 0.0m 17.15s\n",
      "\tTrain Loss: 0.017 | Train ACC: 0.9952185792349727 | Train R2: nan\n",
      "\t Val. Loss: 1.050 |  Val. ACC: 0.8482142857142857| Val. R2: 0.0\n",
      "0.9017857142857143\n"
     ]
    },
    {
     "name": "stderr",
     "output_type": "stream",
     "text": [
      "1it [00:00,  9.57it/s]"
     ]
    },
    {
     "name": "stdout",
     "output_type": "stream",
     "text": [
      "\t Test. Loss: 0.596 |  TEST. ACC: 0.9272959183673469| test. R2: 0.0\n"
     ]
    },
    {
     "name": "stderr",
     "output_type": "stream",
     "text": [
      "183it [00:16, 10.79it/s]\n",
      "2it [00:00, 11.93it/s]"
     ]
    },
    {
     "name": "stdout",
     "output_type": "stream",
     "text": [
      "Epoch: 31 | Epoch Time: 0.0m 17.27s\n",
      "\tTrain Loss: 0.027 | Train ACC: 0.9931693989071039 | Train R2: nan\n",
      "\t Val. Loss: 0.804 |  Val. ACC: 0.875| Val. R2: 0.0\n",
      "0.9017857142857143\n"
     ]
    },
    {
     "name": "stderr",
     "output_type": "stream",
     "text": [
      "183it [00:16, 10.77it/s]\n",
      "2it [00:00, 13.37it/s]"
     ]
    },
    {
     "name": "stdout",
     "output_type": "stream",
     "text": [
      "Epoch: 32 | Epoch Time: 0.0m 17.32s\n",
      "\tTrain Loss: 0.005 | Train ACC: 0.9986338797814208 | Train R2: nan\n",
      "\t Val. Loss: 0.965 |  Val. ACC: 0.875| Val. R2: 0.0\n",
      "0.9017857142857143\n"
     ]
    },
    {
     "name": "stderr",
     "output_type": "stream",
     "text": [
      "183it [00:18, 10.12it/s]\n",
      "2it [00:00, 13.53it/s]"
     ]
    },
    {
     "name": "stdout",
     "output_type": "stream",
     "text": [
      "1\n",
      "Epoch: 33 | Epoch Time: 0.0m 18.40s\n",
      "\tTrain Loss: 0.013 | Train ACC: 0.9952185792349727 | Train R2: nan\n",
      "\t Val. Loss: 1.074 |  Val. ACC: 0.8571428571428571| Val. R2: 0.0\n",
      "0.9017857142857143\n"
     ]
    },
    {
     "name": "stderr",
     "output_type": "stream",
     "text": [
      "183it [00:15, 11.78it/s]\n",
      "2it [00:00, 11.66it/s]"
     ]
    },
    {
     "name": "stdout",
     "output_type": "stream",
     "text": [
      "2\n",
      "Epoch: 34 | Epoch Time: 0.0m 15.84s\n",
      "\tTrain Loss: 0.008 | Train ACC: 0.9965846994535519 | Train R2: nan\n",
      "\t Val. Loss: 1.216 |  Val. ACC: 0.8571428571428571| Val. R2: 0.0\n",
      "0.9017857142857143\n"
     ]
    },
    {
     "name": "stderr",
     "output_type": "stream",
     "text": [
      "183it [00:15, 11.74it/s]\n"
     ]
    },
    {
     "name": "stdout",
     "output_type": "stream",
     "text": [
      "3\n",
      "Epoch: 35 | Epoch Time: 0.0m 15.90s\n",
      "\tTrain Loss: 0.021 | Train ACC: 0.9904371584699454 | Train R2: nan\n",
      "\t Val. Loss: 0.833 |  Val. ACC: 0.8571428571428571| Val. R2: 0.0\n",
      "0.9017857142857143\n"
     ]
    },
    {
     "name": "stderr",
     "output_type": "stream",
     "text": [
      "\r",
      "0it [00:00, ?it/s]"
     ]
    },
    {
     "name": "stdout",
     "output_type": "stream",
     "text": [
      "\t Test. Loss: 0.954 |  TEST. ACC: 0.8826530612244898| test. R2: 0.0\n"
     ]
    },
    {
     "name": "stderr",
     "output_type": "stream",
     "text": [
      "183it [00:17, 10.21it/s]\n",
      "1it [00:00,  9.54it/s]"
     ]
    },
    {
     "name": "stdout",
     "output_type": "stream",
     "text": [
      "4\n",
      "Epoch: 36 | Epoch Time: 0.0m 18.27s\n",
      "\tTrain Loss: 0.016 | Train ACC: 0.9938524590163934 | Train R2: nan\n",
      "\t Val. Loss: 1.332 |  Val. ACC: 0.8303571428571429| Val. R2: 0.0\n",
      "0.9017857142857143\n"
     ]
    },
    {
     "name": "stderr",
     "output_type": "stream",
     "text": [
      "183it [00:17, 10.74it/s]\n",
      "2it [00:00, 12.02it/s]"
     ]
    },
    {
     "name": "stdout",
     "output_type": "stream",
     "text": [
      "5\n",
      "Epoch: 37 | Epoch Time: 0.0m 17.38s\n",
      "\tTrain Loss: 0.015 | Train ACC: 0.9952185792349727 | Train R2: nan\n",
      "\t Val. Loss: 1.335 |  Val. ACC: 0.8571428571428571| Val. R2: 0.0\n",
      "0.9017857142857143\n"
     ]
    },
    {
     "name": "stderr",
     "output_type": "stream",
     "text": [
      "183it [00:17, 10.53it/s]\n",
      "1it [00:00,  8.85it/s]"
     ]
    },
    {
     "name": "stdout",
     "output_type": "stream",
     "text": [
      "6\n",
      "Epoch: 38 | Epoch Time: 0.0m 17.74s\n",
      "\tTrain Loss: 0.009 | Train ACC: 0.9972677595628415 | Train R2: nan\n",
      "\t Val. Loss: 1.461 |  Val. ACC: 0.8660714285714286| Val. R2: 0.0\n",
      "0.9017857142857143\n"
     ]
    },
    {
     "name": "stderr",
     "output_type": "stream",
     "text": [
      "183it [00:17, 10.53it/s]\n",
      "0it [00:00, ?it/s]"
     ]
    },
    {
     "name": "stdout",
     "output_type": "stream",
     "text": [
      "7\n",
      "Epoch: 39 | Epoch Time: 0.0m 17.68s\n",
      "\tTrain Loss: 0.014 | Train ACC: 0.9959016393442623 | Train R2: nan\n",
      "\t Val. Loss: 1.371 |  Val. ACC: 0.8839285714285714| Val. R2: 0.0\n",
      "0.9017857142857143\n"
     ]
    },
    {
     "name": "stderr",
     "output_type": "stream",
     "text": [
      "183it [00:17, 10.60it/s]\n"
     ]
    },
    {
     "name": "stdout",
     "output_type": "stream",
     "text": [
      "8\n",
      "Epoch: 40 | Epoch Time: 0.0m 17.59s\n",
      "\tTrain Loss: 0.030 | Train ACC: 0.9924863387978142 | Train R2: nan\n",
      "\t Val. Loss: 0.931 |  Val. ACC: 0.8839285714285714| Val. R2: 0.0\n",
      "0.9017857142857143\n"
     ]
    },
    {
     "name": "stderr",
     "output_type": "stream",
     "text": [
      "2it [00:00, 11.79it/s]"
     ]
    },
    {
     "name": "stdout",
     "output_type": "stream",
     "text": [
      "\t Test. Loss: 0.688 |  TEST. ACC: 0.9107142857142857| test. R2: 0.0\n"
     ]
    },
    {
     "name": "stderr",
     "output_type": "stream",
     "text": [
      "183it [00:17, 10.18it/s]\n",
      "2it [00:00, 11.37it/s]"
     ]
    },
    {
     "name": "stdout",
     "output_type": "stream",
     "text": [
      "9\n",
      "Epoch: 41 | Epoch Time: 0.0m 18.33s\n",
      "\tTrain Loss: 0.016 | Train ACC: 0.9952185792349727 | Train R2: nan\n",
      "\t Val. Loss: 1.216 |  Val. ACC: 0.8571428571428571| Val. R2: 0.0\n",
      "0.9017857142857143\n"
     ]
    },
    {
     "name": "stderr",
     "output_type": "stream",
     "text": [
      "183it [00:16, 10.85it/s]\n",
      "2it [00:00, 11.69it/s]"
     ]
    },
    {
     "name": "stdout",
     "output_type": "stream",
     "text": [
      "10\n",
      "Epoch: 42 | Epoch Time: 0.0m 17.21s\n",
      "\tTrain Loss: 0.017 | Train ACC: 0.9965846994535519 | Train R2: nan\n",
      "\t Val. Loss: 1.096 |  Val. ACC: 0.8571428571428571| Val. R2: 0.0\n",
      "0.9017857142857143\n"
     ]
    },
    {
     "name": "stderr",
     "output_type": "stream",
     "text": [
      "183it [00:18, 10.01it/s]\n",
      "2it [00:00, 11.84it/s]"
     ]
    },
    {
     "name": "stdout",
     "output_type": "stream",
     "text": [
      "11\n",
      "Epoch: 43 | Epoch Time: 0.0m 18.64s\n",
      "\tTrain Loss: 0.009 | Train ACC: 0.9972677595628415 | Train R2: nan\n",
      "\t Val. Loss: 1.249 |  Val. ACC: 0.8571428571428571| Val. R2: 0.0\n",
      "0.9017857142857143\n"
     ]
    },
    {
     "name": "stderr",
     "output_type": "stream",
     "text": [
      "183it [00:17, 10.72it/s]\n",
      "2it [00:00, 12.01it/s]"
     ]
    },
    {
     "name": "stdout",
     "output_type": "stream",
     "text": [
      "12\n",
      "Epoch: 44 | Epoch Time: 0.0m 17.39s\n",
      "\tTrain Loss: 0.003 | Train ACC: 0.9993169398907104 | Train R2: nan\n",
      "\t Val. Loss: 1.600 |  Val. ACC: 0.8392857142857143| Val. R2: 0.0\n",
      "0.9017857142857143\n"
     ]
    },
    {
     "name": "stderr",
     "output_type": "stream",
     "text": [
      "183it [00:17, 10.50it/s]\n"
     ]
    },
    {
     "name": "stdout",
     "output_type": "stream",
     "text": [
      "13\n",
      "Epoch: 45 | Epoch Time: 0.0m 17.76s\n",
      "\tTrain Loss: 0.023 | Train ACC: 0.9918032786885246 | Train R2: nan\n",
      "\t Val. Loss: 1.078 |  Val. ACC: 0.8482142857142857| Val. R2: 0.0\n",
      "0.9017857142857143\n"
     ]
    },
    {
     "name": "stderr",
     "output_type": "stream",
     "text": [
      "2it [00:00, 11.36it/s]"
     ]
    },
    {
     "name": "stdout",
     "output_type": "stream",
     "text": [
      "\t Test. Loss: 0.794 |  TEST. ACC: 0.8826530612244898| test. R2: 0.0\n"
     ]
    },
    {
     "name": "stderr",
     "output_type": "stream",
     "text": [
      "183it [00:17, 10.68it/s]\n",
      "2it [00:00, 12.03it/s]"
     ]
    },
    {
     "name": "stdout",
     "output_type": "stream",
     "text": [
      "14\n",
      "Epoch: 46 | Epoch Time: 0.0m 17.46s\n",
      "\tTrain Loss: 0.026 | Train ACC: 0.9924863387978142 | Train R2: nan\n",
      "\t Val. Loss: 0.975 |  Val. ACC: 0.8482142857142857| Val. R2: 0.0\n",
      "0.9017857142857143\n"
     ]
    },
    {
     "name": "stderr",
     "output_type": "stream",
     "text": [
      "183it [00:17, 10.68it/s]\n",
      "1it [00:00,  9.29it/s]"
     ]
    },
    {
     "name": "stdout",
     "output_type": "stream",
     "text": [
      "15\n",
      "Epoch: 47 | Epoch Time: 0.0m 17.48s\n",
      "\tTrain Loss: 0.033 | Train ACC: 0.9924863387978142 | Train R2: nan\n",
      "\t Val. Loss: 0.827 |  Val. ACC: 0.8660714285714286| Val. R2: 0.0\n",
      "0.9017857142857143\n"
     ]
    },
    {
     "name": "stderr",
     "output_type": "stream",
     "text": [
      "183it [00:17, 10.46it/s]\n",
      "2it [00:00, 13.34it/s]"
     ]
    },
    {
     "name": "stdout",
     "output_type": "stream",
     "text": [
      "16\n",
      "Epoch: 48 | Epoch Time: 0.0m 17.84s\n",
      "\tTrain Loss: 0.011 | Train ACC: 0.9952185792349727 | Train R2: nan\n",
      "\t Val. Loss: 1.037 |  Val. ACC: 0.8125| Val. R2: 0.0\n",
      "0.9017857142857143\n"
     ]
    },
    {
     "name": "stderr",
     "output_type": "stream",
     "text": [
      "183it [00:16, 11.04it/s]\n",
      "1it [00:00,  8.70it/s]"
     ]
    },
    {
     "name": "stdout",
     "output_type": "stream",
     "text": [
      "17\n",
      "Epoch: 49 | Epoch Time: 0.0m 16.93s\n",
      "\tTrain Loss: 0.024 | Train ACC: 0.9929417122040072 | Train R2: nan\n",
      "\t Val. Loss: 0.872 |  Val. ACC: 0.8660714285714286| Val. R2: 0.0\n",
      "0.9017857142857143\n"
     ]
    },
    {
     "name": "stderr",
     "output_type": "stream",
     "text": [
      "183it [00:18,  9.79it/s]\n"
     ]
    },
    {
     "name": "stdout",
     "output_type": "stream",
     "text": [
      "18\n",
      "Epoch: 50 | Epoch Time: 0.0m 19.05s\n",
      "\tTrain Loss: 0.010 | Train ACC: 0.9986338797814208 | Train R2: nan\n",
      "\t Val. Loss: 0.936 |  Val. ACC: 0.8660714285714286| Val. R2: 0.0\n",
      "0.9017857142857143\n"
     ]
    },
    {
     "name": "stderr",
     "output_type": "stream",
     "text": [
      "\r",
      "0it [00:00, ?it/s]"
     ]
    },
    {
     "name": "stdout",
     "output_type": "stream",
     "text": [
      "\t Test. Loss: 0.928 |  TEST. ACC: 0.8737244897959184| test. R2: 0.0\n"
     ]
    },
    {
     "name": "stderr",
     "output_type": "stream",
     "text": [
      "183it [00:18, 10.14it/s]\n",
      "0it [00:00, ?it/s]"
     ]
    },
    {
     "name": "stdout",
     "output_type": "stream",
     "text": [
      "19\n",
      "Epoch: 51 | Epoch Time: 0.0m 18.45s\n",
      "\tTrain Loss: 0.023 | Train ACC: 0.9938524590163934 | Train R2: nan\n",
      "\t Val. Loss: 0.698 |  Val. ACC: 0.8482142857142857| Val. R2: 0.0\n",
      "0.9017857142857143\n"
     ]
    },
    {
     "name": "stderr",
     "output_type": "stream",
     "text": [
      "183it [00:17, 10.55it/s]\n",
      "1it [00:00,  9.31it/s]"
     ]
    },
    {
     "name": "stdout",
     "output_type": "stream",
     "text": [
      "20\n",
      "Epoch: 52 | Epoch Time: 0.0m 17.67s\n",
      "\tTrain Loss: 0.032 | Train ACC: 0.9904371584699454 | Train R2: nan\n",
      "\t Val. Loss: 0.926 |  Val. ACC: 0.8660714285714286| Val. R2: 0.0\n",
      "0.9017857142857143\n"
     ]
    },
    {
     "name": "stderr",
     "output_type": "stream",
     "text": [
      "183it [00:18, 10.13it/s]\n",
      "0it [00:00, ?it/s]"
     ]
    },
    {
     "name": "stdout",
     "output_type": "stream",
     "text": [
      "21\n",
      "Epoch: 53 | Epoch Time: 0.0m 18.40s\n",
      "\tTrain Loss: 0.009 | Train ACC: 0.9965846994535519 | Train R2: nan\n",
      "\t Val. Loss: 1.190 |  Val. ACC: 0.8660714285714286| Val. R2: 0.0\n",
      "0.9017857142857143\n"
     ]
    },
    {
     "name": "stderr",
     "output_type": "stream",
     "text": [
      "183it [00:18, 10.04it/s]\n",
      "2it [00:00, 11.54it/s]"
     ]
    },
    {
     "name": "stdout",
     "output_type": "stream",
     "text": [
      "22\n",
      "Epoch: 54 | Epoch Time: 0.0m 18.56s\n",
      "\tTrain Loss: 0.027 | Train ACC: 0.9952185792349727 | Train R2: nan\n",
      "\t Val. Loss: 0.792 |  Val. ACC: 0.8660714285714286| Val. R2: 0.0\n",
      "0.9017857142857143\n"
     ]
    },
    {
     "name": "stderr",
     "output_type": "stream",
     "text": [
      "183it [00:18, 10.04it/s]\n"
     ]
    },
    {
     "name": "stdout",
     "output_type": "stream",
     "text": [
      "23\n",
      "Epoch: 55 | Epoch Time: 0.0m 18.53s\n",
      "\tTrain Loss: 0.037 | Train ACC: 0.985655737704918 | Train R2: nan\n",
      "\t Val. Loss: 0.657 |  Val. ACC: 0.8303571428571429| Val. R2: 0.0\n",
      "0.9017857142857143\n"
     ]
    },
    {
     "name": "stderr",
     "output_type": "stream",
     "text": [
      "2it [00:00, 13.50it/s]"
     ]
    },
    {
     "name": "stdout",
     "output_type": "stream",
     "text": [
      "\t Test. Loss: 0.499 |  TEST. ACC: 0.9272959183673469| test. R2: 0.0\n"
     ]
    },
    {
     "name": "stderr",
     "output_type": "stream",
     "text": [
      "183it [00:17, 10.70it/s]\n",
      "2it [00:00, 11.99it/s]"
     ]
    },
    {
     "name": "stdout",
     "output_type": "stream",
     "text": [
      "24\n",
      "Epoch: 56 | Epoch Time: 0.0m 17.43s\n",
      "\tTrain Loss: 0.040 | Train ACC: 0.9877049180327869 | Train R2: nan\n",
      "\t Val. Loss: 0.768 |  Val. ACC: 0.8660714285714286| Val. R2: 0.0\n",
      "0.9017857142857143\n"
     ]
    },
    {
     "name": "stderr",
     "output_type": "stream",
     "text": [
      "183it [00:17, 10.64it/s]\n",
      "1it [00:00,  9.74it/s]"
     ]
    },
    {
     "name": "stdout",
     "output_type": "stream",
     "text": [
      "25\n",
      "Epoch: 57 | Epoch Time: 0.0m 17.52s\n",
      "\tTrain Loss: 0.005 | Train ACC: 0.9979508196721312 | Train R2: nan\n",
      "\t Val. Loss: 1.074 |  Val. ACC: 0.875| Val. R2: 0.0\n",
      "0.9017857142857143\n"
     ]
    },
    {
     "name": "stderr",
     "output_type": "stream",
     "text": [
      "183it [00:17, 10.45it/s]\n",
      "2it [00:00, 10.73it/s]"
     ]
    },
    {
     "name": "stdout",
     "output_type": "stream",
     "text": [
      "26\n",
      "Epoch: 58 | Epoch Time: 0.0m 17.83s\n",
      "\tTrain Loss: 0.017 | Train ACC: 0.994535519125683 | Train R2: nan\n",
      "\t Val. Loss: 0.823 |  Val. ACC: 0.8660714285714286| Val. R2: 0.0\n",
      "0.9017857142857143\n"
     ]
    },
    {
     "name": "stderr",
     "output_type": "stream",
     "text": [
      "183it [00:17, 10.52it/s]\n",
      "2it [00:00, 10.73it/s]"
     ]
    },
    {
     "name": "stdout",
     "output_type": "stream",
     "text": [
      "27\n",
      "Epoch: 59 | Epoch Time: 0.0m 17.72s\n",
      "\tTrain Loss: 0.012 | Train ACC: 0.9959016393442623 | Train R2: nan\n",
      "\t Val. Loss: 0.975 |  Val. ACC: 0.8571428571428571| Val. R2: 0.0\n",
      "0.9017857142857143\n"
     ]
    },
    {
     "name": "stderr",
     "output_type": "stream",
     "text": [
      "183it [00:17, 10.63it/s]\n"
     ]
    },
    {
     "name": "stdout",
     "output_type": "stream",
     "text": [
      "28\n",
      "Epoch: 60 | Epoch Time: 0.0m 17.54s\n",
      "\tTrain Loss: 0.005 | Train ACC: 0.9979508196721312 | Train R2: nan\n",
      "\t Val. Loss: 0.868 |  Val. ACC: 0.8660714285714286| Val. R2: 0.0\n",
      "0.9017857142857143\n"
     ]
    },
    {
     "name": "stderr",
     "output_type": "stream",
     "text": [
      "2it [00:00, 11.74it/s]"
     ]
    },
    {
     "name": "stdout",
     "output_type": "stream",
     "text": [
      "\t Test. Loss: 0.764 |  TEST. ACC: 0.9094387755102041| test. R2: 0.0\n"
     ]
    },
    {
     "name": "stderr",
     "output_type": "stream",
     "text": [
      "183it [00:17, 10.45it/s]\n",
      "2it [00:00, 12.99it/s]"
     ]
    },
    {
     "name": "stdout",
     "output_type": "stream",
     "text": [
      "29\n",
      "Epoch: 61 | Epoch Time: 0.0m 17.85s\n",
      "\tTrain Loss: 0.014 | Train ACC: 0.9952185792349727 | Train R2: nan\n",
      "\t Val. Loss: 0.916 |  Val. ACC: 0.875| Val. R2: 0.0\n",
      "0.9017857142857143\n"
     ]
    },
    {
     "name": "stderr",
     "output_type": "stream",
     "text": [
      "183it [00:17, 10.31it/s]\n",
      "1it [00:00,  9.44it/s]"
     ]
    },
    {
     "name": "stdout",
     "output_type": "stream",
     "text": [
      "30\n",
      "Epoch: 62 | Epoch Time: 0.0m 18.09s\n",
      "\tTrain Loss: 0.004 | Train ACC: 0.9986338797814208 | Train R2: nan\n",
      "\t Val. Loss: 1.133 |  Val. ACC: 0.8571428571428571| Val. R2: 0.0\n",
      "0.9017857142857143\n"
     ]
    },
    {
     "name": "stderr",
     "output_type": "stream",
     "text": [
      "183it [00:18,  9.88it/s]\n",
      "2it [00:00, 11.54it/s]"
     ]
    },
    {
     "name": "stdout",
     "output_type": "stream",
     "text": [
      "31\n",
      "Epoch: 63 | Epoch Time: 0.0m 18.87s\n",
      "\tTrain Loss: 0.013 | Train ACC: 0.9965846994535519 | Train R2: nan\n",
      "\t Val. Loss: 0.862 |  Val. ACC: 0.8660714285714286| Val. R2: 0.0\n",
      "0.9017857142857143\n"
     ]
    },
    {
     "name": "stderr",
     "output_type": "stream",
     "text": [
      "183it [00:15, 11.79it/s]\n",
      "1it [00:00,  6.21it/s]"
     ]
    },
    {
     "name": "stdout",
     "output_type": "stream",
     "text": [
      "32\n",
      "Epoch: 64 | Epoch Time: 0.0m 15.86s\n",
      "\tTrain Loss: 0.003 | Train ACC: 0.9993169398907104 | Train R2: nan\n",
      "\t Val. Loss: 0.999 |  Val. ACC: 0.875| Val. R2: 0.0\n",
      "0.9017857142857143\n"
     ]
    },
    {
     "name": "stderr",
     "output_type": "stream",
     "text": [
      "183it [00:17, 10.37it/s]\n"
     ]
    },
    {
     "name": "stdout",
     "output_type": "stream",
     "text": [
      "33\n",
      "Epoch: 65 | Epoch Time: 0.0m 17.96s\n",
      "\tTrain Loss: 0.002 | Train ACC: 1.0 | Train R2: nan\n",
      "\t Val. Loss: 1.352 |  Val. ACC: 0.8392857142857143| Val. R2: 0.0\n",
      "0.9017857142857143\n"
     ]
    },
    {
     "name": "stderr",
     "output_type": "stream",
     "text": [
      "2it [00:00, 11.12it/s]"
     ]
    },
    {
     "name": "stdout",
     "output_type": "stream",
     "text": [
      "\t Test. Loss: 0.855 |  TEST. ACC: 0.9094387755102041| test. R2: 0.0\n"
     ]
    },
    {
     "name": "stderr",
     "output_type": "stream",
     "text": [
      "183it [00:17, 10.41it/s]\n",
      "2it [00:00, 11.81it/s]"
     ]
    },
    {
     "name": "stdout",
     "output_type": "stream",
     "text": [
      "34\n",
      "Epoch: 66 | Epoch Time: 0.0m 17.90s\n",
      "\tTrain Loss: 0.003 | Train ACC: 0.9986338797814208 | Train R2: nan\n",
      "\t Val. Loss: 1.357 |  Val. ACC: 0.8482142857142857| Val. R2: 0.0\n",
      "0.9017857142857143\n"
     ]
    },
    {
     "name": "stderr",
     "output_type": "stream",
     "text": [
      "183it [00:17, 10.38it/s]\n",
      "1it [00:00,  9.55it/s]"
     ]
    },
    {
     "name": "stdout",
     "output_type": "stream",
     "text": [
      "35\n",
      "Epoch: 67 | Epoch Time: 0.0m 17.97s\n",
      "\tTrain Loss: 0.033 | Train ACC: 0.9904371584699454 | Train R2: nan\n",
      "\t Val. Loss: 1.142 |  Val. ACC: 0.8571428571428571| Val. R2: 0.0\n",
      "0.9017857142857143\n"
     ]
    },
    {
     "name": "stderr",
     "output_type": "stream",
     "text": [
      "183it [00:18,  9.77it/s]\n",
      "0it [00:00, ?it/s]"
     ]
    },
    {
     "name": "stdout",
     "output_type": "stream",
     "text": [
      "36\n",
      "Epoch: 68 | Epoch Time: 0.0m 19.06s\n",
      "\tTrain Loss: 0.022 | Train ACC: 0.994535519125683 | Train R2: nan\n",
      "\t Val. Loss: 1.121 |  Val. ACC: 0.8839285714285714| Val. R2: 0.0\n",
      "0.9017857142857143\n"
     ]
    },
    {
     "name": "stderr",
     "output_type": "stream",
     "text": [
      "30it [00:02, 10.40it/s]"
     ]
    }
   ],
   "source": [
    "for epoch in range(100):\n",
    "    # data iterator\n",
    "    train_batch = BatchSampler(BATCH_SIZE, mol_train_set)\n",
    "    eval_batch = BatchSampler(BATCH_SIZE, mol_eval_set)\n",
    "    test_batch = BatchSampler(BATCH_SIZE, mol_test_set)\n",
    "\n",
    "    train_iterator = iter(train_batch)\n",
    "    start_time = time.time()\n",
    "    train_loss, train_acc, train_r2 = train(fineTuneModel, train_iterator, optimizer, criteon)\n",
    "\n",
    "    eval_iterator = iter(eval_batch)\n",
    "    dev_loss, dev_acc, dev_r2 = evaluate(fineTuneModel, eval_iterator, criteon)\n",
    "    end_time = time.time()\n",
    "\n",
    "    epoch_mins, epoch_secs = divmod(end_time - start_time, 60)\n",
    "\n",
    "    if dev_acc > best_valid_acc:  # 只要模型效果变好，就保存\n",
    "        count = 0\n",
    "        best_valid_acc = dev_acc\n",
    "        torch.save(fineTuneModel.state_dict(), \"class-10.pt\")\n",
    "    else:\n",
    "        count += 1\n",
    "        if count >= 30:\n",
    "            out += 1\n",
    "            print(out)\n",
    "\n",
    "    print(f'Epoch: {epoch + 1:02} | Epoch Time: {epoch_mins}m {epoch_secs:.2f}s')\n",
    "    print(f'\\tTrain Loss: {train_loss:.3f} | Train ACC: {train_acc} | Train R2: {train_r2}')\n",
    "    print(f'\\t Val. Loss: {dev_loss:.3f} |  Val. ACC: {dev_acc}| Val. R2: {dev_r2}')\n",
    "    print(best_valid_acc)\n",
    "\n",
    "    if (epoch + 1) % 5 == 0:\n",
    "        test_iterator = iter(test_batch)\n",
    "        test_loss, test_acc, test_r2 = test(fineTuneModel, test_iterator, criteon)\n",
    "        print(f'\\t Test. Loss: {test_loss:.3f} |  TEST. ACC: {test_acc}| test. R2: {test_r2}')\n",
    "    val.append(dev_loss)\n",
    "    tra.append(train_loss)\n",
    "\n",
    "    # CosineLR.step()\n",
    "# 0.122 0.193 0.128 0.113\n",
    "# 0.100 0.174 0.131\n",
    "# 0.107 0.167  0.102\n",
    "fineTuneModel.load_state_dict(torch.load(\"class-10.pt\"))\n",
    "test_batch = BatchSampler(BATCH_SIZE, mol_test_set)\n",
    "test_iterator = iter(test_batch)\n",
    "test_loss, test_acc, test_r2 = test(fineTuneModel, test_iterator, criteon)\n",
    "print(f'\\t Test. Loss: {test_loss:.3f} |  Val. MSE: {test_acc}| Val. R2: {test_r2}')"
   ]
  },
  {
   "cell_type": "code",
   "execution_count": 7,
   "metadata": {},
   "outputs": [
    {
     "name": "stderr",
     "output_type": "stream",
     "text": [
      "7510it [12:27, 10.05it/s]\n",
      "/opt/anaconda3/lib/python3.7/site-packages/ipykernel_launcher.py:37: RuntimeWarning: Mean of empty slice.\n",
      "/opt/anaconda3/lib/python3.7/site-packages/numpy/core/_methods.py:170: RuntimeWarning: invalid value encountered in double_scalars\n",
      "  ret = ret.dtype.type(ret / rcount)\n",
      "1it [00:00,  8.89it/s]"
     ]
    },
    {
     "name": "stdout",
     "output_type": "stream",
     "text": [
      "Epoch: 01 | Epoch Time: 12.0m 42.57s\n",
      "\tTrain Loss: 0.062 | Train MSE: 0.02357782628444374 | Train R2: nan\n",
      "\t Val. Loss: 0.067 |  Val. MSE: 0.02259405786672365| Val. R2: 0.9769592688850485\n",
      "0.06591131269808267\n"
     ]
    },
    {
     "name": "stderr",
     "output_type": "stream",
     "text": [
      "7510it [12:10, 10.28it/s]\n",
      "/opt/anaconda3/lib/python3.7/site-packages/ipykernel_launcher.py:37: RuntimeWarning: Mean of empty slice.\n",
      "/opt/anaconda3/lib/python3.7/site-packages/numpy/core/_methods.py:170: RuntimeWarning: invalid value encountered in double_scalars\n",
      "  ret = ret.dtype.type(ret / rcount)\n",
      "2it [00:00, 11.08it/s]"
     ]
    },
    {
     "name": "stdout",
     "output_type": "stream",
     "text": [
      "Epoch: 02 | Epoch Time: 12.0m 25.57s\n",
      "\tTrain Loss: 0.061 | Train MSE: 0.02309580694055281 | Train R2: nan\n",
      "\t Val. Loss: 0.061 |  Val. MSE: 0.020807503029550905| Val. R2: 0.978237890755397\n",
      "0.0610557177915103\n"
     ]
    },
    {
     "name": "stderr",
     "output_type": "stream",
     "text": [
      "7510it [11:26, 10.95it/s]\n",
      "/opt/anaconda3/lib/python3.7/site-packages/ipykernel_launcher.py:37: RuntimeWarning: Mean of empty slice.\n",
      "/opt/anaconda3/lib/python3.7/site-packages/numpy/core/_methods.py:170: RuntimeWarning: invalid value encountered in double_scalars\n",
      "  ret = ret.dtype.type(ret / rcount)\n",
      "2it [00:00, 12.32it/s]"
     ]
    },
    {
     "name": "stdout",
     "output_type": "stream",
     "text": [
      "Epoch: 03 | Epoch Time: 11.0m 40.99s\n",
      "\tTrain Loss: 0.060 | Train MSE: 0.023073003214834385 | Train R2: nan\n",
      "\t Val. Loss: 0.061 |  Val. MSE: 0.02084928560409984| Val. R2: 0.9800743048305774\n",
      "0.0606129998097401\n"
     ]
    },
    {
     "name": "stderr",
     "output_type": "stream",
     "text": [
      "7510it [12:27, 10.05it/s]\n",
      "/opt/anaconda3/lib/python3.7/site-packages/ipykernel_launcher.py:37: RuntimeWarning: Mean of empty slice.\n",
      "/opt/anaconda3/lib/python3.7/site-packages/numpy/core/_methods.py:170: RuntimeWarning: invalid value encountered in double_scalars\n",
      "  ret = ret.dtype.type(ret / rcount)\n",
      "2it [00:00, 12.86it/s]"
     ]
    },
    {
     "name": "stdout",
     "output_type": "stream",
     "text": [
      "Epoch: 04 | Epoch Time: 12.0m 42.27s\n",
      "\tTrain Loss: 0.060 | Train MSE: 0.022913346406764203 | Train R2: nan\n",
      "\t Val. Loss: 0.060 |  Val. MSE: 0.020858833410630464| Val. R2: 0.9733501826579657\n",
      "0.05951463427706695\n"
     ]
    },
    {
     "name": "stderr",
     "output_type": "stream",
     "text": [
      "7510it [11:48, 10.61it/s]\n",
      "/opt/anaconda3/lib/python3.7/site-packages/ipykernel_launcher.py:37: RuntimeWarning: Mean of empty slice.\n",
      "/opt/anaconda3/lib/python3.7/site-packages/numpy/core/_methods.py:170: RuntimeWarning: invalid value encountered in double_scalars\n",
      "  ret = ret.dtype.type(ret / rcount)\n"
     ]
    },
    {
     "name": "stdout",
     "output_type": "stream",
     "text": [
      "Epoch: 05 | Epoch Time: 12.0m 3.01s\n",
      "\tTrain Loss: 0.060 | Train MSE: 0.022889864336106784 | Train R2: nan\n",
      "\t Val. Loss: 0.060 |  Val. MSE: 0.020653647047142055| Val. R2: 0.9798099603551998\n",
      "0.05951463427706695\n"
     ]
    },
    {
     "name": "stderr",
     "output_type": "stream",
     "text": [
      "\r",
      "0it [00:00, ?it/s]"
     ]
    },
    {
     "name": "stdout",
     "output_type": "stream",
     "text": [
      "\t Test. Loss: 0.061 |  Val. MSE: 0.10073382323071439| Val. R2: 0.9767012729148677\n"
     ]
    },
    {
     "name": "stderr",
     "output_type": "stream",
     "text": [
      "7510it [12:07, 10.32it/s]\n",
      "/opt/anaconda3/lib/python3.7/site-packages/ipykernel_launcher.py:37: RuntimeWarning: Mean of empty slice.\n",
      "/opt/anaconda3/lib/python3.7/site-packages/numpy/core/_methods.py:170: RuntimeWarning: invalid value encountered in double_scalars\n",
      "  ret = ret.dtype.type(ret / rcount)\n",
      "1it [00:00,  7.22it/s]"
     ]
    },
    {
     "name": "stdout",
     "output_type": "stream",
     "text": [
      "Epoch: 06 | Epoch Time: 12.0m 22.31s\n",
      "\tTrain Loss: 0.059 | Train MSE: 0.022532288681919727 | Train R2: nan\n",
      "\t Val. Loss: 0.059 |  Val. MSE: 0.02109625864529476| Val. R2: 0.9749920140994732\n",
      "0.059065639961309355\n"
     ]
    },
    {
     "name": "stderr",
     "output_type": "stream",
     "text": [
      "7510it [12:19, 10.15it/s]\n",
      "/opt/anaconda3/lib/python3.7/site-packages/ipykernel_launcher.py:37: RuntimeWarning: Mean of empty slice.\n",
      "/opt/anaconda3/lib/python3.7/site-packages/numpy/core/_methods.py:170: RuntimeWarning: invalid value encountered in double_scalars\n",
      "  ret = ret.dtype.type(ret / rcount)\n",
      "2it [00:00, 11.80it/s]"
     ]
    },
    {
     "name": "stdout",
     "output_type": "stream",
     "text": [
      "Epoch: 07 | Epoch Time: 12.0m 34.71s\n",
      "\tTrain Loss: 0.059 | Train MSE: 0.022461284585383916 | Train R2: nan\n",
      "\t Val. Loss: 0.061 |  Val. MSE: 0.02167067537745788| Val. R2: 0.9707850436278569\n",
      "0.059065639961309355\n"
     ]
    },
    {
     "name": "stderr",
     "output_type": "stream",
     "text": [
      "7510it [12:08, 10.31it/s]\n",
      "/opt/anaconda3/lib/python3.7/site-packages/ipykernel_launcher.py:37: RuntimeWarning: Mean of empty slice.\n",
      "/opt/anaconda3/lib/python3.7/site-packages/numpy/core/_methods.py:170: RuntimeWarning: invalid value encountered in double_scalars\n",
      "  ret = ret.dtype.type(ret / rcount)\n",
      "2it [00:00, 11.37it/s]"
     ]
    },
    {
     "name": "stdout",
     "output_type": "stream",
     "text": [
      "Epoch: 08 | Epoch Time: 12.0m 23.47s\n",
      "\tTrain Loss: 0.059 | Train MSE: 0.02246391397638073 | Train R2: nan\n",
      "\t Val. Loss: 0.059 |  Val. MSE: 0.02098203006996505| Val. R2: 0.9779338823415086\n",
      "0.059065639961309355\n"
     ]
    },
    {
     "name": "stderr",
     "output_type": "stream",
     "text": [
      "7510it [12:09, 10.29it/s]\n",
      "/opt/anaconda3/lib/python3.7/site-packages/ipykernel_launcher.py:37: RuntimeWarning: Mean of empty slice.\n",
      "/opt/anaconda3/lib/python3.7/site-packages/numpy/core/_methods.py:170: RuntimeWarning: invalid value encountered in double_scalars\n",
      "  ret = ret.dtype.type(ret / rcount)\n",
      "2it [00:00, 10.93it/s]"
     ]
    },
    {
     "name": "stdout",
     "output_type": "stream",
     "text": [
      "Epoch: 09 | Epoch Time: 12.0m 24.71s\n",
      "\tTrain Loss: 0.059 | Train MSE: 0.022588759472299682 | Train R2: nan\n",
      "\t Val. Loss: 0.060 |  Val. MSE: 0.020721139192981824| Val. R2: 0.9775068196539178\n",
      "0.059065639961309355\n"
     ]
    },
    {
     "name": "stderr",
     "output_type": "stream",
     "text": [
      "7510it [11:15, 11.12it/s]\n",
      "/opt/anaconda3/lib/python3.7/site-packages/ipykernel_launcher.py:37: RuntimeWarning: Mean of empty slice.\n",
      "/opt/anaconda3/lib/python3.7/site-packages/numpy/core/_methods.py:170: RuntimeWarning: invalid value encountered in double_scalars\n",
      "  ret = ret.dtype.type(ret / rcount)\n"
     ]
    },
    {
     "name": "stdout",
     "output_type": "stream",
     "text": [
      "Epoch: 10 | Epoch Time: 11.0m 30.13s\n",
      "\tTrain Loss: 0.058 | Train MSE: 0.02231851740880314 | Train R2: nan\n",
      "\t Val. Loss: 0.060 |  Val. MSE: 0.020758769133956745| Val. R2: 0.9775032373935666\n",
      "0.059065639961309355\n"
     ]
    },
    {
     "name": "stderr",
     "output_type": "stream",
     "text": [
      "2it [00:00, 12.96it/s]"
     ]
    },
    {
     "name": "stdout",
     "output_type": "stream",
     "text": [
      "\t Test. Loss: 0.061 |  Val. MSE: 0.0997904057226048| Val. R2: 0.9805236000478803\n"
     ]
    },
    {
     "name": "stderr",
     "output_type": "stream",
     "text": [
      "7510it [11:17, 11.08it/s]\n",
      "/opt/anaconda3/lib/python3.7/site-packages/ipykernel_launcher.py:37: RuntimeWarning: Mean of empty slice.\n",
      "/opt/anaconda3/lib/python3.7/site-packages/numpy/core/_methods.py:170: RuntimeWarning: invalid value encountered in double_scalars\n",
      "  ret = ret.dtype.type(ret / rcount)\n",
      "0it [00:00, ?it/s]"
     ]
    },
    {
     "name": "stdout",
     "output_type": "stream",
     "text": [
      "Epoch: 11 | Epoch Time: 11.0m 32.73s\n",
      "\tTrain Loss: 0.058 | Train MSE: 0.02216113004679318 | Train R2: nan\n",
      "\t Val. Loss: 0.059 |  Val. MSE: 0.02107002371044957| Val. R2: 0.9795533182011328\n",
      "0.059065639961309355\n"
     ]
    },
    {
     "name": "stderr",
     "output_type": "stream",
     "text": [
      "7510it [12:18, 10.17it/s]\n",
      "/opt/anaconda3/lib/python3.7/site-packages/ipykernel_launcher.py:37: RuntimeWarning: Mean of empty slice.\n",
      "/opt/anaconda3/lib/python3.7/site-packages/numpy/core/_methods.py:170: RuntimeWarning: invalid value encountered in double_scalars\n",
      "  ret = ret.dtype.type(ret / rcount)\n",
      "1it [00:00,  7.63it/s]"
     ]
    },
    {
     "name": "stdout",
     "output_type": "stream",
     "text": [
      "Epoch: 12 | Epoch Time: 12.0m 33.39s\n",
      "\tTrain Loss: 0.058 | Train MSE: 0.022102135574326467 | Train R2: nan\n",
      "\t Val. Loss: 0.060 |  Val. MSE: 0.020231742349225316| Val. R2: 0.9764301640535914\n",
      "0.059065639961309355\n"
     ]
    },
    {
     "name": "stderr",
     "output_type": "stream",
     "text": [
      "7510it [12:17, 10.19it/s]\n",
      "/opt/anaconda3/lib/python3.7/site-packages/ipykernel_launcher.py:37: RuntimeWarning: Mean of empty slice.\n",
      "/opt/anaconda3/lib/python3.7/site-packages/numpy/core/_methods.py:170: RuntimeWarning: invalid value encountered in double_scalars\n",
      "  ret = ret.dtype.type(ret / rcount)\n",
      "2it [00:00, 13.23it/s]"
     ]
    },
    {
     "name": "stdout",
     "output_type": "stream",
     "text": [
      "Epoch: 13 | Epoch Time: 12.0m 31.88s\n",
      "\tTrain Loss: 0.058 | Train MSE: 0.02201123371198092 | Train R2: nan\n",
      "\t Val. Loss: 0.060 |  Val. MSE: 0.021325752415374714| Val. R2: 0.9800062849710494\n",
      "0.059065639961309355\n"
     ]
    },
    {
     "name": "stderr",
     "output_type": "stream",
     "text": [
      "7510it [12:09, 10.29it/s]\n",
      "/opt/anaconda3/lib/python3.7/site-packages/ipykernel_launcher.py:37: RuntimeWarning: Mean of empty slice.\n",
      "/opt/anaconda3/lib/python3.7/site-packages/numpy/core/_methods.py:170: RuntimeWarning: invalid value encountered in double_scalars\n",
      "  ret = ret.dtype.type(ret / rcount)\n",
      "1it [00:00,  8.50it/s]"
     ]
    },
    {
     "name": "stdout",
     "output_type": "stream",
     "text": [
      "Epoch: 14 | Epoch Time: 12.0m 25.24s\n",
      "\tTrain Loss: 0.057 | Train MSE: 0.022113367992916147 | Train R2: nan\n",
      "\t Val. Loss: 0.059 |  Val. MSE: 0.02070037065002028| Val. R2: 0.9791475982491795\n",
      "0.05898065592632036\n"
     ]
    },
    {
     "name": "stderr",
     "output_type": "stream",
     "text": [
      "7510it [12:29, 10.01it/s]\n",
      "/opt/anaconda3/lib/python3.7/site-packages/ipykernel_launcher.py:37: RuntimeWarning: Mean of empty slice.\n",
      "/opt/anaconda3/lib/python3.7/site-packages/numpy/core/_methods.py:170: RuntimeWarning: invalid value encountered in double_scalars\n",
      "  ret = ret.dtype.type(ret / rcount)\n"
     ]
    },
    {
     "name": "stdout",
     "output_type": "stream",
     "text": [
      "Epoch: 15 | Epoch Time: 12.0m 44.73s\n",
      "\tTrain Loss: 0.057 | Train MSE: 0.02205084162294918 | Train R2: nan\n",
      "\t Val. Loss: 0.059 |  Val. MSE: 0.020833772946463817| Val. R2: 0.980762929217438\n",
      "0.0588006879841782\n"
     ]
    },
    {
     "name": "stderr",
     "output_type": "stream",
     "text": [
      "2it [00:00, 11.54it/s]"
     ]
    },
    {
     "name": "stdout",
     "output_type": "stream",
     "text": [
      "\t Test. Loss: 0.060 |  Val. MSE: 0.09888583567175513| Val. R2: 0.9801350027881737\n"
     ]
    },
    {
     "name": "stderr",
     "output_type": "stream",
     "text": [
      "7510it [12:05, 10.36it/s]\n",
      "/opt/anaconda3/lib/python3.7/site-packages/ipykernel_launcher.py:37: RuntimeWarning: Mean of empty slice.\n",
      "/opt/anaconda3/lib/python3.7/site-packages/numpy/core/_methods.py:170: RuntimeWarning: invalid value encountered in double_scalars\n",
      "  ret = ret.dtype.type(ret / rcount)\n",
      "2it [00:00, 12.94it/s]"
     ]
    },
    {
     "name": "stdout",
     "output_type": "stream",
     "text": [
      "Epoch: 16 | Epoch Time: 12.0m 19.83s\n",
      "\tTrain Loss: 0.057 | Train MSE: 0.02177006024241622 | Train R2: nan\n",
      "\t Val. Loss: 0.060 |  Val. MSE: 0.021196141663820313| Val. R2: 0.9793168719838522\n",
      "0.0588006879841782\n"
     ]
    },
    {
     "name": "stderr",
     "output_type": "stream",
     "text": [
      "7510it [10:27, 11.97it/s]\n",
      "/opt/anaconda3/lib/python3.7/site-packages/ipykernel_launcher.py:37: RuntimeWarning: Mean of empty slice.\n",
      "/opt/anaconda3/lib/python3.7/site-packages/numpy/core/_methods.py:170: RuntimeWarning: invalid value encountered in double_scalars\n",
      "  ret = ret.dtype.type(ret / rcount)\n",
      "2it [00:00, 11.10it/s]"
     ]
    },
    {
     "name": "stdout",
     "output_type": "stream",
     "text": [
      "Epoch: 17 | Epoch Time: 10.0m 42.39s\n",
      "\tTrain Loss: 0.057 | Train MSE: 0.021871975205260713 | Train R2: nan\n",
      "\t Val. Loss: 0.058 |  Val. MSE: 0.020470495936932145| Val. R2: 0.9808649922463968\n",
      "0.05835133425917405\n"
     ]
    },
    {
     "name": "stderr",
     "output_type": "stream",
     "text": [
      "7510it [11:13, 11.15it/s]\n",
      "/opt/anaconda3/lib/python3.7/site-packages/ipykernel_launcher.py:37: RuntimeWarning: Mean of empty slice.\n",
      "/opt/anaconda3/lib/python3.7/site-packages/numpy/core/_methods.py:170: RuntimeWarning: invalid value encountered in double_scalars\n",
      "  ret = ret.dtype.type(ret / rcount)\n",
      "2it [00:00, 10.07it/s]"
     ]
    },
    {
     "name": "stdout",
     "output_type": "stream",
     "text": [
      "Epoch: 18 | Epoch Time: 11.0m 28.32s\n",
      "\tTrain Loss: 0.057 | Train MSE: 0.021815690477976633 | Train R2: nan\n",
      "\t Val. Loss: 0.059 |  Val. MSE: 0.020301660786987887| Val. R2: 0.9797455545372059\n",
      "0.05835133425917405\n"
     ]
    },
    {
     "name": "stderr",
     "output_type": "stream",
     "text": [
      "7510it [11:29, 10.89it/s]\n",
      "/opt/anaconda3/lib/python3.7/site-packages/ipykernel_launcher.py:37: RuntimeWarning: Mean of empty slice.\n",
      "/opt/anaconda3/lib/python3.7/site-packages/numpy/core/_methods.py:170: RuntimeWarning: invalid value encountered in double_scalars\n",
      "  ret = ret.dtype.type(ret / rcount)\n",
      "2it [00:00, 12.28it/s]"
     ]
    },
    {
     "name": "stdout",
     "output_type": "stream",
     "text": [
      "Epoch: 19 | Epoch Time: 11.0m 44.66s\n",
      "\tTrain Loss: 0.056 | Train MSE: 0.021579813724324614 | Train R2: nan\n",
      "\t Val. Loss: 0.058 |  Val. MSE: 0.02025724947117318| Val. R2: 0.9790148287111953\n",
      "0.058110449706930765\n"
     ]
    },
    {
     "name": "stderr",
     "output_type": "stream",
     "text": [
      "7510it [10:19, 12.13it/s]\n",
      "/opt/anaconda3/lib/python3.7/site-packages/ipykernel_launcher.py:37: RuntimeWarning: Mean of empty slice.\n",
      "/opt/anaconda3/lib/python3.7/site-packages/numpy/core/_methods.py:170: RuntimeWarning: invalid value encountered in double_scalars\n",
      "  ret = ret.dtype.type(ret / rcount)\n"
     ]
    },
    {
     "name": "stdout",
     "output_type": "stream",
     "text": [
      "Epoch: 20 | Epoch Time: 10.0m 33.85s\n",
      "\tTrain Loss: 0.056 | Train MSE: 0.02165484918310908 | Train R2: nan\n",
      "\t Val. Loss: 0.058 |  Val. MSE: 0.0208700009033051| Val. R2: 0.9765943157007573\n",
      "0.058110449706930765\n"
     ]
    },
    {
     "name": "stderr",
     "output_type": "stream",
     "text": [
      "2it [00:00, 10.81it/s]"
     ]
    },
    {
     "name": "stdout",
     "output_type": "stream",
     "text": [
      "\t Test. Loss: 0.059 |  Val. MSE: 0.09985121665928792| Val. R2: 0.9778737482114499\n"
     ]
    },
    {
     "name": "stderr",
     "output_type": "stream",
     "text": [
      "7510it [11:35, 10.80it/s]\n",
      "/opt/anaconda3/lib/python3.7/site-packages/ipykernel_launcher.py:37: RuntimeWarning: Mean of empty slice.\n",
      "/opt/anaconda3/lib/python3.7/site-packages/numpy/core/_methods.py:170: RuntimeWarning: invalid value encountered in double_scalars\n",
      "  ret = ret.dtype.type(ret / rcount)\n",
      "2it [00:00, 10.93it/s]"
     ]
    },
    {
     "name": "stdout",
     "output_type": "stream",
     "text": [
      "Epoch: 21 | Epoch Time: 11.0m 49.83s\n",
      "\tTrain Loss: 0.056 | Train MSE: 0.021257975639302953 | Train R2: nan\n",
      "\t Val. Loss: 0.059 |  Val. MSE: 0.020616018427242314| Val. R2: 0.9797003766628668\n",
      "0.058110449706930765\n"
     ]
    },
    {
     "name": "stderr",
     "output_type": "stream",
     "text": [
      "7510it [12:13, 10.25it/s]\n",
      "/opt/anaconda3/lib/python3.7/site-packages/ipykernel_launcher.py:37: RuntimeWarning: Mean of empty slice.\n",
      "/opt/anaconda3/lib/python3.7/site-packages/numpy/core/_methods.py:170: RuntimeWarning: invalid value encountered in double_scalars\n",
      "  ret = ret.dtype.type(ret / rcount)\n",
      "2it [00:00, 11.63it/s]"
     ]
    },
    {
     "name": "stdout",
     "output_type": "stream",
     "text": [
      "Epoch: 22 | Epoch Time: 12.0m 27.71s\n",
      "\tTrain Loss: 0.056 | Train MSE: 0.021454275345914427 | Train R2: nan\n",
      "\t Val. Loss: 0.060 |  Val. MSE: 0.021328886980883675| Val. R2: 0.9755054660476024\n",
      "0.058110449706930765\n"
     ]
    },
    {
     "name": "stderr",
     "output_type": "stream",
     "text": [
      "7510it [12:19, 10.15it/s]\n",
      "/opt/anaconda3/lib/python3.7/site-packages/ipykernel_launcher.py:37: RuntimeWarning: Mean of empty slice.\n",
      "/opt/anaconda3/lib/python3.7/site-packages/numpy/core/_methods.py:170: RuntimeWarning: invalid value encountered in double_scalars\n",
      "  ret = ret.dtype.type(ret / rcount)\n",
      "1it [00:00,  9.83it/s]"
     ]
    },
    {
     "name": "stdout",
     "output_type": "stream",
     "text": [
      "Epoch: 23 | Epoch Time: 12.0m 34.43s\n",
      "\tTrain Loss: 0.056 | Train MSE: 0.021303542424304347 | Train R2: nan\n",
      "\t Val. Loss: 0.058 |  Val. MSE: 0.02029583909897049| Val. R2: 0.9786045997344773\n",
      "0.0577464677607982\n"
     ]
    },
    {
     "name": "stderr",
     "output_type": "stream",
     "text": [
      "7510it [10:20, 12.11it/s]\n",
      "/opt/anaconda3/lib/python3.7/site-packages/ipykernel_launcher.py:37: RuntimeWarning: Mean of empty slice.\n",
      "/opt/anaconda3/lib/python3.7/site-packages/numpy/core/_methods.py:170: RuntimeWarning: invalid value encountered in double_scalars\n",
      "  ret = ret.dtype.type(ret / rcount)\n",
      "1it [00:00,  8.92it/s]"
     ]
    },
    {
     "name": "stdout",
     "output_type": "stream",
     "text": [
      "Epoch: 24 | Epoch Time: 10.0m 35.00s\n",
      "\tTrain Loss: 0.056 | Train MSE: 0.02127110749201875 | Train R2: nan\n",
      "\t Val. Loss: 0.058 |  Val. MSE: 0.020699669524687884| Val. R2: 0.9803712197924561\n",
      "0.0577464677607982\n"
     ]
    },
    {
     "name": "stderr",
     "output_type": "stream",
     "text": [
      "7510it [11:33, 10.83it/s]\n",
      "/opt/anaconda3/lib/python3.7/site-packages/ipykernel_launcher.py:37: RuntimeWarning: Mean of empty slice.\n",
      "/opt/anaconda3/lib/python3.7/site-packages/numpy/core/_methods.py:170: RuntimeWarning: invalid value encountered in double_scalars\n",
      "  ret = ret.dtype.type(ret / rcount)\n"
     ]
    },
    {
     "name": "stdout",
     "output_type": "stream",
     "text": [
      "Epoch: 25 | Epoch Time: 11.0m 48.57s\n",
      "\tTrain Loss: 0.055 | Train MSE: 0.021205300918926213 | Train R2: nan\n",
      "\t Val. Loss: 0.059 |  Val. MSE: 0.0211826792937599| Val. R2: 0.9772405833957445\n",
      "0.0577464677607982\n"
     ]
    },
    {
     "name": "stderr",
     "output_type": "stream",
     "text": [
      "\r",
      "0it [00:00, ?it/s]"
     ]
    },
    {
     "name": "stdout",
     "output_type": "stream",
     "text": [
      "\t Test. Loss: 0.060 |  Val. MSE: 0.09938606018294786| Val. R2: 0.9775808687902842\n"
     ]
    },
    {
     "name": "stderr",
     "output_type": "stream",
     "text": [
      "7510it [10:56, 11.45it/s]\n",
      "/opt/anaconda3/lib/python3.7/site-packages/ipykernel_launcher.py:37: RuntimeWarning: Mean of empty slice.\n",
      "/opt/anaconda3/lib/python3.7/site-packages/numpy/core/_methods.py:170: RuntimeWarning: invalid value encountered in double_scalars\n",
      "  ret = ret.dtype.type(ret / rcount)\n",
      "2it [00:00, 13.00it/s]"
     ]
    },
    {
     "name": "stdout",
     "output_type": "stream",
     "text": [
      "Epoch: 26 | Epoch Time: 11.0m 11.09s\n",
      "\tTrain Loss: 0.055 | Train MSE: 0.021031890066307082 | Train R2: nan\n",
      "\t Val. Loss: 0.059 |  Val. MSE: 0.020607312620710094| Val. R2: 0.9782205390614254\n",
      "0.0577464677607982\n"
     ]
    },
    {
     "name": "stderr",
     "output_type": "stream",
     "text": [
      "7510it [12:10, 10.28it/s]\n",
      "/opt/anaconda3/lib/python3.7/site-packages/ipykernel_launcher.py:37: RuntimeWarning: Mean of empty slice.\n",
      "/opt/anaconda3/lib/python3.7/site-packages/numpy/core/_methods.py:170: RuntimeWarning: invalid value encountered in double_scalars\n",
      "  ret = ret.dtype.type(ret / rcount)\n",
      "1it [00:00,  8.81it/s]"
     ]
    },
    {
     "name": "stdout",
     "output_type": "stream",
     "text": [
      "Epoch: 27 | Epoch Time: 12.0m 25.17s\n",
      "\tTrain Loss: 0.055 | Train MSE: 0.02091412727636495 | Train R2: nan\n",
      "\t Val. Loss: 0.057 |  Val. MSE: 0.020260839875756817| Val. R2: 0.9787827993256936\n",
      "0.0571131822970057\n"
     ]
    },
    {
     "name": "stderr",
     "output_type": "stream",
     "text": [
      "7510it [12:12, 10.25it/s]\n",
      "/opt/anaconda3/lib/python3.7/site-packages/ipykernel_launcher.py:37: RuntimeWarning: Mean of empty slice.\n",
      "/opt/anaconda3/lib/python3.7/site-packages/numpy/core/_methods.py:170: RuntimeWarning: invalid value encountered in double_scalars\n",
      "  ret = ret.dtype.type(ret / rcount)\n",
      "2it [00:00, 11.76it/s]"
     ]
    },
    {
     "name": "stdout",
     "output_type": "stream",
     "text": [
      "Epoch: 28 | Epoch Time: 12.0m 27.73s\n",
      "\tTrain Loss: 0.055 | Train MSE: 0.02101560870965543 | Train R2: nan\n",
      "\t Val. Loss: 0.058 |  Val. MSE: 0.02084710496661345| Val. R2: 0.9799050745486653\n",
      "0.0571131822970057\n"
     ]
    },
    {
     "name": "stderr",
     "output_type": "stream",
     "text": [
      "7510it [12:02, 10.40it/s]\n",
      "/opt/anaconda3/lib/python3.7/site-packages/ipykernel_launcher.py:37: RuntimeWarning: Mean of empty slice.\n",
      "/opt/anaconda3/lib/python3.7/site-packages/numpy/core/_methods.py:170: RuntimeWarning: invalid value encountered in double_scalars\n",
      "  ret = ret.dtype.type(ret / rcount)\n",
      "2it [00:00, 11.62it/s]"
     ]
    },
    {
     "name": "stdout",
     "output_type": "stream",
     "text": [
      "Epoch: 29 | Epoch Time: 12.0m 17.36s\n",
      "\tTrain Loss: 0.054 | Train MSE: 0.020898554664210665 | Train R2: nan\n",
      "\t Val. Loss: 0.059 |  Val. MSE: 0.020673536980940342| Val. R2: 0.9776197627126266\n",
      "0.0571131822970057\n"
     ]
    },
    {
     "name": "stderr",
     "output_type": "stream",
     "text": [
      "7510it [12:35,  9.94it/s]\n",
      "/opt/anaconda3/lib/python3.7/site-packages/ipykernel_launcher.py:37: RuntimeWarning: Mean of empty slice.\n",
      "/opt/anaconda3/lib/python3.7/site-packages/numpy/core/_methods.py:170: RuntimeWarning: invalid value encountered in double_scalars\n",
      "  ret = ret.dtype.type(ret / rcount)\n"
     ]
    },
    {
     "name": "stdout",
     "output_type": "stream",
     "text": [
      "Epoch: 30 | Epoch Time: 12.0m 52.87s\n",
      "\tTrain Loss: 0.054 | Train MSE: 0.02100408663017359 | Train R2: nan\n",
      "\t Val. Loss: 0.058 |  Val. MSE: 0.020877170859638767| Val. R2: 0.9784627658160548\n",
      "0.0571131822970057\n"
     ]
    },
    {
     "name": "stderr",
     "output_type": "stream",
     "text": [
      "1it [00:00,  9.92it/s]"
     ]
    },
    {
     "name": "stdout",
     "output_type": "stream",
     "text": [
      "\t Test. Loss: 0.059 |  Val. MSE: 0.09789305987457435| Val. R2: 0.9801095152496416\n"
     ]
    },
    {
     "name": "stderr",
     "output_type": "stream",
     "text": [
      "7510it [12:42,  9.85it/s]\n",
      "/opt/anaconda3/lib/python3.7/site-packages/ipykernel_launcher.py:37: RuntimeWarning: Mean of empty slice.\n",
      "/opt/anaconda3/lib/python3.7/site-packages/numpy/core/_methods.py:170: RuntimeWarning: invalid value encountered in double_scalars\n",
      "  ret = ret.dtype.type(ret / rcount)\n",
      "0it [00:00, ?it/s]"
     ]
    },
    {
     "name": "stdout",
     "output_type": "stream",
     "text": [
      "Epoch: 31 | Epoch Time: 12.0m 57.01s\n",
      "\tTrain Loss: 0.054 | Train MSE: 0.020687487292662565 | Train R2: nan\n",
      "\t Val. Loss: 0.058 |  Val. MSE: 0.020500643433187072| Val. R2: 0.9776342639832021\n",
      "0.0571131822970057\n"
     ]
    },
    {
     "name": "stderr",
     "output_type": "stream",
     "text": [
      "7510it [11:57, 10.47it/s]\n",
      "/opt/anaconda3/lib/python3.7/site-packages/ipykernel_launcher.py:37: RuntimeWarning: Mean of empty slice.\n",
      "/opt/anaconda3/lib/python3.7/site-packages/numpy/core/_methods.py:170: RuntimeWarning: invalid value encountered in double_scalars\n",
      "  ret = ret.dtype.type(ret / rcount)\n",
      "2it [00:00, 11.99it/s]"
     ]
    },
    {
     "name": "stdout",
     "output_type": "stream",
     "text": [
      "Epoch: 32 | Epoch Time: 12.0m 12.38s\n",
      "\tTrain Loss: 0.054 | Train MSE: 0.02077023007950629 | Train R2: nan\n",
      "\t Val. Loss: 0.057 |  Val. MSE: 0.020394084290904033| Val. R2: 0.9806491369624063\n",
      "0.05703944864521944\n"
     ]
    },
    {
     "name": "stderr",
     "output_type": "stream",
     "text": [
      "7510it [12:14, 10.23it/s]\n",
      "/opt/anaconda3/lib/python3.7/site-packages/ipykernel_launcher.py:37: RuntimeWarning: Mean of empty slice.\n",
      "/opt/anaconda3/lib/python3.7/site-packages/numpy/core/_methods.py:170: RuntimeWarning: invalid value encountered in double_scalars\n",
      "  ret = ret.dtype.type(ret / rcount)\n",
      "1it [00:00,  8.41it/s]"
     ]
    },
    {
     "name": "stdout",
     "output_type": "stream",
     "text": [
      "Epoch: 33 | Epoch Time: 12.0m 30.35s\n",
      "\tTrain Loss: 0.054 | Train MSE: 0.020601071280256917 | Train R2: nan\n",
      "\t Val. Loss: 0.058 |  Val. MSE: 0.020936099058456992| Val. R2: 0.9777415764447245\n",
      "0.05703944864521944\n"
     ]
    },
    {
     "name": "stderr",
     "output_type": "stream",
     "text": [
      "7510it [12:16, 10.20it/s]\n",
      "/opt/anaconda3/lib/python3.7/site-packages/ipykernel_launcher.py:37: RuntimeWarning: Mean of empty slice.\n",
      "/opt/anaconda3/lib/python3.7/site-packages/numpy/core/_methods.py:170: RuntimeWarning: invalid value encountered in double_scalars\n",
      "  ret = ret.dtype.type(ret / rcount)\n",
      "2it [00:00, 11.55it/s]"
     ]
    },
    {
     "name": "stdout",
     "output_type": "stream",
     "text": [
      "Epoch: 34 | Epoch Time: 12.0m 30.92s\n",
      "\tTrain Loss: 0.053 | Train MSE: 0.020481054631147633 | Train R2: nan\n",
      "\t Val. Loss: 0.058 |  Val. MSE: 0.020521881012946944| Val. R2: 0.9791363692540589\n",
      "0.05703944864521944\n"
     ]
    },
    {
     "name": "stderr",
     "output_type": "stream",
     "text": [
      "7510it [11:22, 11.01it/s]\n",
      "/opt/anaconda3/lib/python3.7/site-packages/ipykernel_launcher.py:37: RuntimeWarning: Mean of empty slice.\n",
      "/opt/anaconda3/lib/python3.7/site-packages/numpy/core/_methods.py:170: RuntimeWarning: invalid value encountered in double_scalars\n",
      "  ret = ret.dtype.type(ret / rcount)\n"
     ]
    },
    {
     "name": "stdout",
     "output_type": "stream",
     "text": [
      "Epoch: 35 | Epoch Time: 11.0m 38.24s\n",
      "\tTrain Loss: 0.053 | Train MSE: 0.020502737922950317 | Train R2: nan\n",
      "\t Val. Loss: 0.059 |  Val. MSE: 0.020899163635318| Val. R2: 0.974884747163295\n",
      "0.05703944864521944\n"
     ]
    },
    {
     "name": "stderr",
     "output_type": "stream",
     "text": [
      "1it [00:00,  7.71it/s]"
     ]
    },
    {
     "name": "stdout",
     "output_type": "stream",
     "text": [
      "\t Test. Loss: 0.059 |  Val. MSE: 0.09787133341268303| Val. R2: 0.9807618425039936\n"
     ]
    },
    {
     "name": "stderr",
     "output_type": "stream",
     "text": [
      "7510it [12:04, 10.37it/s]\n",
      "/opt/anaconda3/lib/python3.7/site-packages/ipykernel_launcher.py:37: RuntimeWarning: Mean of empty slice.\n",
      "/opt/anaconda3/lib/python3.7/site-packages/numpy/core/_methods.py:170: RuntimeWarning: invalid value encountered in double_scalars\n",
      "  ret = ret.dtype.type(ret / rcount)\n",
      "2it [00:00, 12.90it/s]"
     ]
    },
    {
     "name": "stdout",
     "output_type": "stream",
     "text": [
      "Epoch: 36 | Epoch Time: 12.0m 19.04s\n",
      "\tTrain Loss: 0.053 | Train MSE: 0.020472949281138086 | Train R2: nan\n",
      "\t Val. Loss: 0.058 |  Val. MSE: 0.021006505259631256| Val. R2: 0.9795916038334407\n",
      "0.05703944864521944\n"
     ]
    },
    {
     "name": "stderr",
     "output_type": "stream",
     "text": [
      "7510it [11:25, 10.96it/s]\n",
      "/opt/anaconda3/lib/python3.7/site-packages/ipykernel_launcher.py:37: RuntimeWarning: Mean of empty slice.\n",
      "/opt/anaconda3/lib/python3.7/site-packages/numpy/core/_methods.py:170: RuntimeWarning: invalid value encountered in double_scalars\n",
      "  ret = ret.dtype.type(ret / rcount)\n",
      "1it [00:00,  9.33it/s]"
     ]
    },
    {
     "name": "stdout",
     "output_type": "stream",
     "text": [
      "Epoch: 37 | Epoch Time: 11.0m 40.17s\n",
      "\tTrain Loss: 0.053 | Train MSE: 0.02051300637096051 | Train R2: nan\n",
      "\t Val. Loss: 0.058 |  Val. MSE: 0.020763195103989166| Val. R2: 0.9761297128387348\n",
      "0.05703944864521944\n"
     ]
    },
    {
     "name": "stderr",
     "output_type": "stream",
     "text": [
      "7510it [10:19, 12.12it/s]\n",
      "/opt/anaconda3/lib/python3.7/site-packages/ipykernel_launcher.py:37: RuntimeWarning: Mean of empty slice.\n",
      "/opt/anaconda3/lib/python3.7/site-packages/numpy/core/_methods.py:170: RuntimeWarning: invalid value encountered in double_scalars\n",
      "  ret = ret.dtype.type(ret / rcount)\n",
      "2it [00:00, 12.28it/s]"
     ]
    },
    {
     "name": "stdout",
     "output_type": "stream",
     "text": [
      "Epoch: 38 | Epoch Time: 10.0m 34.20s\n",
      "\tTrain Loss: 0.053 | Train MSE: 0.02041678505592815 | Train R2: nan\n",
      "\t Val. Loss: 0.057 |  Val. MSE: 0.0199200801280265| Val. R2: 0.9784253157712434\n",
      "0.05703944864521944\n"
     ]
    },
    {
     "name": "stderr",
     "output_type": "stream",
     "text": [
      "7510it [12:05, 10.36it/s]\n",
      "/opt/anaconda3/lib/python3.7/site-packages/ipykernel_launcher.py:37: RuntimeWarning: Mean of empty slice.\n",
      "/opt/anaconda3/lib/python3.7/site-packages/numpy/core/_methods.py:170: RuntimeWarning: invalid value encountered in double_scalars\n",
      "  ret = ret.dtype.type(ret / rcount)\n",
      "2it [00:00, 12.44it/s]"
     ]
    },
    {
     "name": "stdout",
     "output_type": "stream",
     "text": [
      "Epoch: 39 | Epoch Time: 12.0m 19.86s\n",
      "\tTrain Loss: 0.053 | Train MSE: 0.020354014679148717 | Train R2: nan\n",
      "\t Val. Loss: 0.057 |  Val. MSE: 0.020914989759556663| Val. R2: 0.9797161110714515\n",
      "0.05700914299092784\n"
     ]
    },
    {
     "name": "stderr",
     "output_type": "stream",
     "text": [
      "7510it [11:33, 10.83it/s]\n",
      "/opt/anaconda3/lib/python3.7/site-packages/ipykernel_launcher.py:37: RuntimeWarning: Mean of empty slice.\n",
      "/opt/anaconda3/lib/python3.7/site-packages/numpy/core/_methods.py:170: RuntimeWarning: invalid value encountered in double_scalars\n",
      "  ret = ret.dtype.type(ret / rcount)\n"
     ]
    },
    {
     "name": "stdout",
     "output_type": "stream",
     "text": [
      "Epoch: 40 | Epoch Time: 11.0m 48.05s\n",
      "\tTrain Loss: 0.053 | Train MSE: 0.02034956184576202 | Train R2: nan\n",
      "\t Val. Loss: 0.057 |  Val. MSE: 0.020597885983355504| Val. R2: 0.9779787157415464\n",
      "0.056969833940618636\n"
     ]
    },
    {
     "name": "stderr",
     "output_type": "stream",
     "text": [
      "2it [00:00, 11.62it/s]"
     ]
    },
    {
     "name": "stdout",
     "output_type": "stream",
     "text": [
      "\t Test. Loss: 0.058 |  Val. MSE: 0.0977619868096933| Val. R2: 0.979313080608463\n"
     ]
    },
    {
     "name": "stderr",
     "output_type": "stream",
     "text": [
      "7510it [10:57, 11.41it/s]\n",
      "/opt/anaconda3/lib/python3.7/site-packages/ipykernel_launcher.py:37: RuntimeWarning: Mean of empty slice.\n",
      "/opt/anaconda3/lib/python3.7/site-packages/numpy/core/_methods.py:170: RuntimeWarning: invalid value encountered in double_scalars\n",
      "  ret = ret.dtype.type(ret / rcount)\n",
      "2it [00:00, 12.92it/s]"
     ]
    },
    {
     "name": "stdout",
     "output_type": "stream",
     "text": [
      "Epoch: 41 | Epoch Time: 11.0m 12.65s\n",
      "\tTrain Loss: 0.053 | Train MSE: 0.020248301747153998 | Train R2: nan\n",
      "\t Val. Loss: 0.058 |  Val. MSE: 0.020937097854313445| Val. R2: 0.9806769367119333\n",
      "0.056969833940618636\n"
     ]
    },
    {
     "name": "stderr",
     "output_type": "stream",
     "text": [
      "7510it [10:45, 11.64it/s]\n",
      "/opt/anaconda3/lib/python3.7/site-packages/ipykernel_launcher.py:37: RuntimeWarning: Mean of empty slice.\n",
      "/opt/anaconda3/lib/python3.7/site-packages/numpy/core/_methods.py:170: RuntimeWarning: invalid value encountered in double_scalars\n",
      "  ret = ret.dtype.type(ret / rcount)\n",
      "1it [00:00,  8.72it/s]"
     ]
    },
    {
     "name": "stdout",
     "output_type": "stream",
     "text": [
      "Epoch: 42 | Epoch Time: 10.0m 59.92s\n",
      "\tTrain Loss: 0.052 | Train MSE: 0.0202867653387057 | Train R2: nan\n",
      "\t Val. Loss: 0.058 |  Val. MSE: 0.02109684967145874| Val. R2: 0.9781919784476745\n",
      "0.056969833940618636\n"
     ]
    },
    {
     "name": "stderr",
     "output_type": "stream",
     "text": [
      "7510it [11:46, 10.63it/s]\n",
      "/opt/anaconda3/lib/python3.7/site-packages/ipykernel_launcher.py:37: RuntimeWarning: Mean of empty slice.\n",
      "/opt/anaconda3/lib/python3.7/site-packages/numpy/core/_methods.py:170: RuntimeWarning: invalid value encountered in double_scalars\n",
      "  ret = ret.dtype.type(ret / rcount)\n",
      "2it [00:00, 13.02it/s]"
     ]
    },
    {
     "name": "stdout",
     "output_type": "stream",
     "text": [
      "Epoch: 43 | Epoch Time: 12.0m 1.44s\n",
      "\tTrain Loss: 0.052 | Train MSE: 0.020125239607659266 | Train R2: nan\n",
      "\t Val. Loss: 0.058 |  Val. MSE: 0.020736832033625818| Val. R2: 0.977765230726402\n",
      "0.056969833940618636\n"
     ]
    },
    {
     "name": "stderr",
     "output_type": "stream",
     "text": [
      "7510it [12:01, 10.41it/s]\n",
      "/opt/anaconda3/lib/python3.7/site-packages/ipykernel_launcher.py:37: RuntimeWarning: Mean of empty slice.\n",
      "/opt/anaconda3/lib/python3.7/site-packages/numpy/core/_methods.py:170: RuntimeWarning: invalid value encountered in double_scalars\n",
      "  ret = ret.dtype.type(ret / rcount)\n",
      "1it [00:00,  9.46it/s]"
     ]
    },
    {
     "name": "stdout",
     "output_type": "stream",
     "text": [
      "Epoch: 44 | Epoch Time: 12.0m 18.53s\n",
      "\tTrain Loss: 0.052 | Train MSE: 0.01994013262244289 | Train R2: nan\n",
      "\t Val. Loss: 0.058 |  Val. MSE: 0.020708671739727402| Val. R2: 0.98023006857046\n",
      "0.056969833940618636\n"
     ]
    },
    {
     "name": "stderr",
     "output_type": "stream",
     "text": [
      "7510it [12:16, 10.20it/s]\n",
      "/opt/anaconda3/lib/python3.7/site-packages/ipykernel_launcher.py:37: RuntimeWarning: Mean of empty slice.\n",
      "/opt/anaconda3/lib/python3.7/site-packages/numpy/core/_methods.py:170: RuntimeWarning: invalid value encountered in double_scalars\n",
      "  ret = ret.dtype.type(ret / rcount)\n"
     ]
    },
    {
     "name": "stdout",
     "output_type": "stream",
     "text": [
      "Epoch: 45 | Epoch Time: 12.0m 31.39s\n",
      "\tTrain Loss: 0.052 | Train MSE: 0.01992850502958727 | Train R2: nan\n",
      "\t Val. Loss: 0.057 |  Val. MSE: 0.020697477158370517| Val. R2: 0.9808576066284538\n",
      "0.056921049705454606\n"
     ]
    },
    {
     "name": "stderr",
     "output_type": "stream",
     "text": [
      "2it [00:00, 10.58it/s]"
     ]
    },
    {
     "name": "stdout",
     "output_type": "stream",
     "text": [
      "\t Test. Loss: 0.057 |  Val. MSE: 0.09678670418096047| Val. R2: 0.9803152769904473\n"
     ]
    },
    {
     "name": "stderr",
     "output_type": "stream",
     "text": [
      "7510it [13:21,  9.37it/s]\n",
      "/opt/anaconda3/lib/python3.7/site-packages/ipykernel_launcher.py:37: RuntimeWarning: Mean of empty slice.\n",
      "/opt/anaconda3/lib/python3.7/site-packages/numpy/core/_methods.py:170: RuntimeWarning: invalid value encountered in double_scalars\n",
      "  ret = ret.dtype.type(ret / rcount)\n",
      "2it [00:00, 12.92it/s]"
     ]
    },
    {
     "name": "stdout",
     "output_type": "stream",
     "text": [
      "Epoch: 46 | Epoch Time: 13.0m 36.07s\n",
      "\tTrain Loss: 0.052 | Train MSE: 0.020090125467948035 | Train R2: nan\n",
      "\t Val. Loss: 0.058 |  Val. MSE: 0.02069975630081861| Val. R2: 0.9702320323964699\n",
      "0.056921049705454606\n"
     ]
    },
    {
     "name": "stderr",
     "output_type": "stream",
     "text": [
      "7510it [10:51, 11.52it/s]\n",
      "/opt/anaconda3/lib/python3.7/site-packages/ipykernel_launcher.py:37: RuntimeWarning: Mean of empty slice.\n",
      "/opt/anaconda3/lib/python3.7/site-packages/numpy/core/_methods.py:170: RuntimeWarning: invalid value encountered in double_scalars\n",
      "  ret = ret.dtype.type(ret / rcount)\n",
      "0it [00:00, ?it/s]"
     ]
    },
    {
     "name": "stdout",
     "output_type": "stream",
     "text": [
      "Epoch: 47 | Epoch Time: 11.0m 6.65s\n",
      "\tTrain Loss: 0.052 | Train MSE: 0.020161294047604857 | Train R2: nan\n",
      "\t Val. Loss: 0.057 |  Val. MSE: 0.020637605444478995| Val. R2: 0.9804354560418549\n",
      "0.056921049705454606\n"
     ]
    },
    {
     "name": "stderr",
     "output_type": "stream",
     "text": [
      "7510it [10:28, 11.96it/s]\n",
      "/opt/anaconda3/lib/python3.7/site-packages/ipykernel_launcher.py:37: RuntimeWarning: Mean of empty slice.\n",
      "/opt/anaconda3/lib/python3.7/site-packages/numpy/core/_methods.py:170: RuntimeWarning: invalid value encountered in double_scalars\n",
      "  ret = ret.dtype.type(ret / rcount)\n",
      "2it [00:00, 11.56it/s]"
     ]
    },
    {
     "name": "stdout",
     "output_type": "stream",
     "text": [
      "Epoch: 48 | Epoch Time: 10.0m 42.85s\n",
      "\tTrain Loss: 0.051 | Train MSE: 0.019447303922163806 | Train R2: nan\n",
      "\t Val. Loss: 0.059 |  Val. MSE: 0.021961793401696066| Val. R2: 0.9758345593067229\n",
      "0.056921049705454606\n"
     ]
    },
    {
     "name": "stderr",
     "output_type": "stream",
     "text": [
      "7510it [11:00, 11.37it/s]\n",
      "/opt/anaconda3/lib/python3.7/site-packages/ipykernel_launcher.py:37: RuntimeWarning: Mean of empty slice.\n",
      "/opt/anaconda3/lib/python3.7/site-packages/numpy/core/_methods.py:170: RuntimeWarning: invalid value encountered in double_scalars\n",
      "  ret = ret.dtype.type(ret / rcount)\n",
      "2it [00:00, 11.07it/s]"
     ]
    },
    {
     "name": "stdout",
     "output_type": "stream",
     "text": [
      "Epoch: 49 | Epoch Time: 11.0m 15.20s\n",
      "\tTrain Loss: 0.051 | Train MSE: 0.019749800410492763 | Train R2: nan\n",
      "\t Val. Loss: 0.057 |  Val. MSE: 0.02035575187107813| Val. R2: 0.9782184043156078\n",
      "0.05680014292204047\n"
     ]
    },
    {
     "name": "stderr",
     "output_type": "stream",
     "text": [
      "7510it [11:46, 10.64it/s]\n",
      "/opt/anaconda3/lib/python3.7/site-packages/ipykernel_launcher.py:37: RuntimeWarning: Mean of empty slice.\n",
      "/opt/anaconda3/lib/python3.7/site-packages/numpy/core/_methods.py:170: RuntimeWarning: invalid value encountered in double_scalars\n",
      "  ret = ret.dtype.type(ret / rcount)\n"
     ]
    },
    {
     "name": "stdout",
     "output_type": "stream",
     "text": [
      "Epoch: 50 | Epoch Time: 12.0m 1.04s\n",
      "\tTrain Loss: 0.051 | Train MSE: 0.01953162590677255 | Train R2: nan\n",
      "\t Val. Loss: 0.057 |  Val. MSE: 0.02169907659734721| Val. R2: 0.9786299546843108\n",
      "0.05680014292204047\n"
     ]
    },
    {
     "name": "stderr",
     "output_type": "stream",
     "text": [
      "2it [00:00, 11.70it/s]"
     ]
    },
    {
     "name": "stdout",
     "output_type": "stream",
     "text": [
      "\t Test. Loss: 0.057 |  Val. MSE: 0.0965465111511696| Val. R2: 0.9762767910711889\n"
     ]
    },
    {
     "name": "stderr",
     "output_type": "stream",
     "text": [
      "7510it [11:59, 10.44it/s]\n",
      "/opt/anaconda3/lib/python3.7/site-packages/ipykernel_launcher.py:37: RuntimeWarning: Mean of empty slice.\n",
      "/opt/anaconda3/lib/python3.7/site-packages/numpy/core/_methods.py:170: RuntimeWarning: invalid value encountered in double_scalars\n",
      "  ret = ret.dtype.type(ret / rcount)\n",
      "1it [00:00,  7.47it/s]"
     ]
    },
    {
     "name": "stdout",
     "output_type": "stream",
     "text": [
      "Epoch: 51 | Epoch Time: 12.0m 13.94s\n",
      "\tTrain Loss: 0.051 | Train MSE: 0.019362737919233312 | Train R2: nan\n",
      "\t Val. Loss: 0.057 |  Val. MSE: 0.02064345530215992| Val. R2: 0.9782933918159711\n",
      "0.05680014292204047\n"
     ]
    },
    {
     "name": "stderr",
     "output_type": "stream",
     "text": [
      "7510it [11:14, 11.13it/s]\n",
      "/opt/anaconda3/lib/python3.7/site-packages/ipykernel_launcher.py:37: RuntimeWarning: Mean of empty slice.\n",
      "/opt/anaconda3/lib/python3.7/site-packages/numpy/core/_methods.py:170: RuntimeWarning: invalid value encountered in double_scalars\n",
      "  ret = ret.dtype.type(ret / rcount)\n",
      "1it [00:00,  9.81it/s]"
     ]
    },
    {
     "name": "stdout",
     "output_type": "stream",
     "text": [
      "Epoch: 52 | Epoch Time: 11.0m 29.70s\n",
      "\tTrain Loss: 0.051 | Train MSE: 0.01973535032966453 | Train R2: nan\n",
      "\t Val. Loss: 0.057 |  Val. MSE: 0.02076750575952802| Val. R2: 0.9790450640658741\n",
      "0.05680014292204047\n"
     ]
    },
    {
     "name": "stderr",
     "output_type": "stream",
     "text": [
      "7510it [10:19, 12.13it/s]\n",
      "/opt/anaconda3/lib/python3.7/site-packages/ipykernel_launcher.py:37: RuntimeWarning: Mean of empty slice.\n",
      "/opt/anaconda3/lib/python3.7/site-packages/numpy/core/_methods.py:170: RuntimeWarning: invalid value encountered in double_scalars\n",
      "  ret = ret.dtype.type(ret / rcount)\n",
      "2it [00:00, 13.02it/s]"
     ]
    },
    {
     "name": "stdout",
     "output_type": "stream",
     "text": [
      "Epoch: 53 | Epoch Time: 10.0m 33.95s\n",
      "\tTrain Loss: 0.050 | Train MSE: 0.019533378398163128 | Train R2: nan\n",
      "\t Val. Loss: 0.058 |  Val. MSE: 0.021290928310277138| Val. R2: 0.9773894563635064\n",
      "0.05680014292204047\n"
     ]
    },
    {
     "name": "stderr",
     "output_type": "stream",
     "text": [
      "7510it [11:19, 11.05it/s]\n",
      "/opt/anaconda3/lib/python3.7/site-packages/ipykernel_launcher.py:37: RuntimeWarning: Mean of empty slice.\n",
      "/opt/anaconda3/lib/python3.7/site-packages/numpy/core/_methods.py:170: RuntimeWarning: invalid value encountered in double_scalars\n",
      "  ret = ret.dtype.type(ret / rcount)\n",
      "0it [00:00, ?it/s]"
     ]
    },
    {
     "name": "stdout",
     "output_type": "stream",
     "text": [
      "Epoch: 54 | Epoch Time: 11.0m 34.38s\n",
      "\tTrain Loss: 0.050 | Train MSE: 0.019672216145030223 | Train R2: nan\n",
      "\t Val. Loss: 0.057 |  Val. MSE: 0.020456769035045824| Val. R2: 0.9783227904623963\n",
      "0.05660757248047707\n"
     ]
    },
    {
     "name": "stderr",
     "output_type": "stream",
     "text": [
      "7510it [11:37, 10.76it/s]\n",
      "/opt/anaconda3/lib/python3.7/site-packages/ipykernel_launcher.py:37: RuntimeWarning: Mean of empty slice.\n",
      "/opt/anaconda3/lib/python3.7/site-packages/numpy/core/_methods.py:170: RuntimeWarning: invalid value encountered in double_scalars\n",
      "  ret = ret.dtype.type(ret / rcount)\n"
     ]
    },
    {
     "name": "stdout",
     "output_type": "stream",
     "text": [
      "Epoch: 55 | Epoch Time: 11.0m 52.54s\n",
      "\tTrain Loss: 0.050 | Train MSE: 0.019357907258618967 | Train R2: nan\n",
      "\t Val. Loss: 0.058 |  Val. MSE: 0.02156930140917613| Val. R2: 0.9765600792668128\n",
      "0.05660757248047707\n"
     ]
    },
    {
     "name": "stderr",
     "output_type": "stream",
     "text": [
      "2it [00:00, 11.47it/s]"
     ]
    },
    {
     "name": "stdout",
     "output_type": "stream",
     "text": [
      "\t Test. Loss: 0.059 |  Val. MSE: 0.09738571246042457| Val. R2: 0.9779916521299964\n"
     ]
    },
    {
     "name": "stderr",
     "output_type": "stream",
     "text": [
      "7510it [11:07, 11.26it/s]\n",
      "/opt/anaconda3/lib/python3.7/site-packages/ipykernel_launcher.py:37: RuntimeWarning: Mean of empty slice.\n",
      "/opt/anaconda3/lib/python3.7/site-packages/numpy/core/_methods.py:170: RuntimeWarning: invalid value encountered in double_scalars\n",
      "  ret = ret.dtype.type(ret / rcount)\n",
      "2it [00:00, 11.49it/s]"
     ]
    },
    {
     "name": "stdout",
     "output_type": "stream",
     "text": [
      "Epoch: 56 | Epoch Time: 11.0m 21.99s\n",
      "\tTrain Loss: 0.050 | Train MSE: 0.0192886598228445 | Train R2: nan\n",
      "\t Val. Loss: 0.057 |  Val. MSE: 0.021581138802887236| Val. R2: 0.9772895776984702\n",
      "0.05660757248047707\n"
     ]
    },
    {
     "name": "stderr",
     "output_type": "stream",
     "text": [
      "7510it [12:02, 10.39it/s]\n",
      "/opt/anaconda3/lib/python3.7/site-packages/ipykernel_launcher.py:37: RuntimeWarning: Mean of empty slice.\n",
      "/opt/anaconda3/lib/python3.7/site-packages/numpy/core/_methods.py:170: RuntimeWarning: invalid value encountered in double_scalars\n",
      "  ret = ret.dtype.type(ret / rcount)\n",
      "1it [00:00,  7.57it/s]"
     ]
    },
    {
     "name": "stdout",
     "output_type": "stream",
     "text": [
      "Epoch: 57 | Epoch Time: 12.0m 17.45s\n",
      "\tTrain Loss: 0.050 | Train MSE: 0.01956315824119106 | Train R2: nan\n",
      "\t Val. Loss: 0.058 |  Val. MSE: 0.021986082841065815| Val. R2: 0.9748322056958914\n",
      "0.05660757248047707\n"
     ]
    },
    {
     "name": "stderr",
     "output_type": "stream",
     "text": [
      "7510it [10:21, 12.09it/s]\n",
      "/opt/anaconda3/lib/python3.7/site-packages/ipykernel_launcher.py:37: RuntimeWarning: Mean of empty slice.\n",
      "/opt/anaconda3/lib/python3.7/site-packages/numpy/core/_methods.py:170: RuntimeWarning: invalid value encountered in double_scalars\n",
      "  ret = ret.dtype.type(ret / rcount)\n",
      "2it [00:00, 10.66it/s]"
     ]
    },
    {
     "name": "stdout",
     "output_type": "stream",
     "text": [
      "Epoch: 58 | Epoch Time: 10.0m 36.19s\n",
      "\tTrain Loss: 0.050 | Train MSE: 0.01907647985613384 | Train R2: nan\n",
      "\t Val. Loss: 0.056 |  Val. MSE: 0.020447779901035273| Val. R2: 0.9791448800075346\n",
      "0.05636498779481046\n"
     ]
    },
    {
     "name": "stderr",
     "output_type": "stream",
     "text": [
      "7510it [10:52, 11.51it/s]\n",
      "/opt/anaconda3/lib/python3.7/site-packages/ipykernel_launcher.py:37: RuntimeWarning: Mean of empty slice.\n",
      "/opt/anaconda3/lib/python3.7/site-packages/numpy/core/_methods.py:170: RuntimeWarning: invalid value encountered in double_scalars\n",
      "  ret = ret.dtype.type(ret / rcount)\n",
      "2it [00:00, 11.00it/s]"
     ]
    },
    {
     "name": "stdout",
     "output_type": "stream",
     "text": [
      "Epoch: 59 | Epoch Time: 11.0m 7.25s\n",
      "\tTrain Loss: 0.049 | Train MSE: 0.01879444146841212 | Train R2: nan\n",
      "\t Val. Loss: 0.057 |  Val. MSE: 0.021195121805691917| Val. R2: 0.9727909214042612\n",
      "0.05636498779481046\n"
     ]
    },
    {
     "name": "stderr",
     "output_type": "stream",
     "text": [
      "7510it [11:57, 10.46it/s]\n",
      "/opt/anaconda3/lib/python3.7/site-packages/ipykernel_launcher.py:37: RuntimeWarning: Mean of empty slice.\n",
      "/opt/anaconda3/lib/python3.7/site-packages/numpy/core/_methods.py:170: RuntimeWarning: invalid value encountered in double_scalars\n",
      "  ret = ret.dtype.type(ret / rcount)\n"
     ]
    },
    {
     "name": "stdout",
     "output_type": "stream",
     "text": [
      "Epoch: 60 | Epoch Time: 12.0m 12.70s\n",
      "\tTrain Loss: 0.049 | Train MSE: 0.019208283095526538 | Train R2: nan\n",
      "\t Val. Loss: 0.057 |  Val. MSE: 0.02077206683355399| Val. R2: 0.9796970561689066\n",
      "0.05636498779481046\n"
     ]
    },
    {
     "name": "stderr",
     "output_type": "stream",
     "text": [
      "2it [00:00, 10.68it/s]"
     ]
    },
    {
     "name": "stdout",
     "output_type": "stream",
     "text": [
      "\t Test. Loss: 0.058 |  Val. MSE: 0.09677608407396712| Val. R2: 0.9786765746305934\n"
     ]
    },
    {
     "name": "stderr",
     "output_type": "stream",
     "text": [
      "7510it [12:05, 10.35it/s]\n",
      "/opt/anaconda3/lib/python3.7/site-packages/ipykernel_launcher.py:37: RuntimeWarning: Mean of empty slice.\n",
      "/opt/anaconda3/lib/python3.7/site-packages/numpy/core/_methods.py:170: RuntimeWarning: invalid value encountered in double_scalars\n",
      "  ret = ret.dtype.type(ret / rcount)\n",
      "2it [00:00, 10.90it/s]"
     ]
    },
    {
     "name": "stdout",
     "output_type": "stream",
     "text": [
      "Epoch: 61 | Epoch Time: 12.0m 20.25s\n",
      "\tTrain Loss: 0.049 | Train MSE: 0.018898260476447718 | Train R2: nan\n",
      "\t Val. Loss: 0.057 |  Val. MSE: 0.020918791812166652| Val. R2: 0.9789456312199668\n",
      "0.05636498779481046\n"
     ]
    },
    {
     "name": "stderr",
     "output_type": "stream",
     "text": [
      "7510it [11:55, 10.49it/s]\n",
      "/opt/anaconda3/lib/python3.7/site-packages/ipykernel_launcher.py:37: RuntimeWarning: Mean of empty slice.\n",
      "/opt/anaconda3/lib/python3.7/site-packages/numpy/core/_methods.py:170: RuntimeWarning: invalid value encountered in double_scalars\n",
      "  ret = ret.dtype.type(ret / rcount)\n",
      "0it [00:00, ?it/s]"
     ]
    },
    {
     "name": "stdout",
     "output_type": "stream",
     "text": [
      "Epoch: 62 | Epoch Time: 12.0m 10.59s\n",
      "\tTrain Loss: 0.049 | Train MSE: 0.018933827956180743 | Train R2: nan\n",
      "\t Val. Loss: 0.058 |  Val. MSE: 0.021850109886119823| Val. R2: 0.979804889472907\n",
      "0.05636498779481046\n"
     ]
    },
    {
     "name": "stderr",
     "output_type": "stream",
     "text": [
      "7510it [11:51, 10.56it/s]\n",
      "/opt/anaconda3/lib/python3.7/site-packages/ipykernel_launcher.py:37: RuntimeWarning: Mean of empty slice.\n",
      "/opt/anaconda3/lib/python3.7/site-packages/numpy/core/_methods.py:170: RuntimeWarning: invalid value encountered in double_scalars\n",
      "  ret = ret.dtype.type(ret / rcount)\n",
      "0it [00:00, ?it/s]"
     ]
    },
    {
     "name": "stdout",
     "output_type": "stream",
     "text": [
      "Epoch: 63 | Epoch Time: 12.0m 6.39s\n",
      "\tTrain Loss: 0.049 | Train MSE: 0.018943857565044287 | Train R2: nan\n",
      "\t Val. Loss: 0.057 |  Val. MSE: 0.020536572131796386| Val. R2: 0.978667133771642\n",
      "0.05636498779481046\n"
     ]
    },
    {
     "name": "stderr",
     "output_type": "stream",
     "text": [
      "7510it [10:21, 12.08it/s]\n",
      "/opt/anaconda3/lib/python3.7/site-packages/ipykernel_launcher.py:37: RuntimeWarning: Mean of empty slice.\n",
      "/opt/anaconda3/lib/python3.7/site-packages/numpy/core/_methods.py:170: RuntimeWarning: invalid value encountered in double_scalars\n",
      "  ret = ret.dtype.type(ret / rcount)\n",
      "2it [00:00, 12.90it/s]"
     ]
    },
    {
     "name": "stdout",
     "output_type": "stream",
     "text": [
      "Epoch: 64 | Epoch Time: 10.0m 36.69s\n",
      "\tTrain Loss: 0.049 | Train MSE: 0.018646352722126187 | Train R2: nan\n",
      "\t Val. Loss: 0.057 |  Val. MSE: 0.01996500334080433| Val. R2: 0.9787112972715788\n",
      "0.05636498779481046\n"
     ]
    },
    {
     "name": "stderr",
     "output_type": "stream",
     "text": [
      "7510it [11:27, 10.93it/s]\n",
      "/opt/anaconda3/lib/python3.7/site-packages/ipykernel_launcher.py:37: RuntimeWarning: Mean of empty slice.\n",
      "/opt/anaconda3/lib/python3.7/site-packages/numpy/core/_methods.py:170: RuntimeWarning: invalid value encountered in double_scalars\n",
      "  ret = ret.dtype.type(ret / rcount)\n"
     ]
    },
    {
     "name": "stdout",
     "output_type": "stream",
     "text": [
      "Epoch: 65 | Epoch Time: 11.0m 42.15s\n",
      "\tTrain Loss: 0.049 | Train MSE: 0.018815918925233825 | Train R2: nan\n",
      "\t Val. Loss: 0.057 |  Val. MSE: 0.02011708719721774| Val. R2: 0.9790142669683538\n",
      "0.05636498779481046\n"
     ]
    },
    {
     "name": "stderr",
     "output_type": "stream",
     "text": [
      "1it [00:00,  7.35it/s]"
     ]
    },
    {
     "name": "stdout",
     "output_type": "stream",
     "text": [
      "\t Test. Loss: 0.058 |  Val. MSE: 0.09657300495417434| Val. R2: 0.9792527150558711\n"
     ]
    },
    {
     "name": "stderr",
     "output_type": "stream",
     "text": [
      "7510it [11:10, 11.20it/s]\n",
      "/opt/anaconda3/lib/python3.7/site-packages/ipykernel_launcher.py:37: RuntimeWarning: Mean of empty slice.\n",
      "/opt/anaconda3/lib/python3.7/site-packages/numpy/core/_methods.py:170: RuntimeWarning: invalid value encountered in double_scalars\n",
      "  ret = ret.dtype.type(ret / rcount)\n",
      "2it [00:00, 11.09it/s]"
     ]
    },
    {
     "name": "stdout",
     "output_type": "stream",
     "text": [
      "Epoch: 66 | Epoch Time: 11.0m 25.25s\n",
      "\tTrain Loss: 0.048 | Train MSE: 0.01873741002767028 | Train R2: nan\n",
      "\t Val. Loss: 0.056 |  Val. MSE: 0.02002480767673795| Val. R2: 0.979930180725903\n",
      "0.05629027694996843\n"
     ]
    },
    {
     "name": "stderr",
     "output_type": "stream",
     "text": [
      "7510it [11:55, 10.50it/s]\n",
      "/opt/anaconda3/lib/python3.7/site-packages/ipykernel_launcher.py:37: RuntimeWarning: Mean of empty slice.\n",
      "/opt/anaconda3/lib/python3.7/site-packages/numpy/core/_methods.py:170: RuntimeWarning: invalid value encountered in double_scalars\n",
      "  ret = ret.dtype.type(ret / rcount)\n",
      "1it [00:00,  6.97it/s]"
     ]
    },
    {
     "name": "stdout",
     "output_type": "stream",
     "text": [
      "Epoch: 67 | Epoch Time: 12.0m 10.04s\n",
      "\tTrain Loss: 0.048 | Train MSE: 0.01861870371720484 | Train R2: nan\n",
      "\t Val. Loss: 0.057 |  Val. MSE: 0.021029921803051722| Val. R2: 0.9759374184711772\n",
      "0.05629027694996843\n"
     ]
    },
    {
     "name": "stderr",
     "output_type": "stream",
     "text": [
      "7510it [12:18, 10.16it/s]\n",
      "/opt/anaconda3/lib/python3.7/site-packages/ipykernel_launcher.py:37: RuntimeWarning: Mean of empty slice.\n",
      "/opt/anaconda3/lib/python3.7/site-packages/numpy/core/_methods.py:170: RuntimeWarning: invalid value encountered in double_scalars\n",
      "  ret = ret.dtype.type(ret / rcount)\n",
      "1it [00:00,  9.95it/s]"
     ]
    },
    {
     "name": "stdout",
     "output_type": "stream",
     "text": [
      "Epoch: 68 | Epoch Time: 12.0m 33.67s\n",
      "\tTrain Loss: 0.048 | Train MSE: 0.018376870065169373 | Train R2: nan\n",
      "\t Val. Loss: 0.056 |  Val. MSE: 0.020236222330849766| Val. R2: 0.9756902381291902\n",
      "0.05607994452580471\n"
     ]
    },
    {
     "name": "stderr",
     "output_type": "stream",
     "text": [
      "7510it [12:21, 10.12it/s]\n",
      "/opt/anaconda3/lib/python3.7/site-packages/ipykernel_launcher.py:37: RuntimeWarning: Mean of empty slice.\n",
      "/opt/anaconda3/lib/python3.7/site-packages/numpy/core/_methods.py:170: RuntimeWarning: invalid value encountered in double_scalars\n",
      "  ret = ret.dtype.type(ret / rcount)\n",
      "1it [00:00,  7.58it/s]"
     ]
    },
    {
     "name": "stdout",
     "output_type": "stream",
     "text": [
      "Epoch: 69 | Epoch Time: 12.0m 36.84s\n",
      "\tTrain Loss: 0.048 | Train MSE: 0.018258427226518374 | Train R2: nan\n",
      "\t Val. Loss: 0.058 |  Val. MSE: 0.02016876458528047| Val. R2: 0.9783577315700605\n",
      "0.05607994452580471\n"
     ]
    },
    {
     "name": "stderr",
     "output_type": "stream",
     "text": [
      "7510it [11:48, 10.60it/s]\n",
      "/opt/anaconda3/lib/python3.7/site-packages/ipykernel_launcher.py:37: RuntimeWarning: Mean of empty slice.\n",
      "/opt/anaconda3/lib/python3.7/site-packages/numpy/core/_methods.py:170: RuntimeWarning: invalid value encountered in double_scalars\n",
      "  ret = ret.dtype.type(ret / rcount)\n"
     ]
    },
    {
     "name": "stdout",
     "output_type": "stream",
     "text": [
      "Epoch: 70 | Epoch Time: 12.0m 3.11s\n",
      "\tTrain Loss: 0.048 | Train MSE: 0.018390486050417668 | Train R2: nan\n",
      "\t Val. Loss: 0.057 |  Val. MSE: 0.022095986046127603| Val. R2: 0.9769333538491374\n",
      "0.05607994452580471\n"
     ]
    },
    {
     "name": "stderr",
     "output_type": "stream",
     "text": [
      "2it [00:00, 11.44it/s]"
     ]
    },
    {
     "name": "stdout",
     "output_type": "stream",
     "text": [
      "\t Test. Loss: 0.057 |  Val. MSE: 0.09546301456210553| Val. R2: 0.980943116279447\n"
     ]
    },
    {
     "name": "stderr",
     "output_type": "stream",
     "text": [
      "7510it [12:04, 10.37it/s]\n",
      "/opt/anaconda3/lib/python3.7/site-packages/ipykernel_launcher.py:37: RuntimeWarning: Mean of empty slice.\n",
      "/opt/anaconda3/lib/python3.7/site-packages/numpy/core/_methods.py:170: RuntimeWarning: invalid value encountered in double_scalars\n",
      "  ret = ret.dtype.type(ret / rcount)\n",
      "2it [00:00, 11.98it/s]"
     ]
    },
    {
     "name": "stdout",
     "output_type": "stream",
     "text": [
      "Epoch: 71 | Epoch Time: 12.0m 18.71s\n",
      "\tTrain Loss: 0.048 | Train MSE: 0.018385950345203232 | Train R2: nan\n",
      "\t Val. Loss: 0.056 |  Val. MSE: 0.020447794169492908| Val. R2: 0.9802293325506053\n",
      "0.055587203960287115\n"
     ]
    },
    {
     "name": "stderr",
     "output_type": "stream",
     "text": [
      "7510it [10:16, 12.17it/s]\n",
      "/opt/anaconda3/lib/python3.7/site-packages/ipykernel_launcher.py:37: RuntimeWarning: Mean of empty slice.\n",
      "/opt/anaconda3/lib/python3.7/site-packages/numpy/core/_methods.py:170: RuntimeWarning: invalid value encountered in double_scalars\n",
      "  ret = ret.dtype.type(ret / rcount)\n",
      "1it [00:00,  6.81it/s]"
     ]
    },
    {
     "name": "stdout",
     "output_type": "stream",
     "text": [
      "Epoch: 72 | Epoch Time: 10.0m 31.57s\n",
      "\tTrain Loss: 0.047 | Train MSE: 0.018404945485315103 | Train R2: nan\n",
      "\t Val. Loss: 0.057 |  Val. MSE: 0.020741530330421972| Val. R2: 0.9782198395648161\n",
      "0.055587203960287115\n"
     ]
    },
    {
     "name": "stderr",
     "output_type": "stream",
     "text": [
      "7510it [12:21, 10.13it/s]\n",
      "/opt/anaconda3/lib/python3.7/site-packages/ipykernel_launcher.py:37: RuntimeWarning: Mean of empty slice.\n",
      "/opt/anaconda3/lib/python3.7/site-packages/numpy/core/_methods.py:170: RuntimeWarning: invalid value encountered in double_scalars\n",
      "  ret = ret.dtype.type(ret / rcount)\n",
      "1it [00:00,  6.82it/s]"
     ]
    },
    {
     "name": "stdout",
     "output_type": "stream",
     "text": [
      "Epoch: 73 | Epoch Time: 12.0m 38.23s\n",
      "\tTrain Loss: 0.047 | Train MSE: 0.01811068555023318 | Train R2: nan\n",
      "\t Val. Loss: 0.057 |  Val. MSE: 0.02049429344725844| Val. R2: 0.9795825349345764\n",
      "0.055587203960287115\n"
     ]
    },
    {
     "name": "stderr",
     "output_type": "stream",
     "text": [
      "7510it [12:03, 10.38it/s]\n",
      "/opt/anaconda3/lib/python3.7/site-packages/ipykernel_launcher.py:37: RuntimeWarning: Mean of empty slice.\n",
      "/opt/anaconda3/lib/python3.7/site-packages/numpy/core/_methods.py:170: RuntimeWarning: invalid value encountered in double_scalars\n",
      "  ret = ret.dtype.type(ret / rcount)\n",
      "2it [00:00, 12.36it/s]"
     ]
    },
    {
     "name": "stdout",
     "output_type": "stream",
     "text": [
      "Epoch: 74 | Epoch Time: 12.0m 18.14s\n",
      "\tTrain Loss: 0.047 | Train MSE: 0.018058078422112638 | Train R2: nan\n",
      "\t Val. Loss: 0.057 |  Val. MSE: 0.02072582541524378| Val. R2: 0.9799037584635681\n",
      "0.055587203960287115\n"
     ]
    },
    {
     "name": "stderr",
     "output_type": "stream",
     "text": [
      "7510it [11:40, 10.71it/s]\n",
      "/opt/anaconda3/lib/python3.7/site-packages/ipykernel_launcher.py:37: RuntimeWarning: Mean of empty slice.\n",
      "/opt/anaconda3/lib/python3.7/site-packages/numpy/core/_methods.py:170: RuntimeWarning: invalid value encountered in double_scalars\n",
      "  ret = ret.dtype.type(ret / rcount)\n"
     ]
    },
    {
     "name": "stdout",
     "output_type": "stream",
     "text": [
      "Epoch: 75 | Epoch Time: 11.0m 55.45s\n",
      "\tTrain Loss: 0.047 | Train MSE: 0.018054891555246495 | Train R2: nan\n",
      "\t Val. Loss: 0.056 |  Val. MSE: 0.021006713004753947| Val. R2: 0.9773998157842536\n",
      "0.055587203960287115\n"
     ]
    },
    {
     "name": "stderr",
     "output_type": "stream",
     "text": [
      "2it [00:00, 13.19it/s]"
     ]
    },
    {
     "name": "stdout",
     "output_type": "stream",
     "text": [
      "\t Test. Loss: 0.057 |  Val. MSE: 0.0953261240598393| Val. R2: 0.9803469771965568\n"
     ]
    },
    {
     "name": "stderr",
     "output_type": "stream",
     "text": [
      "7510it [10:28, 11.95it/s]\n",
      "/opt/anaconda3/lib/python3.7/site-packages/ipykernel_launcher.py:37: RuntimeWarning: Mean of empty slice.\n",
      "/opt/anaconda3/lib/python3.7/site-packages/numpy/core/_methods.py:170: RuntimeWarning: invalid value encountered in double_scalars\n",
      "  ret = ret.dtype.type(ret / rcount)\n",
      "0it [00:00, ?it/s]"
     ]
    },
    {
     "name": "stdout",
     "output_type": "stream",
     "text": [
      "Epoch: 76 | Epoch Time: 10.0m 42.96s\n",
      "\tTrain Loss: 0.047 | Train MSE: 0.01810160238885398 | Train R2: nan\n",
      "\t Val. Loss: 0.057 |  Val. MSE: 0.021010650110876564| Val. R2: 0.9804408809216755\n",
      "0.055587203960287115\n"
     ]
    },
    {
     "name": "stderr",
     "output_type": "stream",
     "text": [
      "7510it [10:14, 12.22it/s]\n",
      "/opt/anaconda3/lib/python3.7/site-packages/ipykernel_launcher.py:37: RuntimeWarning: Mean of empty slice.\n",
      "/opt/anaconda3/lib/python3.7/site-packages/numpy/core/_methods.py:170: RuntimeWarning: invalid value encountered in double_scalars\n",
      "  ret = ret.dtype.type(ret / rcount)\n",
      "1it [00:00,  6.07it/s]"
     ]
    },
    {
     "name": "stdout",
     "output_type": "stream",
     "text": [
      "Epoch: 77 | Epoch Time: 10.0m 29.31s\n",
      "\tTrain Loss: 0.047 | Train MSE: 0.017977935774731394 | Train R2: nan\n",
      "\t Val. Loss: 0.056 |  Val. MSE: 0.020145475883685975| Val. R2: 0.9768053569566816\n",
      "0.055587203960287115\n"
     ]
    },
    {
     "name": "stderr",
     "output_type": "stream",
     "text": [
      "7510it [11:38, 10.76it/s]\n",
      "/opt/anaconda3/lib/python3.7/site-packages/ipykernel_launcher.py:37: RuntimeWarning: Mean of empty slice.\n",
      "/opt/anaconda3/lib/python3.7/site-packages/numpy/core/_methods.py:170: RuntimeWarning: invalid value encountered in double_scalars\n",
      "  ret = ret.dtype.type(ret / rcount)\n",
      "2it [00:00, 12.21it/s]"
     ]
    },
    {
     "name": "stdout",
     "output_type": "stream",
     "text": [
      "Epoch: 78 | Epoch Time: 11.0m 52.92s\n",
      "\tTrain Loss: 0.047 | Train MSE: 0.017979188478916396 | Train R2: nan\n",
      "\t Val. Loss: 0.056 |  Val. MSE: 0.020752846372221762| Val. R2: 0.9805914391944265\n",
      "0.055587203960287115\n"
     ]
    },
    {
     "name": "stderr",
     "output_type": "stream",
     "text": [
      "7510it [11:53, 10.53it/s]\n",
      "/opt/anaconda3/lib/python3.7/site-packages/ipykernel_launcher.py:37: RuntimeWarning: Mean of empty slice.\n",
      "/opt/anaconda3/lib/python3.7/site-packages/numpy/core/_methods.py:170: RuntimeWarning: invalid value encountered in double_scalars\n",
      "  ret = ret.dtype.type(ret / rcount)\n",
      "2it [00:00, 11.02it/s]"
     ]
    },
    {
     "name": "stdout",
     "output_type": "stream",
     "text": [
      "Epoch: 79 | Epoch Time: 12.0m 7.89s\n",
      "\tTrain Loss: 0.047 | Train MSE: 0.017872233546195916 | Train R2: nan\n",
      "\t Val. Loss: 0.056 |  Val. MSE: 0.020618311322367723| Val. R2: 0.979932319944237\n",
      "0.055587203960287115\n"
     ]
    },
    {
     "name": "stderr",
     "output_type": "stream",
     "text": [
      "7510it [12:29, 10.02it/s]\n",
      "/opt/anaconda3/lib/python3.7/site-packages/ipykernel_launcher.py:37: RuntimeWarning: Mean of empty slice.\n",
      "/opt/anaconda3/lib/python3.7/site-packages/numpy/core/_methods.py:170: RuntimeWarning: invalid value encountered in double_scalars\n",
      "  ret = ret.dtype.type(ret / rcount)\n"
     ]
    },
    {
     "name": "stdout",
     "output_type": "stream",
     "text": [
      "Epoch: 80 | Epoch Time: 12.0m 44.53s\n",
      "\tTrain Loss: 0.046 | Train MSE: 0.017653536993726963 | Train R2: nan\n",
      "\t Val. Loss: 0.057 |  Val. MSE: 0.021195125240807373| Val. R2: 0.9793963503842721\n",
      "0.055587203960287115\n"
     ]
    },
    {
     "name": "stderr",
     "output_type": "stream",
     "text": [
      "2it [00:00, 12.96it/s]"
     ]
    },
    {
     "name": "stdout",
     "output_type": "stream",
     "text": [
      "\t Test. Loss: 0.058 |  Val. MSE: 0.09626110268506444| Val. R2: 0.9801900196182872\n"
     ]
    },
    {
     "name": "stderr",
     "output_type": "stream",
     "text": [
      "7510it [11:05, 11.28it/s]\n",
      "/opt/anaconda3/lib/python3.7/site-packages/ipykernel_launcher.py:37: RuntimeWarning: Mean of empty slice.\n",
      "/opt/anaconda3/lib/python3.7/site-packages/numpy/core/_methods.py:170: RuntimeWarning: invalid value encountered in double_scalars\n",
      "  ret = ret.dtype.type(ret / rcount)\n",
      "2it [00:00, 12.96it/s]"
     ]
    },
    {
     "name": "stdout",
     "output_type": "stream",
     "text": [
      "Epoch: 81 | Epoch Time: 11.0m 20.46s\n",
      "\tTrain Loss: 0.046 | Train MSE: 0.017653145410636818 | Train R2: nan\n",
      "\t Val. Loss: 0.056 |  Val. MSE: 0.020510470950981602| Val. R2: 0.97858083298004\n",
      "0.055587203960287115\n"
     ]
    },
    {
     "name": "stderr",
     "output_type": "stream",
     "text": [
      "7510it [11:39, 10.74it/s]\n",
      "/opt/anaconda3/lib/python3.7/site-packages/ipykernel_launcher.py:37: RuntimeWarning: Mean of empty slice.\n",
      "/opt/anaconda3/lib/python3.7/site-packages/numpy/core/_methods.py:170: RuntimeWarning: invalid value encountered in double_scalars\n",
      "  ret = ret.dtype.type(ret / rcount)\n",
      "2it [00:00, 12.18it/s]"
     ]
    },
    {
     "name": "stdout",
     "output_type": "stream",
     "text": [
      "Epoch: 82 | Epoch Time: 11.0m 54.18s\n",
      "\tTrain Loss: 0.046 | Train MSE: 0.017598044759097743 | Train R2: nan\n",
      "\t Val. Loss: 0.056 |  Val. MSE: 0.019877386135967484| Val. R2: 0.9800799873941763\n",
      "0.05552890406593186\n"
     ]
    },
    {
     "name": "stderr",
     "output_type": "stream",
     "text": [
      "7510it [10:22, 12.07it/s]\n",
      "/opt/anaconda3/lib/python3.7/site-packages/ipykernel_launcher.py:37: RuntimeWarning: Mean of empty slice.\n",
      "/opt/anaconda3/lib/python3.7/site-packages/numpy/core/_methods.py:170: RuntimeWarning: invalid value encountered in double_scalars\n",
      "  ret = ret.dtype.type(ret / rcount)\n",
      "1it [00:00,  8.26it/s]"
     ]
    },
    {
     "name": "stdout",
     "output_type": "stream",
     "text": [
      "Epoch: 83 | Epoch Time: 10.0m 37.24s\n",
      "\tTrain Loss: 0.046 | Train MSE: 0.017796404838736152 | Train R2: nan\n",
      "\t Val. Loss: 0.056 |  Val. MSE: 0.02020792742875146| Val. R2: 0.9781657018950862\n",
      "0.05552890406593186\n"
     ]
    },
    {
     "name": "stderr",
     "output_type": "stream",
     "text": [
      "7510it [10:49, 11.56it/s]\n",
      "/opt/anaconda3/lib/python3.7/site-packages/ipykernel_launcher.py:37: RuntimeWarning: Mean of empty slice.\n",
      "/opt/anaconda3/lib/python3.7/site-packages/numpy/core/_methods.py:170: RuntimeWarning: invalid value encountered in double_scalars\n",
      "  ret = ret.dtype.type(ret / rcount)\n",
      "1it [00:00,  6.90it/s]"
     ]
    },
    {
     "name": "stdout",
     "output_type": "stream",
     "text": [
      "Epoch: 84 | Epoch Time: 11.0m 4.66s\n",
      "\tTrain Loss: 0.046 | Train MSE: 0.017506643899238956 | Train R2: nan\n",
      "\t Val. Loss: 0.056 |  Val. MSE: 0.020082556515649986| Val. R2: 0.9786322916015867\n",
      "0.05552890406593186\n"
     ]
    },
    {
     "name": "stderr",
     "output_type": "stream",
     "text": [
      "7510it [12:12, 10.25it/s]\n",
      "/opt/anaconda3/lib/python3.7/site-packages/ipykernel_launcher.py:37: RuntimeWarning: Mean of empty slice.\n",
      "/opt/anaconda3/lib/python3.7/site-packages/numpy/core/_methods.py:170: RuntimeWarning: invalid value encountered in double_scalars\n",
      "  ret = ret.dtype.type(ret / rcount)\n"
     ]
    },
    {
     "name": "stdout",
     "output_type": "stream",
     "text": [
      "Epoch: 85 | Epoch Time: 12.0m 27.25s\n",
      "\tTrain Loss: 0.046 | Train MSE: 0.017503259253544033 | Train R2: nan\n",
      "\t Val. Loss: 0.056 |  Val. MSE: 0.020614569531022763| Val. R2: 0.9806008776123989\n",
      "0.05552890406593186\n"
     ]
    },
    {
     "name": "stderr",
     "output_type": "stream",
     "text": [
      "1it [00:00,  6.84it/s]"
     ]
    },
    {
     "name": "stdout",
     "output_type": "stream",
     "text": [
      "\t Test. Loss: 0.057 |  Val. MSE: 0.09634861625230386| Val. R2: 0.9791344719580393\n"
     ]
    },
    {
     "name": "stderr",
     "output_type": "stream",
     "text": [
      "7510it [11:51, 10.55it/s]\n",
      "/opt/anaconda3/lib/python3.7/site-packages/ipykernel_launcher.py:37: RuntimeWarning: Mean of empty slice.\n",
      "/opt/anaconda3/lib/python3.7/site-packages/numpy/core/_methods.py:170: RuntimeWarning: invalid value encountered in double_scalars\n",
      "  ret = ret.dtype.type(ret / rcount)\n",
      "1it [00:00,  8.63it/s]"
     ]
    },
    {
     "name": "stdout",
     "output_type": "stream",
     "text": [
      "Epoch: 86 | Epoch Time: 12.0m 6.64s\n",
      "\tTrain Loss: 0.046 | Train MSE: 0.017551730288679644 | Train R2: nan\n",
      "\t Val. Loss: 0.057 |  Val. MSE: 0.020567036991735576| Val. R2: 0.9783874200482469\n",
      "0.05552890406593186\n"
     ]
    },
    {
     "name": "stderr",
     "output_type": "stream",
     "text": [
      "7510it [12:28, 10.04it/s]\n",
      "/opt/anaconda3/lib/python3.7/site-packages/ipykernel_launcher.py:37: RuntimeWarning: Mean of empty slice.\n",
      "/opt/anaconda3/lib/python3.7/site-packages/numpy/core/_methods.py:170: RuntimeWarning: invalid value encountered in double_scalars\n",
      "  ret = ret.dtype.type(ret / rcount)\n",
      "2it [00:00, 11.28it/s]"
     ]
    },
    {
     "name": "stdout",
     "output_type": "stream",
     "text": [
      "Epoch: 87 | Epoch Time: 12.0m 43.13s\n",
      "\tTrain Loss: 0.045 | Train MSE: 0.017500764715721127 | Train R2: nan\n",
      "\t Val. Loss: 0.057 |  Val. MSE: 0.020499382808935658| Val. R2: 0.9778004664124565\n",
      "0.05552890406593186\n"
     ]
    },
    {
     "name": "stderr",
     "output_type": "stream",
     "text": [
      "7510it [12:05, 10.35it/s]\n",
      "/opt/anaconda3/lib/python3.7/site-packages/ipykernel_launcher.py:37: RuntimeWarning: Mean of empty slice.\n",
      "/opt/anaconda3/lib/python3.7/site-packages/numpy/core/_methods.py:170: RuntimeWarning: invalid value encountered in double_scalars\n",
      "  ret = ret.dtype.type(ret / rcount)\n",
      "2it [00:00, 10.78it/s]"
     ]
    },
    {
     "name": "stdout",
     "output_type": "stream",
     "text": [
      "Epoch: 88 | Epoch Time: 12.0m 20.60s\n",
      "\tTrain Loss: 0.045 | Train MSE: 0.017200711302499602 | Train R2: nan\n",
      "\t Val. Loss: 0.056 |  Val. MSE: 0.02057172112827381| Val. R2: 0.9762979835668343\n",
      "0.05552890406593186\n"
     ]
    },
    {
     "name": "stderr",
     "output_type": "stream",
     "text": [
      "7510it [12:23, 10.10it/s]\n",
      "/opt/anaconda3/lib/python3.7/site-packages/ipykernel_launcher.py:37: RuntimeWarning: Mean of empty slice.\n",
      "/opt/anaconda3/lib/python3.7/site-packages/numpy/core/_methods.py:170: RuntimeWarning: invalid value encountered in double_scalars\n",
      "  ret = ret.dtype.type(ret / rcount)\n",
      "2it [00:00, 10.47it/s]"
     ]
    },
    {
     "name": "stdout",
     "output_type": "stream",
     "text": [
      "Epoch: 89 | Epoch Time: 12.0m 38.24s\n",
      "\tTrain Loss: 0.045 | Train MSE: 0.01743875954915095 | Train R2: nan\n",
      "\t Val. Loss: 0.056 |  Val. MSE: 0.020475316466336962| Val. R2: 0.9790975390127135\n",
      "0.05552890406593186\n"
     ]
    },
    {
     "name": "stderr",
     "output_type": "stream",
     "text": [
      "7510it [12:03, 10.39it/s]\n",
      "/opt/anaconda3/lib/python3.7/site-packages/ipykernel_launcher.py:37: RuntimeWarning: Mean of empty slice.\n",
      "/opt/anaconda3/lib/python3.7/site-packages/numpy/core/_methods.py:170: RuntimeWarning: invalid value encountered in double_scalars\n",
      "  ret = ret.dtype.type(ret / rcount)\n"
     ]
    },
    {
     "name": "stdout",
     "output_type": "stream",
     "text": [
      "Epoch: 90 | Epoch Time: 12.0m 18.03s\n",
      "\tTrain Loss: 0.045 | Train MSE: 0.017505278662969803 | Train R2: nan\n",
      "\t Val. Loss: 0.056 |  Val. MSE: 0.020621076557652402| Val. R2: 0.979990806984105\n",
      "0.05552890406593186\n"
     ]
    },
    {
     "name": "stderr",
     "output_type": "stream",
     "text": [
      "2it [00:00, 10.92it/s]"
     ]
    },
    {
     "name": "stdout",
     "output_type": "stream",
     "text": [
      "\t Test. Loss: 0.057 |  Val. MSE: 0.09558136340061668| Val. R2: 0.9796109425088354\n"
     ]
    },
    {
     "name": "stderr",
     "output_type": "stream",
     "text": [
      "7510it [10:33, 11.85it/s]\n",
      "/opt/anaconda3/lib/python3.7/site-packages/ipykernel_launcher.py:37: RuntimeWarning: Mean of empty slice.\n",
      "/opt/anaconda3/lib/python3.7/site-packages/numpy/core/_methods.py:170: RuntimeWarning: invalid value encountered in double_scalars\n",
      "  ret = ret.dtype.type(ret / rcount)\n",
      "2it [00:00, 13.06it/s]"
     ]
    },
    {
     "name": "stdout",
     "output_type": "stream",
     "text": [
      "Epoch: 91 | Epoch Time: 10.0m 48.82s\n",
      "\tTrain Loss: 0.045 | Train MSE: 0.017269506505892325 | Train R2: nan\n",
      "\t Val. Loss: 0.057 |  Val. MSE: 0.020839676856891014| Val. R2: 0.9757158766165341\n",
      "0.05552890406593186\n"
     ]
    },
    {
     "name": "stderr",
     "output_type": "stream",
     "text": [
      "7510it [11:18, 11.07it/s]\n",
      "/opt/anaconda3/lib/python3.7/site-packages/ipykernel_launcher.py:37: RuntimeWarning: Mean of empty slice.\n",
      "/opt/anaconda3/lib/python3.7/site-packages/numpy/core/_methods.py:170: RuntimeWarning: invalid value encountered in double_scalars\n",
      "  ret = ret.dtype.type(ret / rcount)\n",
      "2it [00:00, 11.04it/s]"
     ]
    },
    {
     "name": "stdout",
     "output_type": "stream",
     "text": [
      "Epoch: 92 | Epoch Time: 11.0m 33.61s\n",
      "\tTrain Loss: 0.045 | Train MSE: 0.016938341188309784 | Train R2: nan\n",
      "\t Val. Loss: 0.057 |  Val. MSE: 0.02093272656593415| Val. R2: 0.9804766087551796\n",
      "0.05552890406593186\n"
     ]
    },
    {
     "name": "stderr",
     "output_type": "stream",
     "text": [
      "7510it [11:40, 10.73it/s]\n",
      "/opt/anaconda3/lib/python3.7/site-packages/ipykernel_launcher.py:37: RuntimeWarning: Mean of empty slice.\n",
      "/opt/anaconda3/lib/python3.7/site-packages/numpy/core/_methods.py:170: RuntimeWarning: invalid value encountered in double_scalars\n",
      "  ret = ret.dtype.type(ret / rcount)\n",
      "1it [00:00,  9.32it/s]"
     ]
    },
    {
     "name": "stdout",
     "output_type": "stream",
     "text": [
      "Epoch: 93 | Epoch Time: 12.0m 0.35s\n",
      "\tTrain Loss: 0.045 | Train MSE: 0.01718267092271541 | Train R2: nan\n",
      "\t Val. Loss: 0.056 |  Val. MSE: 0.020601792521669122| Val. R2: 0.9762415862763016\n",
      "0.05552890406593186\n"
     ]
    },
    {
     "name": "stderr",
     "output_type": "stream",
     "text": [
      "7510it [13:15,  9.44it/s]\n",
      "/opt/anaconda3/lib/python3.7/site-packages/ipykernel_launcher.py:37: RuntimeWarning: Mean of empty slice.\n",
      "/opt/anaconda3/lib/python3.7/site-packages/numpy/core/_methods.py:170: RuntimeWarning: invalid value encountered in double_scalars\n",
      "  ret = ret.dtype.type(ret / rcount)\n",
      "1it [00:00,  8.74it/s]"
     ]
    },
    {
     "name": "stdout",
     "output_type": "stream",
     "text": [
      "Epoch: 94 | Epoch Time: 13.0m 36.44s\n",
      "\tTrain Loss: 0.045 | Train MSE: 0.017101710071119245 | Train R2: nan\n",
      "\t Val. Loss: 0.057 |  Val. MSE: 0.021040602707261193| Val. R2: 0.9768058379664959\n",
      "0.05552890406593186\n"
     ]
    },
    {
     "name": "stderr",
     "output_type": "stream",
     "text": [
      "7510it [12:40,  9.88it/s]\n",
      "/opt/anaconda3/lib/python3.7/site-packages/ipykernel_launcher.py:37: RuntimeWarning: Mean of empty slice.\n",
      "/opt/anaconda3/lib/python3.7/site-packages/numpy/core/_methods.py:170: RuntimeWarning: invalid value encountered in double_scalars\n",
      "  ret = ret.dtype.type(ret / rcount)\n"
     ]
    },
    {
     "name": "stdout",
     "output_type": "stream",
     "text": [
      "Epoch: 95 | Epoch Time: 12.0m 54.93s\n",
      "\tTrain Loss: 0.045 | Train MSE: 0.016795180414741716 | Train R2: nan\n",
      "\t Val. Loss: 0.056 |  Val. MSE: 0.020431376728293222| Val. R2: 0.9781957076708008\n",
      "0.05552890406593186\n"
     ]
    },
    {
     "name": "stderr",
     "output_type": "stream",
     "text": [
      "1it [00:00,  8.30it/s]"
     ]
    },
    {
     "name": "stdout",
     "output_type": "stream",
     "text": [
      "\t Test. Loss: 0.056 |  Val. MSE: 0.09455311129009432| Val. R2: 0.9817397997777965\n"
     ]
    },
    {
     "name": "stderr",
     "output_type": "stream",
     "text": [
      "7510it [12:02, 10.40it/s]\n",
      "/opt/anaconda3/lib/python3.7/site-packages/ipykernel_launcher.py:37: RuntimeWarning: Mean of empty slice.\n",
      "/opt/anaconda3/lib/python3.7/site-packages/numpy/core/_methods.py:170: RuntimeWarning: invalid value encountered in double_scalars\n",
      "  ret = ret.dtype.type(ret / rcount)\n",
      "2it [00:00, 12.98it/s]"
     ]
    },
    {
     "name": "stdout",
     "output_type": "stream",
     "text": [
      "Epoch: 96 | Epoch Time: 12.0m 17.34s\n",
      "\tTrain Loss: 0.044 | Train MSE: 0.01682050896830556 | Train R2: nan\n",
      "\t Val. Loss: 0.056 |  Val. MSE: 0.02049659255775318| Val. R2: 0.9771832217041476\n",
      "0.05552890406593186\n"
     ]
    },
    {
     "name": "stderr",
     "output_type": "stream",
     "text": [
      "7510it [12:14, 10.22it/s]\n",
      "/opt/anaconda3/lib/python3.7/site-packages/ipykernel_launcher.py:37: RuntimeWarning: Mean of empty slice.\n",
      "/opt/anaconda3/lib/python3.7/site-packages/numpy/core/_methods.py:170: RuntimeWarning: invalid value encountered in double_scalars\n",
      "  ret = ret.dtype.type(ret / rcount)\n",
      "2it [00:00, 13.17it/s]"
     ]
    },
    {
     "name": "stdout",
     "output_type": "stream",
     "text": [
      "Epoch: 97 | Epoch Time: 12.0m 29.55s\n",
      "\tTrain Loss: 0.044 | Train MSE: 0.016805201860106523 | Train R2: nan\n",
      "\t Val. Loss: 0.056 |  Val. MSE: 0.020296152331028255| Val. R2: 0.9806427567623089\n",
      "0.05552890406593186\n"
     ]
    },
    {
     "name": "stderr",
     "output_type": "stream",
     "text": [
      "7510it [12:03, 10.39it/s]\n",
      "/opt/anaconda3/lib/python3.7/site-packages/ipykernel_launcher.py:37: RuntimeWarning: Mean of empty slice.\n",
      "/opt/anaconda3/lib/python3.7/site-packages/numpy/core/_methods.py:170: RuntimeWarning: invalid value encountered in double_scalars\n",
      "  ret = ret.dtype.type(ret / rcount)\n",
      "1it [00:00,  8.98it/s]"
     ]
    },
    {
     "name": "stdout",
     "output_type": "stream",
     "text": [
      "Epoch: 98 | Epoch Time: 12.0m 22.34s\n",
      "\tTrain Loss: 0.044 | Train MSE: 0.016771875474451407 | Train R2: nan\n",
      "\t Val. Loss: 0.056 |  Val. MSE: 0.020364157509832885| Val. R2: 0.9790713909994583\n",
      "0.05552890406593186\n"
     ]
    },
    {
     "name": "stderr",
     "output_type": "stream",
     "text": [
      "7510it [13:19,  9.39it/s]\n",
      "/opt/anaconda3/lib/python3.7/site-packages/ipykernel_launcher.py:37: RuntimeWarning: Mean of empty slice.\n",
      "/opt/anaconda3/lib/python3.7/site-packages/numpy/core/_methods.py:170: RuntimeWarning: invalid value encountered in double_scalars\n",
      "  ret = ret.dtype.type(ret / rcount)\n",
      "1it [00:00,  7.79it/s]"
     ]
    },
    {
     "name": "stdout",
     "output_type": "stream",
     "text": [
      "Epoch: 99 | Epoch Time: 13.0m 39.52s\n",
      "\tTrain Loss: 0.044 | Train MSE: 0.016659245995951002 | Train R2: nan\n",
      "\t Val. Loss: 0.056 |  Val. MSE: 0.020476500720829363| Val. R2: 0.9782574319215879\n",
      "0.05551719302100245\n"
     ]
    },
    {
     "name": "stderr",
     "output_type": "stream",
     "text": [
      "7510it [11:43, 10.68it/s]\n",
      "/opt/anaconda3/lib/python3.7/site-packages/ipykernel_launcher.py:37: RuntimeWarning: Mean of empty slice.\n",
      "/opt/anaconda3/lib/python3.7/site-packages/numpy/core/_methods.py:170: RuntimeWarning: invalid value encountered in double_scalars\n",
      "  ret = ret.dtype.type(ret / rcount)\n"
     ]
    },
    {
     "name": "stdout",
     "output_type": "stream",
     "text": [
      "Epoch: 100 | Epoch Time: 11.0m 57.97s\n",
      "\tTrain Loss: 0.044 | Train MSE: 0.01669866471897737 | Train R2: nan\n",
      "\t Val. Loss: 0.056 |  Val. MSE: 0.020683922139770494| Val. R2: 0.9797469004413722\n",
      "0.05551719302100245\n",
      "\t Test. Loss: 0.056 |  Val. MSE: 0.09412435430344226| Val. R2: 0.9790549020785603\n",
      "\t Test. Loss: 0.056 |  Val. MSE: 0.09510481644366554| Val. R2: 0.981876386075761\n"
     ]
    }
   ],
   "source": [
    "temp_lr = 9.96e-5\n",
    "optimizer = optim.Adam(fineTuneModel.parameters(), lr=temp_lr)\n",
    "for epoch in range(100):\n",
    "    # data iterator\n",
    "    temp_lr *= 0.98\n",
    "    optimizer = optim.Adam(fineTuneModel.parameters(), lr=temp_lr)  \n",
    "    train_batch = BatchSampler(BATCH_SIZE, mol_train_set)\n",
    "    eval_batch = BatchSampler(BATCH_SIZE, mol_eval_set)\n",
    "    test_batch = BatchSampler(BATCH_SIZE, mol_test_set)\n",
    "\n",
    "    train_iterator = iter(train_batch)\n",
    "    start_time = time.time()\n",
    "    train_loss, train_acc, train_r2 = train(fineTuneModel, train_iterator, optimizer, criteon)\n",
    "\n",
    "    eval_iterator = iter(eval_batch)\n",
    "    dev_loss, dev_acc, dev_r2 = evaluate(fineTuneModel, eval_iterator, criteon)\n",
    "    end_time = time.time()\n",
    "\n",
    "    epoch_mins, epoch_secs = divmod(end_time - start_time, 60)\n",
    "\n",
    "    if dev_loss < best_valid_acc:  # 只要模型效果变好，就保存\n",
    "        count = 0\n",
    "        best_valid_acc = dev_loss\n",
    "        torch.save(fineTuneModel.state_dict(), \"class-10.pt\")\n",
    "    else:\n",
    "        count += 1\n",
    "        if count >= 30:\n",
    "            out += 1\n",
    "            print(out)\n",
    "\n",
    "    print(f'Epoch: {epoch + 1:02} | Epoch Time: {epoch_mins}m {epoch_secs:.2f}s')\n",
    "    print(f'\\tTrain Loss: {train_loss:.3f} | Train MSE: {train_acc} | Train R2: {train_r2}')\n",
    "    print(f'\\t Val. Loss: {dev_loss:.3f} |  Val. MSE: {dev_acc}| Val. R2: {dev_r2}')\n",
    "    print(best_valid_acc)\n",
    "\n",
    "    if (epoch + 1) % 5 == 0:\n",
    "        test_iterator = iter(test_batch)\n",
    "        test_loss, test_acc, test_r2 = test(fineTuneModel, test_iterator, criteon)\n",
    "        print(f'\\t Test. Loss: {test_loss:.3f} |  Val. MSE: {test_acc}| Val. R2: {test_r2}')\n",
    "    val.append(dev_loss)\n",
    "    tra.append(train_loss)\n",
    "\n",
    "    # CosineLR.step()\n",
    "# 0.122 0.193 0.128 0.113\n",
    "# 0.100 0.174 0.131\n",
    "# 0.107 0.167  0.102\n",
    "fineTuneModel.load_state_dict(torch.load(\"class-10.pt\"))\n",
    "test_batch = BatchSampler(BATCH_SIZE, mol_test_set)\n",
    "test_iterator = iter(test_batch)\n",
    "test_loss, test_acc, test_r2 = test(fineTuneModel, test_iterator, criteon)\n",
    "print(f'\\t Test. Loss: {test_loss:.3f} |  Val. MSE: {test_acc}| Val. R2: {test_r2}')"
   ]
  }
 ],
 "metadata": {
  "kernelspec": {
   "display_name": "Python 3 (ipykernel)",
   "language": "python",
   "name": "python3"
  },
  "language_info": {
   "codemirror_mode": {
    "name": "ipython",
    "version": 3
   },
   "file_extension": ".py",
   "mimetype": "text/x-python",
   "name": "python",
   "nbconvert_exporter": "python",
   "pygments_lexer": "ipython3",
   "version": "3.7.11"
  }
 },
 "nbformat": 4,
 "nbformat_minor": 2
}
